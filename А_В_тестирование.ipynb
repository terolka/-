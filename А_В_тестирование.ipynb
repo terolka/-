{
  "cells": [
    {
      "cell_type": "markdown",
      "metadata": {
        "id": "_wjc2Zc4hKbP"
      },
      "source": [
        "# A/B-тестирование"
      ]
    },
    {
      "cell_type": "markdown",
      "metadata": {
        "id": "IxYbNx3ShKbP"
      },
      "source": [
        "# Постановка задачи"
      ]
    },
    {
      "cell_type": "markdown",
      "metadata": {
        "id": "qI4-AY3ZhKbP"
      },
      "source": [
        "Ваша задача — провести оценку результатов A/B-теста. В вашем распоряжении есть датасет с действиями пользователей, техническое задание и несколько вспомогательных датасетов.\n",
        "- Оцените корректность проведения теста\n",
        "- Проанализируйте результаты теста.\n",
        "\n",
        "Чтобы оценить корректность проведения теста, проверьте:\n",
        "- пересечение тестовой аудитории с конкурирующим тестом,\n",
        "- совпадение теста и маркетинговых событий, другие проблемы временных границ теста."
      ]
    },
    {
      "cell_type": "markdown",
      "metadata": {
        "id": "xc3ZZ7jDhKbP"
      },
      "source": [
        "# Техническое задание"
      ]
    },
    {
      "cell_type": "markdown",
      "metadata": {
        "id": "8WH0ylKYhKbP"
      },
      "source": [
        "- Название теста: `recommender_system_test`;\n",
        "- группы: А — контрольная, B — новая платёжная воронка;\n",
        "- дата запуска: 2020-12-07;\n",
        "- дата остановки набора новых пользователей: 2020-12-21;\n",
        "- дата остановки: 2021-01-04;\n",
        "- аудитория: 15% новых пользователей из региона EU;\n",
        "- назначение теста: тестирование изменений, связанных с внедрением улучшенной рекомендательной системы;\n",
        "- ожидаемое количество участников теста: 6000.\n",
        "- ожидаемый эффект: за 14 дней с момента регистрации пользователи покажут улучшение каждой метрики не менее, чем на 10%:\n",
        "    - конверсии в просмотр карточек товаров — событие `product_page`,\n",
        "    - просмотры корзины — `product_cart`,\n",
        "    - покупки — `purchase`."
      ]
    },
    {
      "cell_type": "markdown",
      "metadata": {
        "id": "2abPvDvkhKbu"
      },
      "source": [
        "## Загрузка данных и предобработка"
      ]
    },
    {
      "cell_type": "markdown",
      "metadata": {
        "id": "CYa3I6KIhKbu"
      },
      "source": [
        "### Загрузка данных.Требуется ли преобразование типов?"
      ]
    },
    {
      "cell_type": "code",
      "execution_count": 3,
      "metadata": {
        "id": "KYLaSEgvhKbu"
      },
      "outputs": [],
      "source": [
        "import pandas as pd\n",
        "import numpy as np\n",
        "from matplotlib import pyplot as plt\n",
        "import seaborn as sns\n",
        "import math as mth\n",
        "\n",
        "from scipy import stats as st\n",
        "\n",
        "from datetime import timedelta\n",
        "import datetime as dt\n",
        "from plotly import graph_objects as go\n",
        "\n",
        "from statsmodels.stats.proportion import proportions_ztest\n",
        "import warnings\n",
        "\n",
        "warnings.filterwarnings('ignore')"
      ]
    },
    {
      "cell_type": "markdown",
      "metadata": {
        "id": "Eo3J7DQNhKb-"
      },
      "source": [
        "**Таблица final_ab_events.csv**"
      ]
    },
    {
      "cell_type": "code",
      "execution_count": 4,
      "metadata": {
        "id": "lDX1TipGhKb-",
        "outputId": "6370ff49-b614-4c4d-c8c9-1f37a685ffe7",
        "colab": {
          "base_uri": "https://localhost:8080/",
          "height": 397
        }
      },
      "outputs": [
        {
          "output_type": "stream",
          "name": "stdout",
          "text": [
            "<class 'pandas.core.frame.DataFrame'>\n",
            "RangeIndex: 440317 entries, 0 to 440316\n",
            "Data columns (total 4 columns):\n",
            " #   Column      Non-Null Count   Dtype  \n",
            "---  ------      --------------   -----  \n",
            " 0   user_id     440317 non-null  object \n",
            " 1   event_dt    440317 non-null  object \n",
            " 2   event_name  440317 non-null  object \n",
            " 3   details     62740 non-null   float64\n",
            "dtypes: float64(1), object(3)\n",
            "memory usage: 13.4+ MB\n"
          ]
        },
        {
          "output_type": "execute_result",
          "data": {
            "text/plain": [
              "            user_id             event_dt event_name  details\n",
              "0  E1BDDCE0DAFA2679  2020-12-07 20:22:03   purchase    99.99\n",
              "1  7B6452F081F49504  2020-12-07 09:22:53   purchase     9.99\n",
              "2  9CD9F34546DF254C  2020-12-07 12:59:29   purchase     4.99\n",
              "3  96F27A054B191457  2020-12-07 04:02:40   purchase     4.99\n",
              "4  1FD7660FDF94CA1F  2020-12-07 10:15:09   purchase     4.99"
            ],
            "text/html": [
              "\n",
              "  <div id=\"df-a24b031c-aa8a-4dca-94b0-d962d856b66e\">\n",
              "    <div class=\"colab-df-container\">\n",
              "      <div>\n",
              "<style scoped>\n",
              "    .dataframe tbody tr th:only-of-type {\n",
              "        vertical-align: middle;\n",
              "    }\n",
              "\n",
              "    .dataframe tbody tr th {\n",
              "        vertical-align: top;\n",
              "    }\n",
              "\n",
              "    .dataframe thead th {\n",
              "        text-align: right;\n",
              "    }\n",
              "</style>\n",
              "<table border=\"1\" class=\"dataframe\">\n",
              "  <thead>\n",
              "    <tr style=\"text-align: right;\">\n",
              "      <th></th>\n",
              "      <th>user_id</th>\n",
              "      <th>event_dt</th>\n",
              "      <th>event_name</th>\n",
              "      <th>details</th>\n",
              "    </tr>\n",
              "  </thead>\n",
              "  <tbody>\n",
              "    <tr>\n",
              "      <th>0</th>\n",
              "      <td>E1BDDCE0DAFA2679</td>\n",
              "      <td>2020-12-07 20:22:03</td>\n",
              "      <td>purchase</td>\n",
              "      <td>99.99</td>\n",
              "    </tr>\n",
              "    <tr>\n",
              "      <th>1</th>\n",
              "      <td>7B6452F081F49504</td>\n",
              "      <td>2020-12-07 09:22:53</td>\n",
              "      <td>purchase</td>\n",
              "      <td>9.99</td>\n",
              "    </tr>\n",
              "    <tr>\n",
              "      <th>2</th>\n",
              "      <td>9CD9F34546DF254C</td>\n",
              "      <td>2020-12-07 12:59:29</td>\n",
              "      <td>purchase</td>\n",
              "      <td>4.99</td>\n",
              "    </tr>\n",
              "    <tr>\n",
              "      <th>3</th>\n",
              "      <td>96F27A054B191457</td>\n",
              "      <td>2020-12-07 04:02:40</td>\n",
              "      <td>purchase</td>\n",
              "      <td>4.99</td>\n",
              "    </tr>\n",
              "    <tr>\n",
              "      <th>4</th>\n",
              "      <td>1FD7660FDF94CA1F</td>\n",
              "      <td>2020-12-07 10:15:09</td>\n",
              "      <td>purchase</td>\n",
              "      <td>4.99</td>\n",
              "    </tr>\n",
              "  </tbody>\n",
              "</table>\n",
              "</div>\n",
              "      <button class=\"colab-df-convert\" onclick=\"convertToInteractive('df-a24b031c-aa8a-4dca-94b0-d962d856b66e')\"\n",
              "              title=\"Convert this dataframe to an interactive table.\"\n",
              "              style=\"display:none;\">\n",
              "        \n",
              "  <svg xmlns=\"http://www.w3.org/2000/svg\" height=\"24px\"viewBox=\"0 0 24 24\"\n",
              "       width=\"24px\">\n",
              "    <path d=\"M0 0h24v24H0V0z\" fill=\"none\"/>\n",
              "    <path d=\"M18.56 5.44l.94 2.06.94-2.06 2.06-.94-2.06-.94-.94-2.06-.94 2.06-2.06.94zm-11 1L8.5 8.5l.94-2.06 2.06-.94-2.06-.94L8.5 2.5l-.94 2.06-2.06.94zm10 10l.94 2.06.94-2.06 2.06-.94-2.06-.94-.94-2.06-.94 2.06-2.06.94z\"/><path d=\"M17.41 7.96l-1.37-1.37c-.4-.4-.92-.59-1.43-.59-.52 0-1.04.2-1.43.59L10.3 9.45l-7.72 7.72c-.78.78-.78 2.05 0 2.83L4 21.41c.39.39.9.59 1.41.59.51 0 1.02-.2 1.41-.59l7.78-7.78 2.81-2.81c.8-.78.8-2.07 0-2.86zM5.41 20L4 18.59l7.72-7.72 1.47 1.35L5.41 20z\"/>\n",
              "  </svg>\n",
              "      </button>\n",
              "      \n",
              "  <style>\n",
              "    .colab-df-container {\n",
              "      display:flex;\n",
              "      flex-wrap:wrap;\n",
              "      gap: 12px;\n",
              "    }\n",
              "\n",
              "    .colab-df-convert {\n",
              "      background-color: #E8F0FE;\n",
              "      border: none;\n",
              "      border-radius: 50%;\n",
              "      cursor: pointer;\n",
              "      display: none;\n",
              "      fill: #1967D2;\n",
              "      height: 32px;\n",
              "      padding: 0 0 0 0;\n",
              "      width: 32px;\n",
              "    }\n",
              "\n",
              "    .colab-df-convert:hover {\n",
              "      background-color: #E2EBFA;\n",
              "      box-shadow: 0px 1px 2px rgba(60, 64, 67, 0.3), 0px 1px 3px 1px rgba(60, 64, 67, 0.15);\n",
              "      fill: #174EA6;\n",
              "    }\n",
              "\n",
              "    [theme=dark] .colab-df-convert {\n",
              "      background-color: #3B4455;\n",
              "      fill: #D2E3FC;\n",
              "    }\n",
              "\n",
              "    [theme=dark] .colab-df-convert:hover {\n",
              "      background-color: #434B5C;\n",
              "      box-shadow: 0px 1px 3px 1px rgba(0, 0, 0, 0.15);\n",
              "      filter: drop-shadow(0px 1px 2px rgba(0, 0, 0, 0.3));\n",
              "      fill: #FFFFFF;\n",
              "    }\n",
              "  </style>\n",
              "\n",
              "      <script>\n",
              "        const buttonEl =\n",
              "          document.querySelector('#df-a24b031c-aa8a-4dca-94b0-d962d856b66e button.colab-df-convert');\n",
              "        buttonEl.style.display =\n",
              "          google.colab.kernel.accessAllowed ? 'block' : 'none';\n",
              "\n",
              "        async function convertToInteractive(key) {\n",
              "          const element = document.querySelector('#df-a24b031c-aa8a-4dca-94b0-d962d856b66e');\n",
              "          const dataTable =\n",
              "            await google.colab.kernel.invokeFunction('convertToInteractive',\n",
              "                                                     [key], {});\n",
              "          if (!dataTable) return;\n",
              "\n",
              "          const docLinkHtml = 'Like what you see? Visit the ' +\n",
              "            '<a target=\"_blank\" href=https://colab.research.google.com/notebooks/data_table.ipynb>data table notebook</a>'\n",
              "            + ' to learn more about interactive tables.';\n",
              "          element.innerHTML = '';\n",
              "          dataTable['output_type'] = 'display_data';\n",
              "          await google.colab.output.renderOutput(dataTable, element);\n",
              "          const docLink = document.createElement('div');\n",
              "          docLink.innerHTML = docLinkHtml;\n",
              "          element.appendChild(docLink);\n",
              "        }\n",
              "      </script>\n",
              "    </div>\n",
              "  </div>\n",
              "  "
            ]
          },
          "metadata": {},
          "execution_count": 4
        }
      ],
      "source": [
        "ab_events = pd.read_csv('https://code.s3.yandex.net/datasets/final_ab_events.csv', sep=',')\n",
        "ab_events.info()\n",
        "ab_events.head()"
      ]
    },
    {
      "cell_type": "markdown",
      "metadata": {
        "id": "knrvYhfNhKb-"
      },
      "source": [
        "Тип данных с датой следует заменить на datetime, остальные типы корректные."
      ]
    },
    {
      "cell_type": "code",
      "execution_count": 5,
      "metadata": {
        "id": "o39dLcpGhKb-"
      },
      "outputs": [],
      "source": [
        "ab_events['event_dt'] = pd.to_datetime(ab_events['event_dt'])"
      ]
    },
    {
      "cell_type": "markdown",
      "metadata": {
        "id": "FQjP3kXthKb-"
      },
      "source": [
        "**Таблица ab_project_marketing_events.csv**"
      ]
    },
    {
      "cell_type": "code",
      "execution_count": 6,
      "metadata": {
        "id": "QvwyIb-chKb-",
        "colab": {
          "base_uri": "https://localhost:8080/",
          "height": 397
        },
        "outputId": "75488dc0-ce34-4229-b08c-cdb48381c2ab"
      },
      "outputs": [
        {
          "output_type": "stream",
          "name": "stdout",
          "text": [
            "<class 'pandas.core.frame.DataFrame'>\n",
            "RangeIndex: 14 entries, 0 to 13\n",
            "Data columns (total 4 columns):\n",
            " #   Column     Non-Null Count  Dtype \n",
            "---  ------     --------------  ----- \n",
            " 0   name       14 non-null     object\n",
            " 1   regions    14 non-null     object\n",
            " 2   start_dt   14 non-null     object\n",
            " 3   finish_dt  14 non-null     object\n",
            "dtypes: object(4)\n",
            "memory usage: 576.0+ bytes\n"
          ]
        },
        {
          "output_type": "execute_result",
          "data": {
            "text/plain": [
              "                           name                   regions    start_dt  \\\n",
              "0      Christmas&New Year Promo             EU, N.America  2020-12-25   \n",
              "1  St. Valentine's Day Giveaway  EU, CIS, APAC, N.America  2020-02-14   \n",
              "2        St. Patric's Day Promo             EU, N.America  2020-03-17   \n",
              "3                  Easter Promo  EU, CIS, APAC, N.America  2020-04-12   \n",
              "4             4th of July Promo                 N.America  2020-07-04   \n",
              "\n",
              "    finish_dt  \n",
              "0  2021-01-03  \n",
              "1  2020-02-16  \n",
              "2  2020-03-19  \n",
              "3  2020-04-19  \n",
              "4  2020-07-11  "
            ],
            "text/html": [
              "\n",
              "  <div id=\"df-8c2a6f91-9417-4baf-b200-ba1eab2df8c6\">\n",
              "    <div class=\"colab-df-container\">\n",
              "      <div>\n",
              "<style scoped>\n",
              "    .dataframe tbody tr th:only-of-type {\n",
              "        vertical-align: middle;\n",
              "    }\n",
              "\n",
              "    .dataframe tbody tr th {\n",
              "        vertical-align: top;\n",
              "    }\n",
              "\n",
              "    .dataframe thead th {\n",
              "        text-align: right;\n",
              "    }\n",
              "</style>\n",
              "<table border=\"1\" class=\"dataframe\">\n",
              "  <thead>\n",
              "    <tr style=\"text-align: right;\">\n",
              "      <th></th>\n",
              "      <th>name</th>\n",
              "      <th>regions</th>\n",
              "      <th>start_dt</th>\n",
              "      <th>finish_dt</th>\n",
              "    </tr>\n",
              "  </thead>\n",
              "  <tbody>\n",
              "    <tr>\n",
              "      <th>0</th>\n",
              "      <td>Christmas&amp;New Year Promo</td>\n",
              "      <td>EU, N.America</td>\n",
              "      <td>2020-12-25</td>\n",
              "      <td>2021-01-03</td>\n",
              "    </tr>\n",
              "    <tr>\n",
              "      <th>1</th>\n",
              "      <td>St. Valentine's Day Giveaway</td>\n",
              "      <td>EU, CIS, APAC, N.America</td>\n",
              "      <td>2020-02-14</td>\n",
              "      <td>2020-02-16</td>\n",
              "    </tr>\n",
              "    <tr>\n",
              "      <th>2</th>\n",
              "      <td>St. Patric's Day Promo</td>\n",
              "      <td>EU, N.America</td>\n",
              "      <td>2020-03-17</td>\n",
              "      <td>2020-03-19</td>\n",
              "    </tr>\n",
              "    <tr>\n",
              "      <th>3</th>\n",
              "      <td>Easter Promo</td>\n",
              "      <td>EU, CIS, APAC, N.America</td>\n",
              "      <td>2020-04-12</td>\n",
              "      <td>2020-04-19</td>\n",
              "    </tr>\n",
              "    <tr>\n",
              "      <th>4</th>\n",
              "      <td>4th of July Promo</td>\n",
              "      <td>N.America</td>\n",
              "      <td>2020-07-04</td>\n",
              "      <td>2020-07-11</td>\n",
              "    </tr>\n",
              "  </tbody>\n",
              "</table>\n",
              "</div>\n",
              "      <button class=\"colab-df-convert\" onclick=\"convertToInteractive('df-8c2a6f91-9417-4baf-b200-ba1eab2df8c6')\"\n",
              "              title=\"Convert this dataframe to an interactive table.\"\n",
              "              style=\"display:none;\">\n",
              "        \n",
              "  <svg xmlns=\"http://www.w3.org/2000/svg\" height=\"24px\"viewBox=\"0 0 24 24\"\n",
              "       width=\"24px\">\n",
              "    <path d=\"M0 0h24v24H0V0z\" fill=\"none\"/>\n",
              "    <path d=\"M18.56 5.44l.94 2.06.94-2.06 2.06-.94-2.06-.94-.94-2.06-.94 2.06-2.06.94zm-11 1L8.5 8.5l.94-2.06 2.06-.94-2.06-.94L8.5 2.5l-.94 2.06-2.06.94zm10 10l.94 2.06.94-2.06 2.06-.94-2.06-.94-.94-2.06-.94 2.06-2.06.94z\"/><path d=\"M17.41 7.96l-1.37-1.37c-.4-.4-.92-.59-1.43-.59-.52 0-1.04.2-1.43.59L10.3 9.45l-7.72 7.72c-.78.78-.78 2.05 0 2.83L4 21.41c.39.39.9.59 1.41.59.51 0 1.02-.2 1.41-.59l7.78-7.78 2.81-2.81c.8-.78.8-2.07 0-2.86zM5.41 20L4 18.59l7.72-7.72 1.47 1.35L5.41 20z\"/>\n",
              "  </svg>\n",
              "      </button>\n",
              "      \n",
              "  <style>\n",
              "    .colab-df-container {\n",
              "      display:flex;\n",
              "      flex-wrap:wrap;\n",
              "      gap: 12px;\n",
              "    }\n",
              "\n",
              "    .colab-df-convert {\n",
              "      background-color: #E8F0FE;\n",
              "      border: none;\n",
              "      border-radius: 50%;\n",
              "      cursor: pointer;\n",
              "      display: none;\n",
              "      fill: #1967D2;\n",
              "      height: 32px;\n",
              "      padding: 0 0 0 0;\n",
              "      width: 32px;\n",
              "    }\n",
              "\n",
              "    .colab-df-convert:hover {\n",
              "      background-color: #E2EBFA;\n",
              "      box-shadow: 0px 1px 2px rgba(60, 64, 67, 0.3), 0px 1px 3px 1px rgba(60, 64, 67, 0.15);\n",
              "      fill: #174EA6;\n",
              "    }\n",
              "\n",
              "    [theme=dark] .colab-df-convert {\n",
              "      background-color: #3B4455;\n",
              "      fill: #D2E3FC;\n",
              "    }\n",
              "\n",
              "    [theme=dark] .colab-df-convert:hover {\n",
              "      background-color: #434B5C;\n",
              "      box-shadow: 0px 1px 3px 1px rgba(0, 0, 0, 0.15);\n",
              "      filter: drop-shadow(0px 1px 2px rgba(0, 0, 0, 0.3));\n",
              "      fill: #FFFFFF;\n",
              "    }\n",
              "  </style>\n",
              "\n",
              "      <script>\n",
              "        const buttonEl =\n",
              "          document.querySelector('#df-8c2a6f91-9417-4baf-b200-ba1eab2df8c6 button.colab-df-convert');\n",
              "        buttonEl.style.display =\n",
              "          google.colab.kernel.accessAllowed ? 'block' : 'none';\n",
              "\n",
              "        async function convertToInteractive(key) {\n",
              "          const element = document.querySelector('#df-8c2a6f91-9417-4baf-b200-ba1eab2df8c6');\n",
              "          const dataTable =\n",
              "            await google.colab.kernel.invokeFunction('convertToInteractive',\n",
              "                                                     [key], {});\n",
              "          if (!dataTable) return;\n",
              "\n",
              "          const docLinkHtml = 'Like what you see? Visit the ' +\n",
              "            '<a target=\"_blank\" href=https://colab.research.google.com/notebooks/data_table.ipynb>data table notebook</a>'\n",
              "            + ' to learn more about interactive tables.';\n",
              "          element.innerHTML = '';\n",
              "          dataTable['output_type'] = 'display_data';\n",
              "          await google.colab.output.renderOutput(dataTable, element);\n",
              "          const docLink = document.createElement('div');\n",
              "          docLink.innerHTML = docLinkHtml;\n",
              "          element.appendChild(docLink);\n",
              "        }\n",
              "      </script>\n",
              "    </div>\n",
              "  </div>\n",
              "  "
            ]
          },
          "metadata": {},
          "execution_count": 6
        }
      ],
      "source": [
        "marketin_events = pd.read_csv('https://code.s3.yandex.net/datasets/ab_project_marketing_events.csv', sep=',')\n",
        "marketin_events.info()\n",
        "marketin_events.head()"
      ]
    },
    {
      "cell_type": "markdown",
      "metadata": {
        "id": "xtVsn12mhKcN"
      },
      "source": [
        "Здесь также типы данных с датой следует заменить на datetime"
      ]
    },
    {
      "cell_type": "code",
      "execution_count": 7,
      "metadata": {
        "scrolled": false,
        "id": "_20O4SinhKcN",
        "colab": {
          "base_uri": "https://localhost:8080/"
        },
        "outputId": "1f863ca6-0066-4719-a22e-25e29b484833"
      },
      "outputs": [
        {
          "output_type": "stream",
          "name": "stdout",
          "text": [
            "<class 'pandas.core.frame.DataFrame'>\n",
            "RangeIndex: 14 entries, 0 to 13\n",
            "Data columns (total 4 columns):\n",
            " #   Column     Non-Null Count  Dtype         \n",
            "---  ------     --------------  -----         \n",
            " 0   name       14 non-null     object        \n",
            " 1   regions    14 non-null     object        \n",
            " 2   start_dt   14 non-null     datetime64[ns]\n",
            " 3   finish_dt  14 non-null     datetime64[ns]\n",
            "dtypes: datetime64[ns](2), object(2)\n",
            "memory usage: 576.0+ bytes\n"
          ]
        }
      ],
      "source": [
        "marketin_events_prob = pd.read_csv('https://code.s3.yandex.net/datasets/ab_project_marketing_events.csv', sep=',', parse_dates=['start_dt', 'finish_dt'])\n",
        "marketin_events_prob.info()"
      ]
    },
    {
      "cell_type": "code",
      "execution_count": 8,
      "metadata": {
        "id": "Jy6tySDEhKcN"
      },
      "outputs": [],
      "source": [
        "marketin_events['start_dt'] = pd.to_datetime(marketin_events['start_dt'])\n",
        "marketin_events['finish_dt'] = pd.to_datetime(marketin_events['finish_dt'])"
      ]
    },
    {
      "cell_type": "markdown",
      "metadata": {
        "id": "_QbOW2E4hKcN"
      },
      "source": [
        "**Таблица final_ab_new_users.csv**"
      ]
    },
    {
      "cell_type": "code",
      "execution_count": 9,
      "metadata": {
        "id": "gaoZ0USBhKcN",
        "colab": {
          "base_uri": "https://localhost:8080/",
          "height": 397
        },
        "outputId": "5ac8113a-5cf9-40ee-c296-9134f8440543"
      },
      "outputs": [
        {
          "output_type": "stream",
          "name": "stdout",
          "text": [
            "<class 'pandas.core.frame.DataFrame'>\n",
            "RangeIndex: 61733 entries, 0 to 61732\n",
            "Data columns (total 4 columns):\n",
            " #   Column      Non-Null Count  Dtype \n",
            "---  ------      --------------  ----- \n",
            " 0   user_id     61733 non-null  object\n",
            " 1   first_date  61733 non-null  object\n",
            " 2   region      61733 non-null  object\n",
            " 3   device      61733 non-null  object\n",
            "dtypes: object(4)\n",
            "memory usage: 1.9+ MB\n"
          ]
        },
        {
          "output_type": "execute_result",
          "data": {
            "text/plain": [
              "            user_id  first_date     region   device\n",
              "0  D72A72121175D8BE  2020-12-07         EU       PC\n",
              "1  F1C668619DFE6E65  2020-12-07  N.America  Android\n",
              "2  2E1BF1D4C37EA01F  2020-12-07         EU       PC\n",
              "3  50734A22C0C63768  2020-12-07         EU   iPhone\n",
              "4  E1BDDCE0DAFA2679  2020-12-07  N.America   iPhone"
            ],
            "text/html": [
              "\n",
              "  <div id=\"df-ac67001e-22f3-4ee0-835a-a7ed30395a20\">\n",
              "    <div class=\"colab-df-container\">\n",
              "      <div>\n",
              "<style scoped>\n",
              "    .dataframe tbody tr th:only-of-type {\n",
              "        vertical-align: middle;\n",
              "    }\n",
              "\n",
              "    .dataframe tbody tr th {\n",
              "        vertical-align: top;\n",
              "    }\n",
              "\n",
              "    .dataframe thead th {\n",
              "        text-align: right;\n",
              "    }\n",
              "</style>\n",
              "<table border=\"1\" class=\"dataframe\">\n",
              "  <thead>\n",
              "    <tr style=\"text-align: right;\">\n",
              "      <th></th>\n",
              "      <th>user_id</th>\n",
              "      <th>first_date</th>\n",
              "      <th>region</th>\n",
              "      <th>device</th>\n",
              "    </tr>\n",
              "  </thead>\n",
              "  <tbody>\n",
              "    <tr>\n",
              "      <th>0</th>\n",
              "      <td>D72A72121175D8BE</td>\n",
              "      <td>2020-12-07</td>\n",
              "      <td>EU</td>\n",
              "      <td>PC</td>\n",
              "    </tr>\n",
              "    <tr>\n",
              "      <th>1</th>\n",
              "      <td>F1C668619DFE6E65</td>\n",
              "      <td>2020-12-07</td>\n",
              "      <td>N.America</td>\n",
              "      <td>Android</td>\n",
              "    </tr>\n",
              "    <tr>\n",
              "      <th>2</th>\n",
              "      <td>2E1BF1D4C37EA01F</td>\n",
              "      <td>2020-12-07</td>\n",
              "      <td>EU</td>\n",
              "      <td>PC</td>\n",
              "    </tr>\n",
              "    <tr>\n",
              "      <th>3</th>\n",
              "      <td>50734A22C0C63768</td>\n",
              "      <td>2020-12-07</td>\n",
              "      <td>EU</td>\n",
              "      <td>iPhone</td>\n",
              "    </tr>\n",
              "    <tr>\n",
              "      <th>4</th>\n",
              "      <td>E1BDDCE0DAFA2679</td>\n",
              "      <td>2020-12-07</td>\n",
              "      <td>N.America</td>\n",
              "      <td>iPhone</td>\n",
              "    </tr>\n",
              "  </tbody>\n",
              "</table>\n",
              "</div>\n",
              "      <button class=\"colab-df-convert\" onclick=\"convertToInteractive('df-ac67001e-22f3-4ee0-835a-a7ed30395a20')\"\n",
              "              title=\"Convert this dataframe to an interactive table.\"\n",
              "              style=\"display:none;\">\n",
              "        \n",
              "  <svg xmlns=\"http://www.w3.org/2000/svg\" height=\"24px\"viewBox=\"0 0 24 24\"\n",
              "       width=\"24px\">\n",
              "    <path d=\"M0 0h24v24H0V0z\" fill=\"none\"/>\n",
              "    <path d=\"M18.56 5.44l.94 2.06.94-2.06 2.06-.94-2.06-.94-.94-2.06-.94 2.06-2.06.94zm-11 1L8.5 8.5l.94-2.06 2.06-.94-2.06-.94L8.5 2.5l-.94 2.06-2.06.94zm10 10l.94 2.06.94-2.06 2.06-.94-2.06-.94-.94-2.06-.94 2.06-2.06.94z\"/><path d=\"M17.41 7.96l-1.37-1.37c-.4-.4-.92-.59-1.43-.59-.52 0-1.04.2-1.43.59L10.3 9.45l-7.72 7.72c-.78.78-.78 2.05 0 2.83L4 21.41c.39.39.9.59 1.41.59.51 0 1.02-.2 1.41-.59l7.78-7.78 2.81-2.81c.8-.78.8-2.07 0-2.86zM5.41 20L4 18.59l7.72-7.72 1.47 1.35L5.41 20z\"/>\n",
              "  </svg>\n",
              "      </button>\n",
              "      \n",
              "  <style>\n",
              "    .colab-df-container {\n",
              "      display:flex;\n",
              "      flex-wrap:wrap;\n",
              "      gap: 12px;\n",
              "    }\n",
              "\n",
              "    .colab-df-convert {\n",
              "      background-color: #E8F0FE;\n",
              "      border: none;\n",
              "      border-radius: 50%;\n",
              "      cursor: pointer;\n",
              "      display: none;\n",
              "      fill: #1967D2;\n",
              "      height: 32px;\n",
              "      padding: 0 0 0 0;\n",
              "      width: 32px;\n",
              "    }\n",
              "\n",
              "    .colab-df-convert:hover {\n",
              "      background-color: #E2EBFA;\n",
              "      box-shadow: 0px 1px 2px rgba(60, 64, 67, 0.3), 0px 1px 3px 1px rgba(60, 64, 67, 0.15);\n",
              "      fill: #174EA6;\n",
              "    }\n",
              "\n",
              "    [theme=dark] .colab-df-convert {\n",
              "      background-color: #3B4455;\n",
              "      fill: #D2E3FC;\n",
              "    }\n",
              "\n",
              "    [theme=dark] .colab-df-convert:hover {\n",
              "      background-color: #434B5C;\n",
              "      box-shadow: 0px 1px 3px 1px rgba(0, 0, 0, 0.15);\n",
              "      filter: drop-shadow(0px 1px 2px rgba(0, 0, 0, 0.3));\n",
              "      fill: #FFFFFF;\n",
              "    }\n",
              "  </style>\n",
              "\n",
              "      <script>\n",
              "        const buttonEl =\n",
              "          document.querySelector('#df-ac67001e-22f3-4ee0-835a-a7ed30395a20 button.colab-df-convert');\n",
              "        buttonEl.style.display =\n",
              "          google.colab.kernel.accessAllowed ? 'block' : 'none';\n",
              "\n",
              "        async function convertToInteractive(key) {\n",
              "          const element = document.querySelector('#df-ac67001e-22f3-4ee0-835a-a7ed30395a20');\n",
              "          const dataTable =\n",
              "            await google.colab.kernel.invokeFunction('convertToInteractive',\n",
              "                                                     [key], {});\n",
              "          if (!dataTable) return;\n",
              "\n",
              "          const docLinkHtml = 'Like what you see? Visit the ' +\n",
              "            '<a target=\"_blank\" href=https://colab.research.google.com/notebooks/data_table.ipynb>data table notebook</a>'\n",
              "            + ' to learn more about interactive tables.';\n",
              "          element.innerHTML = '';\n",
              "          dataTable['output_type'] = 'display_data';\n",
              "          await google.colab.output.renderOutput(dataTable, element);\n",
              "          const docLink = document.createElement('div');\n",
              "          docLink.innerHTML = docLinkHtml;\n",
              "          element.appendChild(docLink);\n",
              "        }\n",
              "      </script>\n",
              "    </div>\n",
              "  </div>\n",
              "  "
            ]
          },
          "metadata": {},
          "execution_count": 9
        }
      ],
      "source": [
        "new_users = pd.read_csv('https://code.s3.yandex.net/datasets/final_ab_new_users.csv', sep=',')\n",
        "new_users.info()\n",
        "new_users.head()"
      ]
    },
    {
      "cell_type": "markdown",
      "metadata": {
        "id": "dMDunYHwhKcN"
      },
      "source": [
        "Здесь тоже тип данных с датой нужно изменить"
      ]
    },
    {
      "cell_type": "code",
      "execution_count": 10,
      "metadata": {
        "id": "88f1SwZ9hKcN"
      },
      "outputs": [],
      "source": [
        "new_users['first_date'] = pd.to_datetime(new_users['first_date'])"
      ]
    },
    {
      "cell_type": "markdown",
      "metadata": {
        "id": "uFOZPf3thKcN"
      },
      "source": [
        "**Таблица final_ab_participants.csv**"
      ]
    },
    {
      "cell_type": "code",
      "execution_count": 11,
      "metadata": {
        "id": "zyiWu355hKcd",
        "colab": {
          "base_uri": "https://localhost:8080/",
          "height": 380
        },
        "outputId": "01f921a8-dd4f-4a03-dab1-68bed0713782"
      },
      "outputs": [
        {
          "output_type": "stream",
          "name": "stdout",
          "text": [
            "<class 'pandas.core.frame.DataFrame'>\n",
            "RangeIndex: 18268 entries, 0 to 18267\n",
            "Data columns (total 3 columns):\n",
            " #   Column   Non-Null Count  Dtype \n",
            "---  ------   --------------  ----- \n",
            " 0   user_id  18268 non-null  object\n",
            " 1   group    18268 non-null  object\n",
            " 2   ab_test  18268 non-null  object\n",
            "dtypes: object(3)\n",
            "memory usage: 428.3+ KB\n"
          ]
        },
        {
          "output_type": "execute_result",
          "data": {
            "text/plain": [
              "            user_id group                  ab_test\n",
              "0  D1ABA3E2887B6A73     A  recommender_system_test\n",
              "1  A7A3664BD6242119     A  recommender_system_test\n",
              "2  DABC14FDDFADD29E     A  recommender_system_test\n",
              "3  04988C5DF189632E     A  recommender_system_test\n",
              "4  482F14783456D21B     B  recommender_system_test"
            ],
            "text/html": [
              "\n",
              "  <div id=\"df-36e674de-e322-4755-991d-22b73479ca7c\">\n",
              "    <div class=\"colab-df-container\">\n",
              "      <div>\n",
              "<style scoped>\n",
              "    .dataframe tbody tr th:only-of-type {\n",
              "        vertical-align: middle;\n",
              "    }\n",
              "\n",
              "    .dataframe tbody tr th {\n",
              "        vertical-align: top;\n",
              "    }\n",
              "\n",
              "    .dataframe thead th {\n",
              "        text-align: right;\n",
              "    }\n",
              "</style>\n",
              "<table border=\"1\" class=\"dataframe\">\n",
              "  <thead>\n",
              "    <tr style=\"text-align: right;\">\n",
              "      <th></th>\n",
              "      <th>user_id</th>\n",
              "      <th>group</th>\n",
              "      <th>ab_test</th>\n",
              "    </tr>\n",
              "  </thead>\n",
              "  <tbody>\n",
              "    <tr>\n",
              "      <th>0</th>\n",
              "      <td>D1ABA3E2887B6A73</td>\n",
              "      <td>A</td>\n",
              "      <td>recommender_system_test</td>\n",
              "    </tr>\n",
              "    <tr>\n",
              "      <th>1</th>\n",
              "      <td>A7A3664BD6242119</td>\n",
              "      <td>A</td>\n",
              "      <td>recommender_system_test</td>\n",
              "    </tr>\n",
              "    <tr>\n",
              "      <th>2</th>\n",
              "      <td>DABC14FDDFADD29E</td>\n",
              "      <td>A</td>\n",
              "      <td>recommender_system_test</td>\n",
              "    </tr>\n",
              "    <tr>\n",
              "      <th>3</th>\n",
              "      <td>04988C5DF189632E</td>\n",
              "      <td>A</td>\n",
              "      <td>recommender_system_test</td>\n",
              "    </tr>\n",
              "    <tr>\n",
              "      <th>4</th>\n",
              "      <td>482F14783456D21B</td>\n",
              "      <td>B</td>\n",
              "      <td>recommender_system_test</td>\n",
              "    </tr>\n",
              "  </tbody>\n",
              "</table>\n",
              "</div>\n",
              "      <button class=\"colab-df-convert\" onclick=\"convertToInteractive('df-36e674de-e322-4755-991d-22b73479ca7c')\"\n",
              "              title=\"Convert this dataframe to an interactive table.\"\n",
              "              style=\"display:none;\">\n",
              "        \n",
              "  <svg xmlns=\"http://www.w3.org/2000/svg\" height=\"24px\"viewBox=\"0 0 24 24\"\n",
              "       width=\"24px\">\n",
              "    <path d=\"M0 0h24v24H0V0z\" fill=\"none\"/>\n",
              "    <path d=\"M18.56 5.44l.94 2.06.94-2.06 2.06-.94-2.06-.94-.94-2.06-.94 2.06-2.06.94zm-11 1L8.5 8.5l.94-2.06 2.06-.94-2.06-.94L8.5 2.5l-.94 2.06-2.06.94zm10 10l.94 2.06.94-2.06 2.06-.94-2.06-.94-.94-2.06-.94 2.06-2.06.94z\"/><path d=\"M17.41 7.96l-1.37-1.37c-.4-.4-.92-.59-1.43-.59-.52 0-1.04.2-1.43.59L10.3 9.45l-7.72 7.72c-.78.78-.78 2.05 0 2.83L4 21.41c.39.39.9.59 1.41.59.51 0 1.02-.2 1.41-.59l7.78-7.78 2.81-2.81c.8-.78.8-2.07 0-2.86zM5.41 20L4 18.59l7.72-7.72 1.47 1.35L5.41 20z\"/>\n",
              "  </svg>\n",
              "      </button>\n",
              "      \n",
              "  <style>\n",
              "    .colab-df-container {\n",
              "      display:flex;\n",
              "      flex-wrap:wrap;\n",
              "      gap: 12px;\n",
              "    }\n",
              "\n",
              "    .colab-df-convert {\n",
              "      background-color: #E8F0FE;\n",
              "      border: none;\n",
              "      border-radius: 50%;\n",
              "      cursor: pointer;\n",
              "      display: none;\n",
              "      fill: #1967D2;\n",
              "      height: 32px;\n",
              "      padding: 0 0 0 0;\n",
              "      width: 32px;\n",
              "    }\n",
              "\n",
              "    .colab-df-convert:hover {\n",
              "      background-color: #E2EBFA;\n",
              "      box-shadow: 0px 1px 2px rgba(60, 64, 67, 0.3), 0px 1px 3px 1px rgba(60, 64, 67, 0.15);\n",
              "      fill: #174EA6;\n",
              "    }\n",
              "\n",
              "    [theme=dark] .colab-df-convert {\n",
              "      background-color: #3B4455;\n",
              "      fill: #D2E3FC;\n",
              "    }\n",
              "\n",
              "    [theme=dark] .colab-df-convert:hover {\n",
              "      background-color: #434B5C;\n",
              "      box-shadow: 0px 1px 3px 1px rgba(0, 0, 0, 0.15);\n",
              "      filter: drop-shadow(0px 1px 2px rgba(0, 0, 0, 0.3));\n",
              "      fill: #FFFFFF;\n",
              "    }\n",
              "  </style>\n",
              "\n",
              "      <script>\n",
              "        const buttonEl =\n",
              "          document.querySelector('#df-36e674de-e322-4755-991d-22b73479ca7c button.colab-df-convert');\n",
              "        buttonEl.style.display =\n",
              "          google.colab.kernel.accessAllowed ? 'block' : 'none';\n",
              "\n",
              "        async function convertToInteractive(key) {\n",
              "          const element = document.querySelector('#df-36e674de-e322-4755-991d-22b73479ca7c');\n",
              "          const dataTable =\n",
              "            await google.colab.kernel.invokeFunction('convertToInteractive',\n",
              "                                                     [key], {});\n",
              "          if (!dataTable) return;\n",
              "\n",
              "          const docLinkHtml = 'Like what you see? Visit the ' +\n",
              "            '<a target=\"_blank\" href=https://colab.research.google.com/notebooks/data_table.ipynb>data table notebook</a>'\n",
              "            + ' to learn more about interactive tables.';\n",
              "          element.innerHTML = '';\n",
              "          dataTable['output_type'] = 'display_data';\n",
              "          await google.colab.output.renderOutput(dataTable, element);\n",
              "          const docLink = document.createElement('div');\n",
              "          docLink.innerHTML = docLinkHtml;\n",
              "          element.appendChild(docLink);\n",
              "        }\n",
              "      </script>\n",
              "    </div>\n",
              "  </div>\n",
              "  "
            ]
          },
          "metadata": {},
          "execution_count": 11
        }
      ],
      "source": [
        "ab_participants = pd.read_csv('https://code.s3.yandex.net/datasets/final_ab_participants.csv', sep=',')\n",
        "ab_participants.info()\n",
        "ab_participants.head()"
      ]
    },
    {
      "cell_type": "markdown",
      "metadata": {
        "id": "VASwaNQchKcd"
      },
      "source": [
        "Здесь типы данных корректны"
      ]
    },
    {
      "cell_type": "markdown",
      "metadata": {
        "id": "r1fK23LHhKcd"
      },
      "source": [
        "### Опишите природу пропущенных значений и дубликатов, если их обнаружите."
      ]
    },
    {
      "cell_type": "code",
      "execution_count": 12,
      "metadata": {
        "id": "AxUdMAhQhKcd",
        "colab": {
          "base_uri": "https://localhost:8080/"
        },
        "outputId": "071bcb1a-3bee-49e1-fdf3-12a41dbcc45d"
      },
      "outputs": [
        {
          "output_type": "stream",
          "name": "stdout",
          "text": [
            "дубликаты: 0\n",
            "пропуски: user_id            0\n",
            "event_dt           0\n",
            "event_name         0\n",
            "details       377577\n",
            "dtype: int64\n"
          ]
        }
      ],
      "source": [
        "print('дубликаты:', ab_events.duplicated().sum())\n",
        "print('пропуски:',ab_events.isna().sum())"
      ]
    },
    {
      "cell_type": "markdown",
      "metadata": {
        "id": "MoIinLSRhKcd"
      },
      "source": [
        "В графе дополнительные данные о событии 377577 пропусков, так как информация допольнительная, скорее всего к заполнению не обязательна, поэтому оставим пропущенные значения без изменений,дубликатов нет"
      ]
    },
    {
      "cell_type": "code",
      "execution_count": 13,
      "metadata": {
        "id": "tstxg-X4hKcd",
        "colab": {
          "base_uri": "https://localhost:8080/"
        },
        "outputId": "db705245-bcb6-4d63-e215-36f03f211c2f"
      },
      "outputs": [
        {
          "output_type": "stream",
          "name": "stdout",
          "text": [
            "дубликаты: 0\n",
            "пропуски: name         0\n",
            "regions      0\n",
            "start_dt     0\n",
            "finish_dt    0\n",
            "dtype: int64\n"
          ]
        }
      ],
      "source": [
        "print('дубликаты:', marketin_events.duplicated().sum())\n",
        "print('пропуски:',marketin_events.isna().sum())"
      ]
    },
    {
      "cell_type": "markdown",
      "metadata": {
        "id": "ATM6AdEThKcd"
      },
      "source": [
        "Здесь все в порядке - дубликатов нет, пропусков тоже"
      ]
    },
    {
      "cell_type": "code",
      "execution_count": 14,
      "metadata": {
        "id": "apPhrswKhKcd",
        "colab": {
          "base_uri": "https://localhost:8080/"
        },
        "outputId": "9f87a5b4-4ee3-492e-a918-207a8a33f138"
      },
      "outputs": [
        {
          "output_type": "stream",
          "name": "stdout",
          "text": [
            "дубликаты: 0\n",
            "пропуски: user_id       0\n",
            "first_date    0\n",
            "region        0\n",
            "device        0\n",
            "dtype: int64\n"
          ]
        }
      ],
      "source": [
        "print('дубликаты:', new_users.duplicated().sum())\n",
        "print('пропуски:',new_users.isna().sum())"
      ]
    },
    {
      "cell_type": "markdown",
      "metadata": {
        "id": "3ENN_ey8hKcd"
      },
      "source": [
        "Здесь тоже, ни дубликатов, ни пропусков"
      ]
    },
    {
      "cell_type": "code",
      "execution_count": 15,
      "metadata": {
        "id": "5zmULd9NhKcd",
        "colab": {
          "base_uri": "https://localhost:8080/"
        },
        "outputId": "bbb3cf0d-41bf-4e77-e5e4-103f095b01b9"
      },
      "outputs": [
        {
          "output_type": "stream",
          "name": "stdout",
          "text": [
            "дубликаты: 0\n",
            "пропуски: user_id    0\n",
            "group      0\n",
            "ab_test    0\n",
            "dtype: int64\n"
          ]
        }
      ],
      "source": [
        "print('дубликаты:', ab_participants.duplicated().sum())\n",
        "print('пропуски:',ab_participants.isna().sum())"
      ]
    },
    {
      "cell_type": "markdown",
      "metadata": {
        "id": "pY65eXGnhKct"
      },
      "source": [
        "И здесь дубликатов нет. пропусков нет"
      ]
    },
    {
      "cell_type": "markdown",
      "metadata": {
        "id": "etIKYTXuhKct"
      },
      "source": [
        "## Оцените корректность проведения теста"
      ]
    },
    {
      "cell_type": "markdown",
      "metadata": {
        "id": "GNuJh_EGhKct"
      },
      "source": [
        "### Соответствие данных требованиям технического задания. Проверьте корректность всех пунктов технического задания"
      ]
    },
    {
      "cell_type": "markdown",
      "metadata": {
        "id": "oSu4WLhGhKct"
      },
      "source": [
        "Проверим информацию о проводимых тестах"
      ]
    },
    {
      "cell_type": "code",
      "execution_count": 16,
      "metadata": {
        "id": "SMo_Tbw3hKct",
        "colab": {
          "base_uri": "https://localhost:8080/"
        },
        "outputId": "9b83c677-7890-4431-c257-5c63443639fa"
      },
      "outputs": [
        {
          "output_type": "execute_result",
          "data": {
            "text/plain": [
              "interface_eu_test          11567\n",
              "recommender_system_test     6701\n",
              "Name: ab_test, dtype: int64"
            ]
          },
          "metadata": {},
          "execution_count": 16
        }
      ],
      "source": [
        "ab_participants['ab_test'].value_counts()"
      ]
    },
    {
      "cell_type": "markdown",
      "metadata": {
        "id": "JnBGSt4ihKct"
      },
      "source": [
        "Найдем участников, которые принимали участие в двух тестах сразу и удалим их, так как мы не знаем, пересекались эти тесты или нет, и на каких условиях проводился второй  тест."
      ]
    },
    {
      "cell_type": "code",
      "execution_count": 17,
      "metadata": {
        "id": "49OrhPZshKct",
        "colab": {
          "base_uri": "https://localhost:8080/"
        },
        "outputId": "e2c78efd-06b6-40d3-c5bf-99eb896559a5"
      },
      "outputs": [
        {
          "output_type": "execute_result",
          "data": {
            "text/plain": [
              "user_id    1602\n",
              "ab_test    1602\n",
              "dtype: int64"
            ]
          },
          "metadata": {},
          "execution_count": 17
        }
      ],
      "source": [
        "ab_participants_2test = ab_participants.groupby('user_id', as_index=False)['ab_test'].count()\n",
        "ab_participants_2test[ab_participants_2test['ab_test']==2].count()"
      ]
    },
    {
      "cell_type": "markdown",
      "metadata": {
        "id": "orqyioeihKc8"
      },
      "source": [
        "участников двух тестов оказалось 1602"
      ]
    },
    {
      "cell_type": "markdown",
      "metadata": {
        "id": "nNOi8cowhKc8"
      },
      "source": [
        "Объединим таблиу с количеством тестов с исходной таблицей"
      ]
    },
    {
      "cell_type": "code",
      "execution_count": 18,
      "metadata": {
        "id": "AXIu5PyChKc8",
        "colab": {
          "base_uri": "https://localhost:8080/",
          "height": 424
        },
        "outputId": "57bf2ffc-8835-429b-bd0f-bcfeff2deb89"
      },
      "outputs": [
        {
          "output_type": "execute_result",
          "data": {
            "text/plain": [
              "                user_id group                ab_test_x  ab_test_y\n",
              "0      D1ABA3E2887B6A73     A  recommender_system_test          1\n",
              "1      A7A3664BD6242119     A  recommender_system_test          1\n",
              "2      DABC14FDDFADD29E     A  recommender_system_test          2\n",
              "3      04988C5DF189632E     A  recommender_system_test          2\n",
              "4      482F14783456D21B     B  recommender_system_test          1\n",
              "...                 ...   ...                      ...        ...\n",
              "18263  1D302F8688B91781     B        interface_eu_test          1\n",
              "18264  3DE51B726983B657     A        interface_eu_test          1\n",
              "18265  F501F79D332BE86C     A        interface_eu_test          1\n",
              "18266  63FBE257B05F2245     A        interface_eu_test          1\n",
              "18267  79F9ABFB029CF724     B        interface_eu_test          1\n",
              "\n",
              "[18268 rows x 4 columns]"
            ],
            "text/html": [
              "\n",
              "  <div id=\"df-376b1db1-d44e-44a3-8c84-1abdb3be3dbd\">\n",
              "    <div class=\"colab-df-container\">\n",
              "      <div>\n",
              "<style scoped>\n",
              "    .dataframe tbody tr th:only-of-type {\n",
              "        vertical-align: middle;\n",
              "    }\n",
              "\n",
              "    .dataframe tbody tr th {\n",
              "        vertical-align: top;\n",
              "    }\n",
              "\n",
              "    .dataframe thead th {\n",
              "        text-align: right;\n",
              "    }\n",
              "</style>\n",
              "<table border=\"1\" class=\"dataframe\">\n",
              "  <thead>\n",
              "    <tr style=\"text-align: right;\">\n",
              "      <th></th>\n",
              "      <th>user_id</th>\n",
              "      <th>group</th>\n",
              "      <th>ab_test_x</th>\n",
              "      <th>ab_test_y</th>\n",
              "    </tr>\n",
              "  </thead>\n",
              "  <tbody>\n",
              "    <tr>\n",
              "      <th>0</th>\n",
              "      <td>D1ABA3E2887B6A73</td>\n",
              "      <td>A</td>\n",
              "      <td>recommender_system_test</td>\n",
              "      <td>1</td>\n",
              "    </tr>\n",
              "    <tr>\n",
              "      <th>1</th>\n",
              "      <td>A7A3664BD6242119</td>\n",
              "      <td>A</td>\n",
              "      <td>recommender_system_test</td>\n",
              "      <td>1</td>\n",
              "    </tr>\n",
              "    <tr>\n",
              "      <th>2</th>\n",
              "      <td>DABC14FDDFADD29E</td>\n",
              "      <td>A</td>\n",
              "      <td>recommender_system_test</td>\n",
              "      <td>2</td>\n",
              "    </tr>\n",
              "    <tr>\n",
              "      <th>3</th>\n",
              "      <td>04988C5DF189632E</td>\n",
              "      <td>A</td>\n",
              "      <td>recommender_system_test</td>\n",
              "      <td>2</td>\n",
              "    </tr>\n",
              "    <tr>\n",
              "      <th>4</th>\n",
              "      <td>482F14783456D21B</td>\n",
              "      <td>B</td>\n",
              "      <td>recommender_system_test</td>\n",
              "      <td>1</td>\n",
              "    </tr>\n",
              "    <tr>\n",
              "      <th>...</th>\n",
              "      <td>...</td>\n",
              "      <td>...</td>\n",
              "      <td>...</td>\n",
              "      <td>...</td>\n",
              "    </tr>\n",
              "    <tr>\n",
              "      <th>18263</th>\n",
              "      <td>1D302F8688B91781</td>\n",
              "      <td>B</td>\n",
              "      <td>interface_eu_test</td>\n",
              "      <td>1</td>\n",
              "    </tr>\n",
              "    <tr>\n",
              "      <th>18264</th>\n",
              "      <td>3DE51B726983B657</td>\n",
              "      <td>A</td>\n",
              "      <td>interface_eu_test</td>\n",
              "      <td>1</td>\n",
              "    </tr>\n",
              "    <tr>\n",
              "      <th>18265</th>\n",
              "      <td>F501F79D332BE86C</td>\n",
              "      <td>A</td>\n",
              "      <td>interface_eu_test</td>\n",
              "      <td>1</td>\n",
              "    </tr>\n",
              "    <tr>\n",
              "      <th>18266</th>\n",
              "      <td>63FBE257B05F2245</td>\n",
              "      <td>A</td>\n",
              "      <td>interface_eu_test</td>\n",
              "      <td>1</td>\n",
              "    </tr>\n",
              "    <tr>\n",
              "      <th>18267</th>\n",
              "      <td>79F9ABFB029CF724</td>\n",
              "      <td>B</td>\n",
              "      <td>interface_eu_test</td>\n",
              "      <td>1</td>\n",
              "    </tr>\n",
              "  </tbody>\n",
              "</table>\n",
              "<p>18268 rows × 4 columns</p>\n",
              "</div>\n",
              "      <button class=\"colab-df-convert\" onclick=\"convertToInteractive('df-376b1db1-d44e-44a3-8c84-1abdb3be3dbd')\"\n",
              "              title=\"Convert this dataframe to an interactive table.\"\n",
              "              style=\"display:none;\">\n",
              "        \n",
              "  <svg xmlns=\"http://www.w3.org/2000/svg\" height=\"24px\"viewBox=\"0 0 24 24\"\n",
              "       width=\"24px\">\n",
              "    <path d=\"M0 0h24v24H0V0z\" fill=\"none\"/>\n",
              "    <path d=\"M18.56 5.44l.94 2.06.94-2.06 2.06-.94-2.06-.94-.94-2.06-.94 2.06-2.06.94zm-11 1L8.5 8.5l.94-2.06 2.06-.94-2.06-.94L8.5 2.5l-.94 2.06-2.06.94zm10 10l.94 2.06.94-2.06 2.06-.94-2.06-.94-.94-2.06-.94 2.06-2.06.94z\"/><path d=\"M17.41 7.96l-1.37-1.37c-.4-.4-.92-.59-1.43-.59-.52 0-1.04.2-1.43.59L10.3 9.45l-7.72 7.72c-.78.78-.78 2.05 0 2.83L4 21.41c.39.39.9.59 1.41.59.51 0 1.02-.2 1.41-.59l7.78-7.78 2.81-2.81c.8-.78.8-2.07 0-2.86zM5.41 20L4 18.59l7.72-7.72 1.47 1.35L5.41 20z\"/>\n",
              "  </svg>\n",
              "      </button>\n",
              "      \n",
              "  <style>\n",
              "    .colab-df-container {\n",
              "      display:flex;\n",
              "      flex-wrap:wrap;\n",
              "      gap: 12px;\n",
              "    }\n",
              "\n",
              "    .colab-df-convert {\n",
              "      background-color: #E8F0FE;\n",
              "      border: none;\n",
              "      border-radius: 50%;\n",
              "      cursor: pointer;\n",
              "      display: none;\n",
              "      fill: #1967D2;\n",
              "      height: 32px;\n",
              "      padding: 0 0 0 0;\n",
              "      width: 32px;\n",
              "    }\n",
              "\n",
              "    .colab-df-convert:hover {\n",
              "      background-color: #E2EBFA;\n",
              "      box-shadow: 0px 1px 2px rgba(60, 64, 67, 0.3), 0px 1px 3px 1px rgba(60, 64, 67, 0.15);\n",
              "      fill: #174EA6;\n",
              "    }\n",
              "\n",
              "    [theme=dark] .colab-df-convert {\n",
              "      background-color: #3B4455;\n",
              "      fill: #D2E3FC;\n",
              "    }\n",
              "\n",
              "    [theme=dark] .colab-df-convert:hover {\n",
              "      background-color: #434B5C;\n",
              "      box-shadow: 0px 1px 3px 1px rgba(0, 0, 0, 0.15);\n",
              "      filter: drop-shadow(0px 1px 2px rgba(0, 0, 0, 0.3));\n",
              "      fill: #FFFFFF;\n",
              "    }\n",
              "  </style>\n",
              "\n",
              "      <script>\n",
              "        const buttonEl =\n",
              "          document.querySelector('#df-376b1db1-d44e-44a3-8c84-1abdb3be3dbd button.colab-df-convert');\n",
              "        buttonEl.style.display =\n",
              "          google.colab.kernel.accessAllowed ? 'block' : 'none';\n",
              "\n",
              "        async function convertToInteractive(key) {\n",
              "          const element = document.querySelector('#df-376b1db1-d44e-44a3-8c84-1abdb3be3dbd');\n",
              "          const dataTable =\n",
              "            await google.colab.kernel.invokeFunction('convertToInteractive',\n",
              "                                                     [key], {});\n",
              "          if (!dataTable) return;\n",
              "\n",
              "          const docLinkHtml = 'Like what you see? Visit the ' +\n",
              "            '<a target=\"_blank\" href=https://colab.research.google.com/notebooks/data_table.ipynb>data table notebook</a>'\n",
              "            + ' to learn more about interactive tables.';\n",
              "          element.innerHTML = '';\n",
              "          dataTable['output_type'] = 'display_data';\n",
              "          await google.colab.output.renderOutput(dataTable, element);\n",
              "          const docLink = document.createElement('div');\n",
              "          docLink.innerHTML = docLinkHtml;\n",
              "          element.appendChild(docLink);\n",
              "        }\n",
              "      </script>\n",
              "    </div>\n",
              "  </div>\n",
              "  "
            ]
          },
          "metadata": {},
          "execution_count": 18
        }
      ],
      "source": [
        "ab_participants = ab_participants.merge(ab_participants_2test, on='user_id', how='left')\n",
        "ab_participants"
      ]
    },
    {
      "cell_type": "markdown",
      "metadata": {
        "id": "1W4a2tAJhKc8"
      },
      "source": [
        "Отберем участников только с одним тестом"
      ]
    },
    {
      "cell_type": "code",
      "execution_count": 19,
      "metadata": {
        "id": "8hOD5ylWhKc8",
        "colab": {
          "base_uri": "https://localhost:8080/",
          "height": 424
        },
        "outputId": "c7a4e087-e0e3-4f30-bf2f-15ffec8f5ed1"
      },
      "outputs": [
        {
          "output_type": "execute_result",
          "data": {
            "text/plain": [
              "                user_id group                ab_test_x  ab_test_y\n",
              "0      D1ABA3E2887B6A73     A  recommender_system_test          1\n",
              "1      A7A3664BD6242119     A  recommender_system_test          1\n",
              "4      482F14783456D21B     B  recommender_system_test          1\n",
              "5      4FF2998A348C484F     A  recommender_system_test          1\n",
              "6      7473E0943673C09E     A  recommender_system_test          1\n",
              "...                 ...   ...                      ...        ...\n",
              "18263  1D302F8688B91781     B        interface_eu_test          1\n",
              "18264  3DE51B726983B657     A        interface_eu_test          1\n",
              "18265  F501F79D332BE86C     A        interface_eu_test          1\n",
              "18266  63FBE257B05F2245     A        interface_eu_test          1\n",
              "18267  79F9ABFB029CF724     B        interface_eu_test          1\n",
              "\n",
              "[15064 rows x 4 columns]"
            ],
            "text/html": [
              "\n",
              "  <div id=\"df-7ecaaf10-687f-40d5-9a2c-9c1a3eae21a3\">\n",
              "    <div class=\"colab-df-container\">\n",
              "      <div>\n",
              "<style scoped>\n",
              "    .dataframe tbody tr th:only-of-type {\n",
              "        vertical-align: middle;\n",
              "    }\n",
              "\n",
              "    .dataframe tbody tr th {\n",
              "        vertical-align: top;\n",
              "    }\n",
              "\n",
              "    .dataframe thead th {\n",
              "        text-align: right;\n",
              "    }\n",
              "</style>\n",
              "<table border=\"1\" class=\"dataframe\">\n",
              "  <thead>\n",
              "    <tr style=\"text-align: right;\">\n",
              "      <th></th>\n",
              "      <th>user_id</th>\n",
              "      <th>group</th>\n",
              "      <th>ab_test_x</th>\n",
              "      <th>ab_test_y</th>\n",
              "    </tr>\n",
              "  </thead>\n",
              "  <tbody>\n",
              "    <tr>\n",
              "      <th>0</th>\n",
              "      <td>D1ABA3E2887B6A73</td>\n",
              "      <td>A</td>\n",
              "      <td>recommender_system_test</td>\n",
              "      <td>1</td>\n",
              "    </tr>\n",
              "    <tr>\n",
              "      <th>1</th>\n",
              "      <td>A7A3664BD6242119</td>\n",
              "      <td>A</td>\n",
              "      <td>recommender_system_test</td>\n",
              "      <td>1</td>\n",
              "    </tr>\n",
              "    <tr>\n",
              "      <th>4</th>\n",
              "      <td>482F14783456D21B</td>\n",
              "      <td>B</td>\n",
              "      <td>recommender_system_test</td>\n",
              "      <td>1</td>\n",
              "    </tr>\n",
              "    <tr>\n",
              "      <th>5</th>\n",
              "      <td>4FF2998A348C484F</td>\n",
              "      <td>A</td>\n",
              "      <td>recommender_system_test</td>\n",
              "      <td>1</td>\n",
              "    </tr>\n",
              "    <tr>\n",
              "      <th>6</th>\n",
              "      <td>7473E0943673C09E</td>\n",
              "      <td>A</td>\n",
              "      <td>recommender_system_test</td>\n",
              "      <td>1</td>\n",
              "    </tr>\n",
              "    <tr>\n",
              "      <th>...</th>\n",
              "      <td>...</td>\n",
              "      <td>...</td>\n",
              "      <td>...</td>\n",
              "      <td>...</td>\n",
              "    </tr>\n",
              "    <tr>\n",
              "      <th>18263</th>\n",
              "      <td>1D302F8688B91781</td>\n",
              "      <td>B</td>\n",
              "      <td>interface_eu_test</td>\n",
              "      <td>1</td>\n",
              "    </tr>\n",
              "    <tr>\n",
              "      <th>18264</th>\n",
              "      <td>3DE51B726983B657</td>\n",
              "      <td>A</td>\n",
              "      <td>interface_eu_test</td>\n",
              "      <td>1</td>\n",
              "    </tr>\n",
              "    <tr>\n",
              "      <th>18265</th>\n",
              "      <td>F501F79D332BE86C</td>\n",
              "      <td>A</td>\n",
              "      <td>interface_eu_test</td>\n",
              "      <td>1</td>\n",
              "    </tr>\n",
              "    <tr>\n",
              "      <th>18266</th>\n",
              "      <td>63FBE257B05F2245</td>\n",
              "      <td>A</td>\n",
              "      <td>interface_eu_test</td>\n",
              "      <td>1</td>\n",
              "    </tr>\n",
              "    <tr>\n",
              "      <th>18267</th>\n",
              "      <td>79F9ABFB029CF724</td>\n",
              "      <td>B</td>\n",
              "      <td>interface_eu_test</td>\n",
              "      <td>1</td>\n",
              "    </tr>\n",
              "  </tbody>\n",
              "</table>\n",
              "<p>15064 rows × 4 columns</p>\n",
              "</div>\n",
              "      <button class=\"colab-df-convert\" onclick=\"convertToInteractive('df-7ecaaf10-687f-40d5-9a2c-9c1a3eae21a3')\"\n",
              "              title=\"Convert this dataframe to an interactive table.\"\n",
              "              style=\"display:none;\">\n",
              "        \n",
              "  <svg xmlns=\"http://www.w3.org/2000/svg\" height=\"24px\"viewBox=\"0 0 24 24\"\n",
              "       width=\"24px\">\n",
              "    <path d=\"M0 0h24v24H0V0z\" fill=\"none\"/>\n",
              "    <path d=\"M18.56 5.44l.94 2.06.94-2.06 2.06-.94-2.06-.94-.94-2.06-.94 2.06-2.06.94zm-11 1L8.5 8.5l.94-2.06 2.06-.94-2.06-.94L8.5 2.5l-.94 2.06-2.06.94zm10 10l.94 2.06.94-2.06 2.06-.94-2.06-.94-.94-2.06-.94 2.06-2.06.94z\"/><path d=\"M17.41 7.96l-1.37-1.37c-.4-.4-.92-.59-1.43-.59-.52 0-1.04.2-1.43.59L10.3 9.45l-7.72 7.72c-.78.78-.78 2.05 0 2.83L4 21.41c.39.39.9.59 1.41.59.51 0 1.02-.2 1.41-.59l7.78-7.78 2.81-2.81c.8-.78.8-2.07 0-2.86zM5.41 20L4 18.59l7.72-7.72 1.47 1.35L5.41 20z\"/>\n",
              "  </svg>\n",
              "      </button>\n",
              "      \n",
              "  <style>\n",
              "    .colab-df-container {\n",
              "      display:flex;\n",
              "      flex-wrap:wrap;\n",
              "      gap: 12px;\n",
              "    }\n",
              "\n",
              "    .colab-df-convert {\n",
              "      background-color: #E8F0FE;\n",
              "      border: none;\n",
              "      border-radius: 50%;\n",
              "      cursor: pointer;\n",
              "      display: none;\n",
              "      fill: #1967D2;\n",
              "      height: 32px;\n",
              "      padding: 0 0 0 0;\n",
              "      width: 32px;\n",
              "    }\n",
              "\n",
              "    .colab-df-convert:hover {\n",
              "      background-color: #E2EBFA;\n",
              "      box-shadow: 0px 1px 2px rgba(60, 64, 67, 0.3), 0px 1px 3px 1px rgba(60, 64, 67, 0.15);\n",
              "      fill: #174EA6;\n",
              "    }\n",
              "\n",
              "    [theme=dark] .colab-df-convert {\n",
              "      background-color: #3B4455;\n",
              "      fill: #D2E3FC;\n",
              "    }\n",
              "\n",
              "    [theme=dark] .colab-df-convert:hover {\n",
              "      background-color: #434B5C;\n",
              "      box-shadow: 0px 1px 3px 1px rgba(0, 0, 0, 0.15);\n",
              "      filter: drop-shadow(0px 1px 2px rgba(0, 0, 0, 0.3));\n",
              "      fill: #FFFFFF;\n",
              "    }\n",
              "  </style>\n",
              "\n",
              "      <script>\n",
              "        const buttonEl =\n",
              "          document.querySelector('#df-7ecaaf10-687f-40d5-9a2c-9c1a3eae21a3 button.colab-df-convert');\n",
              "        buttonEl.style.display =\n",
              "          google.colab.kernel.accessAllowed ? 'block' : 'none';\n",
              "\n",
              "        async function convertToInteractive(key) {\n",
              "          const element = document.querySelector('#df-7ecaaf10-687f-40d5-9a2c-9c1a3eae21a3');\n",
              "          const dataTable =\n",
              "            await google.colab.kernel.invokeFunction('convertToInteractive',\n",
              "                                                     [key], {});\n",
              "          if (!dataTable) return;\n",
              "\n",
              "          const docLinkHtml = 'Like what you see? Visit the ' +\n",
              "            '<a target=\"_blank\" href=https://colab.research.google.com/notebooks/data_table.ipynb>data table notebook</a>'\n",
              "            + ' to learn more about interactive tables.';\n",
              "          element.innerHTML = '';\n",
              "          dataTable['output_type'] = 'display_data';\n",
              "          await google.colab.output.renderOutput(dataTable, element);\n",
              "          const docLink = document.createElement('div');\n",
              "          docLink.innerHTML = docLinkHtml;\n",
              "          element.appendChild(docLink);\n",
              "        }\n",
              "      </script>\n",
              "    </div>\n",
              "  </div>\n",
              "  "
            ]
          },
          "metadata": {},
          "execution_count": 19
        }
      ],
      "source": [
        "ab_participants = ab_participants.query('ab_test_y==1')\n",
        "ab_participants"
      ]
    },
    {
      "cell_type": "markdown",
      "metadata": {
        "id": "4TwCmjOYhKc8"
      },
      "source": [
        "В данных присутствуют 2 разных теста, согласно ТЗ в дальнейшем будем исаользовать тест recommender_system_test - отберем нужные данные. "
      ]
    },
    {
      "cell_type": "code",
      "execution_count": 20,
      "metadata": {
        "id": "0LPM0ZclhKc8",
        "colab": {
          "base_uri": "https://localhost:8080/",
          "height": 424
        },
        "outputId": "3d270ea9-fa5e-412f-ec03-569e0a0b336c"
      },
      "outputs": [
        {
          "output_type": "execute_result",
          "data": {
            "text/plain": [
              "               user_id group                ab_test_x  ab_test_y\n",
              "0     D1ABA3E2887B6A73     A  recommender_system_test          1\n",
              "1     A7A3664BD6242119     A  recommender_system_test          1\n",
              "4     482F14783456D21B     B  recommender_system_test          1\n",
              "5     4FF2998A348C484F     A  recommender_system_test          1\n",
              "6     7473E0943673C09E     A  recommender_system_test          1\n",
              "...                ...   ...                      ...        ...\n",
              "6696  053FB26D6D49EDDC     A  recommender_system_test          1\n",
              "6697  9D263B8EF15CF188     B  recommender_system_test          1\n",
              "6698  F2FBBA33F37DEC46     A  recommender_system_test          1\n",
              "6699  29C92313A98B1176     B  recommender_system_test          1\n",
              "6700  6715343AFBA285AE     B  recommender_system_test          1\n",
              "\n",
              "[5099 rows x 4 columns]"
            ],
            "text/html": [
              "\n",
              "  <div id=\"df-7907339e-0f59-4984-a89c-0bd1c8ca4eae\">\n",
              "    <div class=\"colab-df-container\">\n",
              "      <div>\n",
              "<style scoped>\n",
              "    .dataframe tbody tr th:only-of-type {\n",
              "        vertical-align: middle;\n",
              "    }\n",
              "\n",
              "    .dataframe tbody tr th {\n",
              "        vertical-align: top;\n",
              "    }\n",
              "\n",
              "    .dataframe thead th {\n",
              "        text-align: right;\n",
              "    }\n",
              "</style>\n",
              "<table border=\"1\" class=\"dataframe\">\n",
              "  <thead>\n",
              "    <tr style=\"text-align: right;\">\n",
              "      <th></th>\n",
              "      <th>user_id</th>\n",
              "      <th>group</th>\n",
              "      <th>ab_test_x</th>\n",
              "      <th>ab_test_y</th>\n",
              "    </tr>\n",
              "  </thead>\n",
              "  <tbody>\n",
              "    <tr>\n",
              "      <th>0</th>\n",
              "      <td>D1ABA3E2887B6A73</td>\n",
              "      <td>A</td>\n",
              "      <td>recommender_system_test</td>\n",
              "      <td>1</td>\n",
              "    </tr>\n",
              "    <tr>\n",
              "      <th>1</th>\n",
              "      <td>A7A3664BD6242119</td>\n",
              "      <td>A</td>\n",
              "      <td>recommender_system_test</td>\n",
              "      <td>1</td>\n",
              "    </tr>\n",
              "    <tr>\n",
              "      <th>4</th>\n",
              "      <td>482F14783456D21B</td>\n",
              "      <td>B</td>\n",
              "      <td>recommender_system_test</td>\n",
              "      <td>1</td>\n",
              "    </tr>\n",
              "    <tr>\n",
              "      <th>5</th>\n",
              "      <td>4FF2998A348C484F</td>\n",
              "      <td>A</td>\n",
              "      <td>recommender_system_test</td>\n",
              "      <td>1</td>\n",
              "    </tr>\n",
              "    <tr>\n",
              "      <th>6</th>\n",
              "      <td>7473E0943673C09E</td>\n",
              "      <td>A</td>\n",
              "      <td>recommender_system_test</td>\n",
              "      <td>1</td>\n",
              "    </tr>\n",
              "    <tr>\n",
              "      <th>...</th>\n",
              "      <td>...</td>\n",
              "      <td>...</td>\n",
              "      <td>...</td>\n",
              "      <td>...</td>\n",
              "    </tr>\n",
              "    <tr>\n",
              "      <th>6696</th>\n",
              "      <td>053FB26D6D49EDDC</td>\n",
              "      <td>A</td>\n",
              "      <td>recommender_system_test</td>\n",
              "      <td>1</td>\n",
              "    </tr>\n",
              "    <tr>\n",
              "      <th>6697</th>\n",
              "      <td>9D263B8EF15CF188</td>\n",
              "      <td>B</td>\n",
              "      <td>recommender_system_test</td>\n",
              "      <td>1</td>\n",
              "    </tr>\n",
              "    <tr>\n",
              "      <th>6698</th>\n",
              "      <td>F2FBBA33F37DEC46</td>\n",
              "      <td>A</td>\n",
              "      <td>recommender_system_test</td>\n",
              "      <td>1</td>\n",
              "    </tr>\n",
              "    <tr>\n",
              "      <th>6699</th>\n",
              "      <td>29C92313A98B1176</td>\n",
              "      <td>B</td>\n",
              "      <td>recommender_system_test</td>\n",
              "      <td>1</td>\n",
              "    </tr>\n",
              "    <tr>\n",
              "      <th>6700</th>\n",
              "      <td>6715343AFBA285AE</td>\n",
              "      <td>B</td>\n",
              "      <td>recommender_system_test</td>\n",
              "      <td>1</td>\n",
              "    </tr>\n",
              "  </tbody>\n",
              "</table>\n",
              "<p>5099 rows × 4 columns</p>\n",
              "</div>\n",
              "      <button class=\"colab-df-convert\" onclick=\"convertToInteractive('df-7907339e-0f59-4984-a89c-0bd1c8ca4eae')\"\n",
              "              title=\"Convert this dataframe to an interactive table.\"\n",
              "              style=\"display:none;\">\n",
              "        \n",
              "  <svg xmlns=\"http://www.w3.org/2000/svg\" height=\"24px\"viewBox=\"0 0 24 24\"\n",
              "       width=\"24px\">\n",
              "    <path d=\"M0 0h24v24H0V0z\" fill=\"none\"/>\n",
              "    <path d=\"M18.56 5.44l.94 2.06.94-2.06 2.06-.94-2.06-.94-.94-2.06-.94 2.06-2.06.94zm-11 1L8.5 8.5l.94-2.06 2.06-.94-2.06-.94L8.5 2.5l-.94 2.06-2.06.94zm10 10l.94 2.06.94-2.06 2.06-.94-2.06-.94-.94-2.06-.94 2.06-2.06.94z\"/><path d=\"M17.41 7.96l-1.37-1.37c-.4-.4-.92-.59-1.43-.59-.52 0-1.04.2-1.43.59L10.3 9.45l-7.72 7.72c-.78.78-.78 2.05 0 2.83L4 21.41c.39.39.9.59 1.41.59.51 0 1.02-.2 1.41-.59l7.78-7.78 2.81-2.81c.8-.78.8-2.07 0-2.86zM5.41 20L4 18.59l7.72-7.72 1.47 1.35L5.41 20z\"/>\n",
              "  </svg>\n",
              "      </button>\n",
              "      \n",
              "  <style>\n",
              "    .colab-df-container {\n",
              "      display:flex;\n",
              "      flex-wrap:wrap;\n",
              "      gap: 12px;\n",
              "    }\n",
              "\n",
              "    .colab-df-convert {\n",
              "      background-color: #E8F0FE;\n",
              "      border: none;\n",
              "      border-radius: 50%;\n",
              "      cursor: pointer;\n",
              "      display: none;\n",
              "      fill: #1967D2;\n",
              "      height: 32px;\n",
              "      padding: 0 0 0 0;\n",
              "      width: 32px;\n",
              "    }\n",
              "\n",
              "    .colab-df-convert:hover {\n",
              "      background-color: #E2EBFA;\n",
              "      box-shadow: 0px 1px 2px rgba(60, 64, 67, 0.3), 0px 1px 3px 1px rgba(60, 64, 67, 0.15);\n",
              "      fill: #174EA6;\n",
              "    }\n",
              "\n",
              "    [theme=dark] .colab-df-convert {\n",
              "      background-color: #3B4455;\n",
              "      fill: #D2E3FC;\n",
              "    }\n",
              "\n",
              "    [theme=dark] .colab-df-convert:hover {\n",
              "      background-color: #434B5C;\n",
              "      box-shadow: 0px 1px 3px 1px rgba(0, 0, 0, 0.15);\n",
              "      filter: drop-shadow(0px 1px 2px rgba(0, 0, 0, 0.3));\n",
              "      fill: #FFFFFF;\n",
              "    }\n",
              "  </style>\n",
              "\n",
              "      <script>\n",
              "        const buttonEl =\n",
              "          document.querySelector('#df-7907339e-0f59-4984-a89c-0bd1c8ca4eae button.colab-df-convert');\n",
              "        buttonEl.style.display =\n",
              "          google.colab.kernel.accessAllowed ? 'block' : 'none';\n",
              "\n",
              "        async function convertToInteractive(key) {\n",
              "          const element = document.querySelector('#df-7907339e-0f59-4984-a89c-0bd1c8ca4eae');\n",
              "          const dataTable =\n",
              "            await google.colab.kernel.invokeFunction('convertToInteractive',\n",
              "                                                     [key], {});\n",
              "          if (!dataTable) return;\n",
              "\n",
              "          const docLinkHtml = 'Like what you see? Visit the ' +\n",
              "            '<a target=\"_blank\" href=https://colab.research.google.com/notebooks/data_table.ipynb>data table notebook</a>'\n",
              "            + ' to learn more about interactive tables.';\n",
              "          element.innerHTML = '';\n",
              "          dataTable['output_type'] = 'display_data';\n",
              "          await google.colab.output.renderOutput(dataTable, element);\n",
              "          const docLink = document.createElement('div');\n",
              "          docLink.innerHTML = docLinkHtml;\n",
              "          element.appendChild(docLink);\n",
              "        }\n",
              "      </script>\n",
              "    </div>\n",
              "  </div>\n",
              "  "
            ]
          },
          "metadata": {},
          "execution_count": 20
        }
      ],
      "source": [
        "participants_rst = ab_participants.query('ab_test_x == \"recommender_system_test\"')\n",
        "participants_rst"
      ]
    },
    {
      "cell_type": "markdown",
      "metadata": {
        "id": "bvqu12FDhKdM"
      },
      "source": [
        "После отбора нужного теста колчество участников стало 5099. Проверим наличие обеих групп в тесте:"
      ]
    },
    {
      "cell_type": "code",
      "execution_count": 21,
      "metadata": {
        "id": "tSpjo0PLhKdM",
        "colab": {
          "base_uri": "https://localhost:8080/"
        },
        "outputId": "5470d6a4-69af-404f-a724-2b814f3bac30"
      },
      "outputs": [
        {
          "output_type": "execute_result",
          "data": {
            "text/plain": [
              "A    2903\n",
              "B    2196\n",
              "Name: group, dtype: int64"
            ]
          },
          "metadata": {},
          "execution_count": 21
        }
      ],
      "source": [
        "participants_rst['group'].value_counts()"
      ]
    },
    {
      "cell_type": "markdown",
      "metadata": {
        "id": "pgYa3XRQhKdM"
      },
      "source": [
        "Группа А содержит 2903 участников, группа В - 2196 участников. Проверим период проведения теста:"
      ]
    },
    {
      "cell_type": "code",
      "execution_count": 22,
      "metadata": {
        "id": "kPkZTO-ahKdM",
        "colab": {
          "base_uri": "https://localhost:8080/"
        },
        "outputId": "f3caf483-e5da-4bf0-d04c-0d4dfc7ae38c"
      },
      "outputs": [
        {
          "output_type": "stream",
          "name": "stdout",
          "text": [
            "Min дата события: 2020-12-07 00:00:33\n",
            "Max дата события: 2020-12-30 23:36:33\n"
          ]
        }
      ],
      "source": [
        "print('Min дата события:',  ab_events['event_dt'].min())\n",
        "print('Max дата события:',  ab_events['event_dt'].max())"
      ]
    },
    {
      "cell_type": "markdown",
      "metadata": {
        "id": "l6j-BktDhKdM"
      },
      "source": [
        "Согласно ТЗ тест проводился в период с 2020-12-07 по 2021-01-04. У нас же данные только по 30 декабря, скорее всего случилась какая-то ошибка в выгрузке. ПРоверим дату остановки набора новых пользователей: 2020-12-21."
      ]
    },
    {
      "cell_type": "code",
      "execution_count": 23,
      "metadata": {
        "id": "AhQyM0hFhKdM",
        "colab": {
          "base_uri": "https://localhost:8080/"
        },
        "outputId": "917918d6-7c2a-403b-a1b7-24371b857e94"
      },
      "outputs": [
        {
          "output_type": "stream",
          "name": "stdout",
          "text": [
            "Max дата события: 2020-12-23 00:00:00\n"
          ]
        }
      ],
      "source": [
        "print('Max дата события:', new_users['first_date'].max())"
      ]
    },
    {
      "cell_type": "markdown",
      "metadata": {
        "id": "wAIkSlHzhKdM"
      },
      "source": [
        "Набор новых пользователей должен был проекратиться 21 декабря, у нас же есть данные по 23 декабря - нарушение - отберем данные в соответствии ТЗ."
      ]
    },
    {
      "cell_type": "code",
      "execution_count": 24,
      "metadata": {
        "id": "xmjyIKTXhKdM",
        "colab": {
          "base_uri": "https://localhost:8080/",
          "height": 424
        },
        "outputId": "3eb047b4-8e3f-4b85-cd84-889c0236c3ad"
      },
      "outputs": [
        {
          "output_type": "execute_result",
          "data": {
            "text/plain": [
              "                user_id first_date     region   device\n",
              "11634  70F36230F9B8638B 2020-12-21         EU  Android\n",
              "13339  835A6CDC7B175A51 2020-12-21         EU  Android\n",
              "13341  E882FE66AA0D9C75 2020-12-21         EU      Mac\n",
              "13342  C1015548222FFF3B 2020-12-21         EU   iPhone\n",
              "13343  F2C2AC35F5B746F1 2020-12-21  N.America  Android\n",
              "...                 ...        ...        ...      ...\n",
              "3734   C6435CD7B8A161E7 2020-12-07         EU  Android\n",
              "3735   93384A9D3598C56B 2020-12-07         EU   iPhone\n",
              "3736   CF163150ADFA1C7C 2020-12-07  N.America  Android\n",
              "3737   F41040A15B0AC503 2020-12-07         EU       PC\n",
              "0      D72A72121175D8BE 2020-12-07         EU       PC\n",
              "\n",
              "[56470 rows x 4 columns]"
            ],
            "text/html": [
              "\n",
              "  <div id=\"df-45847056-d1e6-42bf-8501-4976038d7970\">\n",
              "    <div class=\"colab-df-container\">\n",
              "      <div>\n",
              "<style scoped>\n",
              "    .dataframe tbody tr th:only-of-type {\n",
              "        vertical-align: middle;\n",
              "    }\n",
              "\n",
              "    .dataframe tbody tr th {\n",
              "        vertical-align: top;\n",
              "    }\n",
              "\n",
              "    .dataframe thead th {\n",
              "        text-align: right;\n",
              "    }\n",
              "</style>\n",
              "<table border=\"1\" class=\"dataframe\">\n",
              "  <thead>\n",
              "    <tr style=\"text-align: right;\">\n",
              "      <th></th>\n",
              "      <th>user_id</th>\n",
              "      <th>first_date</th>\n",
              "      <th>region</th>\n",
              "      <th>device</th>\n",
              "    </tr>\n",
              "  </thead>\n",
              "  <tbody>\n",
              "    <tr>\n",
              "      <th>11634</th>\n",
              "      <td>70F36230F9B8638B</td>\n",
              "      <td>2020-12-21</td>\n",
              "      <td>EU</td>\n",
              "      <td>Android</td>\n",
              "    </tr>\n",
              "    <tr>\n",
              "      <th>13339</th>\n",
              "      <td>835A6CDC7B175A51</td>\n",
              "      <td>2020-12-21</td>\n",
              "      <td>EU</td>\n",
              "      <td>Android</td>\n",
              "    </tr>\n",
              "    <tr>\n",
              "      <th>13341</th>\n",
              "      <td>E882FE66AA0D9C75</td>\n",
              "      <td>2020-12-21</td>\n",
              "      <td>EU</td>\n",
              "      <td>Mac</td>\n",
              "    </tr>\n",
              "    <tr>\n",
              "      <th>13342</th>\n",
              "      <td>C1015548222FFF3B</td>\n",
              "      <td>2020-12-21</td>\n",
              "      <td>EU</td>\n",
              "      <td>iPhone</td>\n",
              "    </tr>\n",
              "    <tr>\n",
              "      <th>13343</th>\n",
              "      <td>F2C2AC35F5B746F1</td>\n",
              "      <td>2020-12-21</td>\n",
              "      <td>N.America</td>\n",
              "      <td>Android</td>\n",
              "    </tr>\n",
              "    <tr>\n",
              "      <th>...</th>\n",
              "      <td>...</td>\n",
              "      <td>...</td>\n",
              "      <td>...</td>\n",
              "      <td>...</td>\n",
              "    </tr>\n",
              "    <tr>\n",
              "      <th>3734</th>\n",
              "      <td>C6435CD7B8A161E7</td>\n",
              "      <td>2020-12-07</td>\n",
              "      <td>EU</td>\n",
              "      <td>Android</td>\n",
              "    </tr>\n",
              "    <tr>\n",
              "      <th>3735</th>\n",
              "      <td>93384A9D3598C56B</td>\n",
              "      <td>2020-12-07</td>\n",
              "      <td>EU</td>\n",
              "      <td>iPhone</td>\n",
              "    </tr>\n",
              "    <tr>\n",
              "      <th>3736</th>\n",
              "      <td>CF163150ADFA1C7C</td>\n",
              "      <td>2020-12-07</td>\n",
              "      <td>N.America</td>\n",
              "      <td>Android</td>\n",
              "    </tr>\n",
              "    <tr>\n",
              "      <th>3737</th>\n",
              "      <td>F41040A15B0AC503</td>\n",
              "      <td>2020-12-07</td>\n",
              "      <td>EU</td>\n",
              "      <td>PC</td>\n",
              "    </tr>\n",
              "    <tr>\n",
              "      <th>0</th>\n",
              "      <td>D72A72121175D8BE</td>\n",
              "      <td>2020-12-07</td>\n",
              "      <td>EU</td>\n",
              "      <td>PC</td>\n",
              "    </tr>\n",
              "  </tbody>\n",
              "</table>\n",
              "<p>56470 rows × 4 columns</p>\n",
              "</div>\n",
              "      <button class=\"colab-df-convert\" onclick=\"convertToInteractive('df-45847056-d1e6-42bf-8501-4976038d7970')\"\n",
              "              title=\"Convert this dataframe to an interactive table.\"\n",
              "              style=\"display:none;\">\n",
              "        \n",
              "  <svg xmlns=\"http://www.w3.org/2000/svg\" height=\"24px\"viewBox=\"0 0 24 24\"\n",
              "       width=\"24px\">\n",
              "    <path d=\"M0 0h24v24H0V0z\" fill=\"none\"/>\n",
              "    <path d=\"M18.56 5.44l.94 2.06.94-2.06 2.06-.94-2.06-.94-.94-2.06-.94 2.06-2.06.94zm-11 1L8.5 8.5l.94-2.06 2.06-.94-2.06-.94L8.5 2.5l-.94 2.06-2.06.94zm10 10l.94 2.06.94-2.06 2.06-.94-2.06-.94-.94-2.06-.94 2.06-2.06.94z\"/><path d=\"M17.41 7.96l-1.37-1.37c-.4-.4-.92-.59-1.43-.59-.52 0-1.04.2-1.43.59L10.3 9.45l-7.72 7.72c-.78.78-.78 2.05 0 2.83L4 21.41c.39.39.9.59 1.41.59.51 0 1.02-.2 1.41-.59l7.78-7.78 2.81-2.81c.8-.78.8-2.07 0-2.86zM5.41 20L4 18.59l7.72-7.72 1.47 1.35L5.41 20z\"/>\n",
              "  </svg>\n",
              "      </button>\n",
              "      \n",
              "  <style>\n",
              "    .colab-df-container {\n",
              "      display:flex;\n",
              "      flex-wrap:wrap;\n",
              "      gap: 12px;\n",
              "    }\n",
              "\n",
              "    .colab-df-convert {\n",
              "      background-color: #E8F0FE;\n",
              "      border: none;\n",
              "      border-radius: 50%;\n",
              "      cursor: pointer;\n",
              "      display: none;\n",
              "      fill: #1967D2;\n",
              "      height: 32px;\n",
              "      padding: 0 0 0 0;\n",
              "      width: 32px;\n",
              "    }\n",
              "\n",
              "    .colab-df-convert:hover {\n",
              "      background-color: #E2EBFA;\n",
              "      box-shadow: 0px 1px 2px rgba(60, 64, 67, 0.3), 0px 1px 3px 1px rgba(60, 64, 67, 0.15);\n",
              "      fill: #174EA6;\n",
              "    }\n",
              "\n",
              "    [theme=dark] .colab-df-convert {\n",
              "      background-color: #3B4455;\n",
              "      fill: #D2E3FC;\n",
              "    }\n",
              "\n",
              "    [theme=dark] .colab-df-convert:hover {\n",
              "      background-color: #434B5C;\n",
              "      box-shadow: 0px 1px 3px 1px rgba(0, 0, 0, 0.15);\n",
              "      filter: drop-shadow(0px 1px 2px rgba(0, 0, 0, 0.3));\n",
              "      fill: #FFFFFF;\n",
              "    }\n",
              "  </style>\n",
              "\n",
              "      <script>\n",
              "        const buttonEl =\n",
              "          document.querySelector('#df-45847056-d1e6-42bf-8501-4976038d7970 button.colab-df-convert');\n",
              "        buttonEl.style.display =\n",
              "          google.colab.kernel.accessAllowed ? 'block' : 'none';\n",
              "\n",
              "        async function convertToInteractive(key) {\n",
              "          const element = document.querySelector('#df-45847056-d1e6-42bf-8501-4976038d7970');\n",
              "          const dataTable =\n",
              "            await google.colab.kernel.invokeFunction('convertToInteractive',\n",
              "                                                     [key], {});\n",
              "          if (!dataTable) return;\n",
              "\n",
              "          const docLinkHtml = 'Like what you see? Visit the ' +\n",
              "            '<a target=\"_blank\" href=https://colab.research.google.com/notebooks/data_table.ipynb>data table notebook</a>'\n",
              "            + ' to learn more about interactive tables.';\n",
              "          element.innerHTML = '';\n",
              "          dataTable['output_type'] = 'display_data';\n",
              "          await google.colab.output.renderOutput(dataTable, element);\n",
              "          const docLink = document.createElement('div');\n",
              "          docLink.innerHTML = docLinkHtml;\n",
              "          element.appendChild(docLink);\n",
              "        }\n",
              "      </script>\n",
              "    </div>\n",
              "  </div>\n",
              "  "
            ]
          },
          "metadata": {},
          "execution_count": 24
        }
      ],
      "source": [
        "new_users = new_users.query('first_date <= \"2020-12-21\"')\n",
        "new_users.sort_values(by='first_date', ascending=False)"
      ]
    },
    {
      "cell_type": "code",
      "execution_count": 25,
      "metadata": {
        "scrolled": false,
        "id": "s2YjFVBahKdM",
        "colab": {
          "base_uri": "https://localhost:8080/"
        },
        "outputId": "176f8877-5e16-41d5-8c0d-5c20cf7ebbee"
      },
      "outputs": [
        {
          "output_type": "execute_result",
          "data": {
            "text/plain": [
              "EU           42340\n",
              "N.America     8347\n",
              "CIS           2900\n",
              "APAC          2883\n",
              "Name: region, dtype: int64"
            ]
          },
          "metadata": {},
          "execution_count": 25
        }
      ],
      "source": [
        "new_users['region'].value_counts()"
      ]
    },
    {
      "cell_type": "code",
      "execution_count": 26,
      "metadata": {
        "id": "90R6s3dshKdc",
        "colab": {
          "base_uri": "https://localhost:8080/",
          "height": 312
        },
        "outputId": "7c01d838-1f73-48dc-ad0b-d098c7bee02b"
      },
      "outputs": [
        {
          "output_type": "execute_result",
          "data": {
            "text/plain": [
              "Text(0.5, 0, 'Регион')"
            ]
          },
          "metadata": {},
          "execution_count": 26
        },
        {
          "output_type": "display_data",
          "data": {
            "text/plain": [
              "<Figure size 720x288 with 1 Axes>"
            ],
            "image/png": "[encoded data removed]"
          },
          "metadata": {
            "needs_background": "light"
          }
        }
      ],
      "source": [
        "list=['EU', 'N.America', 'APAC', 'CIS']\n",
        "plt.figure(figsize=(10,4))\n",
        "sns.countplot(new_users['region'], x=list)\n",
        "plt.title('Распределение участников теста по регионам')\n",
        "plt.xlabel('Регион')"
      ]
    },
    {
      "cell_type": "markdown",
      "metadata": {
        "id": "emyltJ4uhKdc"
      },
      "source": [
        "Распределение по регионам выполненро неравномерно, возможно, следует изучать каждый регион в отдельности."
      ]
    },
    {
      "cell_type": "markdown",
      "metadata": {
        "id": "G42YNg4xhKdc"
      },
      "source": [
        "Выполним требование ТЗ по аудитории: 15% новых пользователей из региона EU"
      ]
    },
    {
      "cell_type": "code",
      "execution_count": 27,
      "metadata": {
        "id": "5QasV8WkhKdc",
        "colab": {
          "base_uri": "https://localhost:8080/"
        },
        "outputId": "1a9fc4f7-4266-4d9f-f64f-5542324c5e1c"
      },
      "outputs": [
        {
          "output_type": "stream",
          "name": "stdout",
          "text": [
            "% новых пользователей из региона \"Европа\": 12.04%\n"
          ]
        }
      ],
      "source": [
        "new_users = new_users.query('region == \"EU\"')\n",
        "print('% новых пользователей из региона \"Европа\": {:.2f}%'.format(len(participants_rst)/len(new_users)*100))"
      ]
    },
    {
      "cell_type": "markdown",
      "metadata": {
        "id": "ME9j-r8chKdc"
      },
      "source": [
        "После удаления участников обоих тестов процент новых пользователей из Европы сократился до 12%."
      ]
    },
    {
      "cell_type": "markdown",
      "metadata": {
        "id": "Avk7TiMThKdc"
      },
      "source": [
        "### Время проведения теста. Убедитесь, что оно не совпадает с маркетинговыми и другими активностями."
      ]
    },
    {
      "cell_type": "markdown",
      "metadata": {
        "id": "H2jmXYakhKdc"
      },
      "source": [
        "Так как целевая аудитория у нас пользователи из Европы, посмотрим, какие маркетинговые компании проводились в этом регионе, дата проведения теста - 2020-12-07 по 2021-01-04."
      ]
    },
    {
      "cell_type": "code",
      "execution_count": 28,
      "metadata": {
        "id": "8sWjJ4ZvhKdc",
        "colab": {
          "base_uri": "https://localhost:8080/",
          "height": 269
        },
        "outputId": "1c16515e-99f4-4f6b-d88b-59ed54eb4bba"
      },
      "outputs": [
        {
          "output_type": "execute_result",
          "data": {
            "text/plain": [
              "                               name                   regions   start_dt  \\\n",
              "0          Christmas&New Year Promo             EU, N.America 2020-12-25   \n",
              "5         Black Friday Ads Campaign  EU, CIS, APAC, N.America 2020-11-26   \n",
              "7  Labor day (May 1st) Ads Campaign             EU, CIS, APAC 2020-05-01   \n",
              "3                      Easter Promo  EU, CIS, APAC, N.America 2020-04-12   \n",
              "2            St. Patric's Day Promo             EU, N.America 2020-03-17   \n",
              "8   International Women's Day Promo             EU, CIS, APAC 2020-03-08   \n",
              "1      St. Valentine's Day Giveaway  EU, CIS, APAC, N.America 2020-02-14   \n",
              "\n",
              "   finish_dt  \n",
              "0 2021-01-03  \n",
              "5 2020-12-01  \n",
              "7 2020-05-03  \n",
              "3 2020-04-19  \n",
              "2 2020-03-19  \n",
              "8 2020-03-10  \n",
              "1 2020-02-16  "
            ],
            "text/html": [
              "\n",
              "  <div id=\"df-470164b3-b30d-4b2d-bc1a-7cc5dac86ef6\">\n",
              "    <div class=\"colab-df-container\">\n",
              "      <div>\n",
              "<style scoped>\n",
              "    .dataframe tbody tr th:only-of-type {\n",
              "        vertical-align: middle;\n",
              "    }\n",
              "\n",
              "    .dataframe tbody tr th {\n",
              "        vertical-align: top;\n",
              "    }\n",
              "\n",
              "    .dataframe thead th {\n",
              "        text-align: right;\n",
              "    }\n",
              "</style>\n",
              "<table border=\"1\" class=\"dataframe\">\n",
              "  <thead>\n",
              "    <tr style=\"text-align: right;\">\n",
              "      <th></th>\n",
              "      <th>name</th>\n",
              "      <th>regions</th>\n",
              "      <th>start_dt</th>\n",
              "      <th>finish_dt</th>\n",
              "    </tr>\n",
              "  </thead>\n",
              "  <tbody>\n",
              "    <tr>\n",
              "      <th>0</th>\n",
              "      <td>Christmas&amp;New Year Promo</td>\n",
              "      <td>EU, N.America</td>\n",
              "      <td>2020-12-25</td>\n",
              "      <td>2021-01-03</td>\n",
              "    </tr>\n",
              "    <tr>\n",
              "      <th>5</th>\n",
              "      <td>Black Friday Ads Campaign</td>\n",
              "      <td>EU, CIS, APAC, N.America</td>\n",
              "      <td>2020-11-26</td>\n",
              "      <td>2020-12-01</td>\n",
              "    </tr>\n",
              "    <tr>\n",
              "      <th>7</th>\n",
              "      <td>Labor day (May 1st) Ads Campaign</td>\n",
              "      <td>EU, CIS, APAC</td>\n",
              "      <td>2020-05-01</td>\n",
              "      <td>2020-05-03</td>\n",
              "    </tr>\n",
              "    <tr>\n",
              "      <th>3</th>\n",
              "      <td>Easter Promo</td>\n",
              "      <td>EU, CIS, APAC, N.America</td>\n",
              "      <td>2020-04-12</td>\n",
              "      <td>2020-04-19</td>\n",
              "    </tr>\n",
              "    <tr>\n",
              "      <th>2</th>\n",
              "      <td>St. Patric's Day Promo</td>\n",
              "      <td>EU, N.America</td>\n",
              "      <td>2020-03-17</td>\n",
              "      <td>2020-03-19</td>\n",
              "    </tr>\n",
              "    <tr>\n",
              "      <th>8</th>\n",
              "      <td>International Women's Day Promo</td>\n",
              "      <td>EU, CIS, APAC</td>\n",
              "      <td>2020-03-08</td>\n",
              "      <td>2020-03-10</td>\n",
              "    </tr>\n",
              "    <tr>\n",
              "      <th>1</th>\n",
              "      <td>St. Valentine's Day Giveaway</td>\n",
              "      <td>EU, CIS, APAC, N.America</td>\n",
              "      <td>2020-02-14</td>\n",
              "      <td>2020-02-16</td>\n",
              "    </tr>\n",
              "  </tbody>\n",
              "</table>\n",
              "</div>\n",
              "      <button class=\"colab-df-convert\" onclick=\"convertToInteractive('df-470164b3-b30d-4b2d-bc1a-7cc5dac86ef6')\"\n",
              "              title=\"Convert this dataframe to an interactive table.\"\n",
              "              style=\"display:none;\">\n",
              "        \n",
              "  <svg xmlns=\"http://www.w3.org/2000/svg\" height=\"24px\"viewBox=\"0 0 24 24\"\n",
              "       width=\"24px\">\n",
              "    <path d=\"M0 0h24v24H0V0z\" fill=\"none\"/>\n",
              "    <path d=\"M18.56 5.44l.94 2.06.94-2.06 2.06-.94-2.06-.94-.94-2.06-.94 2.06-2.06.94zm-11 1L8.5 8.5l.94-2.06 2.06-.94-2.06-.94L8.5 2.5l-.94 2.06-2.06.94zm10 10l.94 2.06.94-2.06 2.06-.94-2.06-.94-.94-2.06-.94 2.06-2.06.94z\"/><path d=\"M17.41 7.96l-1.37-1.37c-.4-.4-.92-.59-1.43-.59-.52 0-1.04.2-1.43.59L10.3 9.45l-7.72 7.72c-.78.78-.78 2.05 0 2.83L4 21.41c.39.39.9.59 1.41.59.51 0 1.02-.2 1.41-.59l7.78-7.78 2.81-2.81c.8-.78.8-2.07 0-2.86zM5.41 20L4 18.59l7.72-7.72 1.47 1.35L5.41 20z\"/>\n",
              "  </svg>\n",
              "      </button>\n",
              "      \n",
              "  <style>\n",
              "    .colab-df-container {\n",
              "      display:flex;\n",
              "      flex-wrap:wrap;\n",
              "      gap: 12px;\n",
              "    }\n",
              "\n",
              "    .colab-df-convert {\n",
              "      background-color: #E8F0FE;\n",
              "      border: none;\n",
              "      border-radius: 50%;\n",
              "      cursor: pointer;\n",
              "      display: none;\n",
              "      fill: #1967D2;\n",
              "      height: 32px;\n",
              "      padding: 0 0 0 0;\n",
              "      width: 32px;\n",
              "    }\n",
              "\n",
              "    .colab-df-convert:hover {\n",
              "      background-color: #E2EBFA;\n",
              "      box-shadow: 0px 1px 2px rgba(60, 64, 67, 0.3), 0px 1px 3px 1px rgba(60, 64, 67, 0.15);\n",
              "      fill: #174EA6;\n",
              "    }\n",
              "\n",
              "    [theme=dark] .colab-df-convert {\n",
              "      background-color: #3B4455;\n",
              "      fill: #D2E3FC;\n",
              "    }\n",
              "\n",
              "    [theme=dark] .colab-df-convert:hover {\n",
              "      background-color: #434B5C;\n",
              "      box-shadow: 0px 1px 3px 1px rgba(0, 0, 0, 0.15);\n",
              "      filter: drop-shadow(0px 1px 2px rgba(0, 0, 0, 0.3));\n",
              "      fill: #FFFFFF;\n",
              "    }\n",
              "  </style>\n",
              "\n",
              "      <script>\n",
              "        const buttonEl =\n",
              "          document.querySelector('#df-470164b3-b30d-4b2d-bc1a-7cc5dac86ef6 button.colab-df-convert');\n",
              "        buttonEl.style.display =\n",
              "          google.colab.kernel.accessAllowed ? 'block' : 'none';\n",
              "\n",
              "        async function convertToInteractive(key) {\n",
              "          const element = document.querySelector('#df-470164b3-b30d-4b2d-bc1a-7cc5dac86ef6');\n",
              "          const dataTable =\n",
              "            await google.colab.kernel.invokeFunction('convertToInteractive',\n",
              "                                                     [key], {});\n",
              "          if (!dataTable) return;\n",
              "\n",
              "          const docLinkHtml = 'Like what you see? Visit the ' +\n",
              "            '<a target=\"_blank\" href=https://colab.research.google.com/notebooks/data_table.ipynb>data table notebook</a>'\n",
              "            + ' to learn more about interactive tables.';\n",
              "          element.innerHTML = '';\n",
              "          dataTable['output_type'] = 'display_data';\n",
              "          await google.colab.output.renderOutput(dataTable, element);\n",
              "          const docLink = document.createElement('div');\n",
              "          docLink.innerHTML = docLinkHtml;\n",
              "          element.appendChild(docLink);\n",
              "        }\n",
              "      </script>\n",
              "    </div>\n",
              "  </div>\n",
              "  "
            ]
          },
          "metadata": {},
          "execution_count": 28
        }
      ],
      "source": [
        "marketin_events_eu = marketin_events.query('regions!=\"APAC\" & regions!=\"CIS\" & regions!=\"N.America\"')\n",
        "marketin_events_eu.sort_values(by='start_dt', ascending=False)"
      ]
    },
    {
      "cell_type": "markdown",
      "metadata": {
        "id": "vlZZ5xmqhKdc"
      },
      "source": [
        "Таким образом видно, что в период проведения теста проводилась рекламная кампания \"Christmas&New Year Promo\", которая могла повлиять на результат теста, также дата проведения теста совпадает с новогодними праздниками, что также может плачевно сказаться на проведении тестов - так как обычное поведение пользователей в этот период сильно меняется"
      ]
    },
    {
      "cell_type": "markdown",
      "metadata": {
        "id": "6yOI0ptshKdc"
      },
      "source": [
        "### Аудиторию теста. Удостоверьтесь, что нет пересечений с конкурирующим тестом и нет пользователей, участвующих в двух группах теста одновременно. Проверьте равномерность распределения по тестовым группам и правильность их формирования"
      ]
    },
    {
      "cell_type": "markdown",
      "metadata": {
        "id": "A3BRkzg_hKdr"
      },
      "source": [
        "Объединим таблицу с поьзователями с таблицей участников тестов"
      ]
    },
    {
      "cell_type": "code",
      "execution_count": 29,
      "metadata": {
        "id": "dR_In4bshKdr",
        "colab": {
          "base_uri": "https://localhost:8080/"
        },
        "outputId": "5d2efedd-038e-4487-c484-55ec42d2c608"
      },
      "outputs": [
        {
          "output_type": "execute_result",
          "data": {
            "text/plain": [
              "EU    4749\n",
              "Name: region, dtype: int64"
            ]
          },
          "metadata": {},
          "execution_count": 29
        }
      ],
      "source": [
        "users_test = new_users.merge(\n",
        "    participants_rst, on='user_id', how='left').dropna()\n",
        "users_test['region'].value_counts()"
      ]
    },
    {
      "cell_type": "markdown",
      "metadata": {
        "id": "XfWVx0_mhKdr"
      },
      "source": [
        "Удалим уже ненужный столбец с количеством тестов"
      ]
    },
    {
      "cell_type": "code",
      "execution_count": 30,
      "metadata": {
        "id": "aiqLGAKzhKdr",
        "colab": {
          "base_uri": "https://localhost:8080/",
          "height": 424
        },
        "outputId": "7a12d2a0-97ec-424e-db68-fca668980fdb"
      },
      "outputs": [
        {
          "output_type": "execute_result",
          "data": {
            "text/plain": [
              "                user_id first_date region   device group  \\\n",
              "0      D72A72121175D8BE 2020-12-07     EU       PC     A   \n",
              "16     831887FE7F2D6CBA 2020-12-07     EU  Android     A   \n",
              "28     4CB179C7F847320B 2020-12-07     EU   iPhone     B   \n",
              "47     16C69ED14DA9F4A8 2020-12-07     EU       PC     B   \n",
              "50     3C5DD0288AC4FE23 2020-12-07     EU       PC     A   \n",
              "...                 ...        ...    ...      ...   ...   \n",
              "42298  3CA972F86411CF13 2020-12-20     EU       PC     A   \n",
              "42308  0F7D49FC184EDCDE 2020-12-20     EU       PC     A   \n",
              "42319  574ACBC674BC385D 2020-12-20     EU      Mac     A   \n",
              "42320  0416B34D35C8C8B8 2020-12-20     EU  Android     A   \n",
              "42325  89CB0BFBC3F35126 2020-12-20     EU       PC     B   \n",
              "\n",
              "                     ab_test_x  \n",
              "0      recommender_system_test  \n",
              "16     recommender_system_test  \n",
              "28     recommender_system_test  \n",
              "47     recommender_system_test  \n",
              "50     recommender_system_test  \n",
              "...                        ...  \n",
              "42298  recommender_system_test  \n",
              "42308  recommender_system_test  \n",
              "42319  recommender_system_test  \n",
              "42320  recommender_system_test  \n",
              "42325  recommender_system_test  \n",
              "\n",
              "[4749 rows x 6 columns]"
            ],
            "text/html": [
              "\n",
              "  <div id=\"df-040b575d-8703-49c7-b405-157e2e12f6a5\">\n",
              "    <div class=\"colab-df-container\">\n",
              "      <div>\n",
              "<style scoped>\n",
              "    .dataframe tbody tr th:only-of-type {\n",
              "        vertical-align: middle;\n",
              "    }\n",
              "\n",
              "    .dataframe tbody tr th {\n",
              "        vertical-align: top;\n",
              "    }\n",
              "\n",
              "    .dataframe thead th {\n",
              "        text-align: right;\n",
              "    }\n",
              "</style>\n",
              "<table border=\"1\" class=\"dataframe\">\n",
              "  <thead>\n",
              "    <tr style=\"text-align: right;\">\n",
              "      <th></th>\n",
              "      <th>user_id</th>\n",
              "      <th>first_date</th>\n",
              "      <th>region</th>\n",
              "      <th>device</th>\n",
              "      <th>group</th>\n",
              "      <th>ab_test_x</th>\n",
              "    </tr>\n",
              "  </thead>\n",
              "  <tbody>\n",
              "    <tr>\n",
              "      <th>0</th>\n",
              "      <td>D72A72121175D8BE</td>\n",
              "      <td>2020-12-07</td>\n",
              "      <td>EU</td>\n",
              "      <td>PC</td>\n",
              "      <td>A</td>\n",
              "      <td>recommender_system_test</td>\n",
              "    </tr>\n",
              "    <tr>\n",
              "      <th>16</th>\n",
              "      <td>831887FE7F2D6CBA</td>\n",
              "      <td>2020-12-07</td>\n",
              "      <td>EU</td>\n",
              "      <td>Android</td>\n",
              "      <td>A</td>\n",
              "      <td>recommender_system_test</td>\n",
              "    </tr>\n",
              "    <tr>\n",
              "      <th>28</th>\n",
              "      <td>4CB179C7F847320B</td>\n",
              "      <td>2020-12-07</td>\n",
              "      <td>EU</td>\n",
              "      <td>iPhone</td>\n",
              "      <td>B</td>\n",
              "      <td>recommender_system_test</td>\n",
              "    </tr>\n",
              "    <tr>\n",
              "      <th>47</th>\n",
              "      <td>16C69ED14DA9F4A8</td>\n",
              "      <td>2020-12-07</td>\n",
              "      <td>EU</td>\n",
              "      <td>PC</td>\n",
              "      <td>B</td>\n",
              "      <td>recommender_system_test</td>\n",
              "    </tr>\n",
              "    <tr>\n",
              "      <th>50</th>\n",
              "      <td>3C5DD0288AC4FE23</td>\n",
              "      <td>2020-12-07</td>\n",
              "      <td>EU</td>\n",
              "      <td>PC</td>\n",
              "      <td>A</td>\n",
              "      <td>recommender_system_test</td>\n",
              "    </tr>\n",
              "    <tr>\n",
              "      <th>...</th>\n",
              "      <td>...</td>\n",
              "      <td>...</td>\n",
              "      <td>...</td>\n",
              "      <td>...</td>\n",
              "      <td>...</td>\n",
              "      <td>...</td>\n",
              "    </tr>\n",
              "    <tr>\n",
              "      <th>42298</th>\n",
              "      <td>3CA972F86411CF13</td>\n",
              "      <td>2020-12-20</td>\n",
              "      <td>EU</td>\n",
              "      <td>PC</td>\n",
              "      <td>A</td>\n",
              "      <td>recommender_system_test</td>\n",
              "    </tr>\n",
              "    <tr>\n",
              "      <th>42308</th>\n",
              "      <td>0F7D49FC184EDCDE</td>\n",
              "      <td>2020-12-20</td>\n",
              "      <td>EU</td>\n",
              "      <td>PC</td>\n",
              "      <td>A</td>\n",
              "      <td>recommender_system_test</td>\n",
              "    </tr>\n",
              "    <tr>\n",
              "      <th>42319</th>\n",
              "      <td>574ACBC674BC385D</td>\n",
              "      <td>2020-12-20</td>\n",
              "      <td>EU</td>\n",
              "      <td>Mac</td>\n",
              "      <td>A</td>\n",
              "      <td>recommender_system_test</td>\n",
              "    </tr>\n",
              "    <tr>\n",
              "      <th>42320</th>\n",
              "      <td>0416B34D35C8C8B8</td>\n",
              "      <td>2020-12-20</td>\n",
              "      <td>EU</td>\n",
              "      <td>Android</td>\n",
              "      <td>A</td>\n",
              "      <td>recommender_system_test</td>\n",
              "    </tr>\n",
              "    <tr>\n",
              "      <th>42325</th>\n",
              "      <td>89CB0BFBC3F35126</td>\n",
              "      <td>2020-12-20</td>\n",
              "      <td>EU</td>\n",
              "      <td>PC</td>\n",
              "      <td>B</td>\n",
              "      <td>recommender_system_test</td>\n",
              "    </tr>\n",
              "  </tbody>\n",
              "</table>\n",
              "<p>4749 rows × 6 columns</p>\n",
              "</div>\n",
              "      <button class=\"colab-df-convert\" onclick=\"convertToInteractive('df-040b575d-8703-49c7-b405-157e2e12f6a5')\"\n",
              "              title=\"Convert this dataframe to an interactive table.\"\n",
              "              style=\"display:none;\">\n",
              "        \n",
              "  <svg xmlns=\"http://www.w3.org/2000/svg\" height=\"24px\"viewBox=\"0 0 24 24\"\n",
              "       width=\"24px\">\n",
              "    <path d=\"M0 0h24v24H0V0z\" fill=\"none\"/>\n",
              "    <path d=\"M18.56 5.44l.94 2.06.94-2.06 2.06-.94-2.06-.94-.94-2.06-.94 2.06-2.06.94zm-11 1L8.5 8.5l.94-2.06 2.06-.94-2.06-.94L8.5 2.5l-.94 2.06-2.06.94zm10 10l.94 2.06.94-2.06 2.06-.94-2.06-.94-.94-2.06-.94 2.06-2.06.94z\"/><path d=\"M17.41 7.96l-1.37-1.37c-.4-.4-.92-.59-1.43-.59-.52 0-1.04.2-1.43.59L10.3 9.45l-7.72 7.72c-.78.78-.78 2.05 0 2.83L4 21.41c.39.39.9.59 1.41.59.51 0 1.02-.2 1.41-.59l7.78-7.78 2.81-2.81c.8-.78.8-2.07 0-2.86zM5.41 20L4 18.59l7.72-7.72 1.47 1.35L5.41 20z\"/>\n",
              "  </svg>\n",
              "      </button>\n",
              "      \n",
              "  <style>\n",
              "    .colab-df-container {\n",
              "      display:flex;\n",
              "      flex-wrap:wrap;\n",
              "      gap: 12px;\n",
              "    }\n",
              "\n",
              "    .colab-df-convert {\n",
              "      background-color: #E8F0FE;\n",
              "      border: none;\n",
              "      border-radius: 50%;\n",
              "      cursor: pointer;\n",
              "      display: none;\n",
              "      fill: #1967D2;\n",
              "      height: 32px;\n",
              "      padding: 0 0 0 0;\n",
              "      width: 32px;\n",
              "    }\n",
              "\n",
              "    .colab-df-convert:hover {\n",
              "      background-color: #E2EBFA;\n",
              "      box-shadow: 0px 1px 2px rgba(60, 64, 67, 0.3), 0px 1px 3px 1px rgba(60, 64, 67, 0.15);\n",
              "      fill: #174EA6;\n",
              "    }\n",
              "\n",
              "    [theme=dark] .colab-df-convert {\n",
              "      background-color: #3B4455;\n",
              "      fill: #D2E3FC;\n",
              "    }\n",
              "\n",
              "    [theme=dark] .colab-df-convert:hover {\n",
              "      background-color: #434B5C;\n",
              "      box-shadow: 0px 1px 3px 1px rgba(0, 0, 0, 0.15);\n",
              "      filter: drop-shadow(0px 1px 2px rgba(0, 0, 0, 0.3));\n",
              "      fill: #FFFFFF;\n",
              "    }\n",
              "  </style>\n",
              "\n",
              "      <script>\n",
              "        const buttonEl =\n",
              "          document.querySelector('#df-040b575d-8703-49c7-b405-157e2e12f6a5 button.colab-df-convert');\n",
              "        buttonEl.style.display =\n",
              "          google.colab.kernel.accessAllowed ? 'block' : 'none';\n",
              "\n",
              "        async function convertToInteractive(key) {\n",
              "          const element = document.querySelector('#df-040b575d-8703-49c7-b405-157e2e12f6a5');\n",
              "          const dataTable =\n",
              "            await google.colab.kernel.invokeFunction('convertToInteractive',\n",
              "                                                     [key], {});\n",
              "          if (!dataTable) return;\n",
              "\n",
              "          const docLinkHtml = 'Like what you see? Visit the ' +\n",
              "            '<a target=\"_blank\" href=https://colab.research.google.com/notebooks/data_table.ipynb>data table notebook</a>'\n",
              "            + ' to learn more about interactive tables.';\n",
              "          element.innerHTML = '';\n",
              "          dataTable['output_type'] = 'display_data';\n",
              "          await google.colab.output.renderOutput(dataTable, element);\n",
              "          const docLink = document.createElement('div');\n",
              "          docLink.innerHTML = docLinkHtml;\n",
              "          element.appendChild(docLink);\n",
              "        }\n",
              "      </script>\n",
              "    </div>\n",
              "  </div>\n",
              "  "
            ]
          },
          "metadata": {},
          "execution_count": 30
        }
      ],
      "source": [
        "users_test = users_test.drop(columns='ab_test_y')\n",
        "users_test"
      ]
    },
    {
      "cell_type": "markdown",
      "metadata": {
        "id": "lHCxEg2dhKdr"
      },
      "source": [
        "Проверим пересечение участников в двух группах теста"
      ]
    },
    {
      "cell_type": "code",
      "execution_count": 31,
      "metadata": {
        "id": "t2-b_UXMhKdr",
        "colab": {
          "base_uri": "https://localhost:8080/"
        },
        "outputId": "a2586e5d-1baa-48bc-e85f-c4fc2f57d332"
      },
      "outputs": [
        {
          "output_type": "execute_result",
          "data": {
            "text/plain": [
              "user_id    0\n",
              "group      0\n",
              "dtype: int64"
            ]
          },
          "metadata": {},
          "execution_count": 31
        }
      ],
      "source": [
        "user_test_ab=users_test.groupby('user_id').agg({'group' : 'nunique'}).reset_index()\n",
        "user_test_ab = user_test_ab.query('group==2').count()\n",
        "user_test_ab"
      ]
    },
    {
      "cell_type": "markdown",
      "metadata": {
        "id": "yXL_1m2uhKdr"
      },
      "source": [
        "Пересечений учпстников в группах нет. Таким образом конечное число участникорв теста - 4749, что ниже требований ТЗ"
      ]
    },
    {
      "cell_type": "code",
      "execution_count": 32,
      "metadata": {
        "id": "4SN9m1xahKdr",
        "colab": {
          "base_uri": "https://localhost:8080/"
        },
        "outputId": "79be98d3-72fa-4949-a73d-f897d1d8f328"
      },
      "outputs": [
        {
          "output_type": "execute_result",
          "data": {
            "text/plain": [
              "A    2713\n",
              "B    2036\n",
              "Name: group, dtype: int64"
            ]
          },
          "metadata": {},
          "execution_count": 32
        }
      ],
      "source": [
        "users_test['group'].value_counts()"
      ]
    },
    {
      "cell_type": "markdown",
      "metadata": {
        "id": "_2MMcwqvhKdr"
      },
      "source": [
        "Группа А содержит 2713 участников, что на 677 участников больше, чем группа Б(2036). Добавим к таблице с участниками таблицу с событиями"
      ]
    },
    {
      "cell_type": "code",
      "execution_count": 33,
      "metadata": {
        "id": "R7IaIy42hKdr",
        "colab": {
          "base_uri": "https://localhost:8080/",
          "height": 424
        },
        "outputId": "19eab08a-4637-4c2a-880b-b59acb279f43"
      },
      "outputs": [
        {
          "output_type": "execute_result",
          "data": {
            "text/plain": [
              "                user_id first_date region   device group  \\\n",
              "0      D72A72121175D8BE 2020-12-07     EU       PC     A   \n",
              "1      D72A72121175D8BE 2020-12-07     EU       PC     A   \n",
              "2      831887FE7F2D6CBA 2020-12-07     EU  Android     A   \n",
              "3      831887FE7F2D6CBA 2020-12-07     EU  Android     A   \n",
              "4      831887FE7F2D6CBA 2020-12-07     EU  Android     A   \n",
              "...                 ...        ...    ...      ...   ...   \n",
              "19676  0416B34D35C8C8B8 2020-12-20     EU  Android     A   \n",
              "19677  0416B34D35C8C8B8 2020-12-20     EU  Android     A   \n",
              "19678  0416B34D35C8C8B8 2020-12-20     EU  Android     A   \n",
              "19679  0416B34D35C8C8B8 2020-12-20     EU  Android     A   \n",
              "19680  89CB0BFBC3F35126 2020-12-20     EU       PC     B   \n",
              "\n",
              "                     ab_test_x            event_dt    event_name  details  \n",
              "0      recommender_system_test 2020-12-07 21:52:10  product_page      NaN  \n",
              "1      recommender_system_test 2020-12-07 21:52:07         login      NaN  \n",
              "2      recommender_system_test 2020-12-07 06:50:29      purchase     4.99  \n",
              "3      recommender_system_test 2020-12-09 02:19:17      purchase    99.99  \n",
              "4      recommender_system_test 2020-12-07 06:50:30  product_cart      NaN  \n",
              "...                        ...                 ...           ...      ...  \n",
              "19676  recommender_system_test 2020-12-24 09:12:51  product_page      NaN  \n",
              "19677  recommender_system_test 2020-12-20 20:58:25         login      NaN  \n",
              "19678  recommender_system_test 2020-12-21 22:28:29         login      NaN  \n",
              "19679  recommender_system_test 2020-12-24 09:12:49         login      NaN  \n",
              "19680  recommender_system_test                 NaT           NaN      NaN  \n",
              "\n",
              "[19681 rows x 9 columns]"
            ],
            "text/html": [
              "\n",
              "  <div id=\"df-a17f0ee9-8be3-41d9-a03c-8bb47e86a4bf\">\n",
              "    <div class=\"colab-df-container\">\n",
              "      <div>\n",
              "<style scoped>\n",
              "    .dataframe tbody tr th:only-of-type {\n",
              "        vertical-align: middle;\n",
              "    }\n",
              "\n",
              "    .dataframe tbody tr th {\n",
              "        vertical-align: top;\n",
              "    }\n",
              "\n",
              "    .dataframe thead th {\n",
              "        text-align: right;\n",
              "    }\n",
              "</style>\n",
              "<table border=\"1\" class=\"dataframe\">\n",
              "  <thead>\n",
              "    <tr style=\"text-align: right;\">\n",
              "      <th></th>\n",
              "      <th>user_id</th>\n",
              "      <th>first_date</th>\n",
              "      <th>region</th>\n",
              "      <th>device</th>\n",
              "      <th>group</th>\n",
              "      <th>ab_test_x</th>\n",
              "      <th>event_dt</th>\n",
              "      <th>event_name</th>\n",
              "      <th>details</th>\n",
              "    </tr>\n",
              "  </thead>\n",
              "  <tbody>\n",
              "    <tr>\n",
              "      <th>0</th>\n",
              "      <td>D72A72121175D8BE</td>\n",
              "      <td>2020-12-07</td>\n",
              "      <td>EU</td>\n",
              "      <td>PC</td>\n",
              "      <td>A</td>\n",
              "      <td>recommender_system_test</td>\n",
              "      <td>2020-12-07 21:52:10</td>\n",
              "      <td>product_page</td>\n",
              "      <td>NaN</td>\n",
              "    </tr>\n",
              "    <tr>\n",
              "      <th>1</th>\n",
              "      <td>D72A72121175D8BE</td>\n",
              "      <td>2020-12-07</td>\n",
              "      <td>EU</td>\n",
              "      <td>PC</td>\n",
              "      <td>A</td>\n",
              "      <td>recommender_system_test</td>\n",
              "      <td>2020-12-07 21:52:07</td>\n",
              "      <td>login</td>\n",
              "      <td>NaN</td>\n",
              "    </tr>\n",
              "    <tr>\n",
              "      <th>2</th>\n",
              "      <td>831887FE7F2D6CBA</td>\n",
              "      <td>2020-12-07</td>\n",
              "      <td>EU</td>\n",
              "      <td>Android</td>\n",
              "      <td>A</td>\n",
              "      <td>recommender_system_test</td>\n",
              "      <td>2020-12-07 06:50:29</td>\n",
              "      <td>purchase</td>\n",
              "      <td>4.99</td>\n",
              "    </tr>\n",
              "    <tr>\n",
              "      <th>3</th>\n",
              "      <td>831887FE7F2D6CBA</td>\n",
              "      <td>2020-12-07</td>\n",
              "      <td>EU</td>\n",
              "      <td>Android</td>\n",
              "      <td>A</td>\n",
              "      <td>recommender_system_test</td>\n",
              "      <td>2020-12-09 02:19:17</td>\n",
              "      <td>purchase</td>\n",
              "      <td>99.99</td>\n",
              "    </tr>\n",
              "    <tr>\n",
              "      <th>4</th>\n",
              "      <td>831887FE7F2D6CBA</td>\n",
              "      <td>2020-12-07</td>\n",
              "      <td>EU</td>\n",
              "      <td>Android</td>\n",
              "      <td>A</td>\n",
              "      <td>recommender_system_test</td>\n",
              "      <td>2020-12-07 06:50:30</td>\n",
              "      <td>product_cart</td>\n",
              "      <td>NaN</td>\n",
              "    </tr>\n",
              "    <tr>\n",
              "      <th>...</th>\n",
              "      <td>...</td>\n",
              "      <td>...</td>\n",
              "      <td>...</td>\n",
              "      <td>...</td>\n",
              "      <td>...</td>\n",
              "      <td>...</td>\n",
              "      <td>...</td>\n",
              "      <td>...</td>\n",
              "      <td>...</td>\n",
              "    </tr>\n",
              "    <tr>\n",
              "      <th>19676</th>\n",
              "      <td>0416B34D35C8C8B8</td>\n",
              "      <td>2020-12-20</td>\n",
              "      <td>EU</td>\n",
              "      <td>Android</td>\n",
              "      <td>A</td>\n",
              "      <td>recommender_system_test</td>\n",
              "      <td>2020-12-24 09:12:51</td>\n",
              "      <td>product_page</td>\n",
              "      <td>NaN</td>\n",
              "    </tr>\n",
              "    <tr>\n",
              "      <th>19677</th>\n",
              "      <td>0416B34D35C8C8B8</td>\n",
              "      <td>2020-12-20</td>\n",
              "      <td>EU</td>\n",
              "      <td>Android</td>\n",
              "      <td>A</td>\n",
              "      <td>recommender_system_test</td>\n",
              "      <td>2020-12-20 20:58:25</td>\n",
              "      <td>login</td>\n",
              "      <td>NaN</td>\n",
              "    </tr>\n",
              "    <tr>\n",
              "      <th>19678</th>\n",
              "      <td>0416B34D35C8C8B8</td>\n",
              "      <td>2020-12-20</td>\n",
              "      <td>EU</td>\n",
              "      <td>Android</td>\n",
              "      <td>A</td>\n",
              "      <td>recommender_system_test</td>\n",
              "      <td>2020-12-21 22:28:29</td>\n",
              "      <td>login</td>\n",
              "      <td>NaN</td>\n",
              "    </tr>\n",
              "    <tr>\n",
              "      <th>19679</th>\n",
              "      <td>0416B34D35C8C8B8</td>\n",
              "      <td>2020-12-20</td>\n",
              "      <td>EU</td>\n",
              "      <td>Android</td>\n",
              "      <td>A</td>\n",
              "      <td>recommender_system_test</td>\n",
              "      <td>2020-12-24 09:12:49</td>\n",
              "      <td>login</td>\n",
              "      <td>NaN</td>\n",
              "    </tr>\n",
              "    <tr>\n",
              "      <th>19680</th>\n",
              "      <td>89CB0BFBC3F35126</td>\n",
              "      <td>2020-12-20</td>\n",
              "      <td>EU</td>\n",
              "      <td>PC</td>\n",
              "      <td>B</td>\n",
              "      <td>recommender_system_test</td>\n",
              "      <td>NaT</td>\n",
              "      <td>NaN</td>\n",
              "      <td>NaN</td>\n",
              "    </tr>\n",
              "  </tbody>\n",
              "</table>\n",
              "<p>19681 rows × 9 columns</p>\n",
              "</div>\n",
              "      <button class=\"colab-df-convert\" onclick=\"convertToInteractive('df-a17f0ee9-8be3-41d9-a03c-8bb47e86a4bf')\"\n",
              "              title=\"Convert this dataframe to an interactive table.\"\n",
              "              style=\"display:none;\">\n",
              "        \n",
              "  <svg xmlns=\"http://www.w3.org/2000/svg\" height=\"24px\"viewBox=\"0 0 24 24\"\n",
              "       width=\"24px\">\n",
              "    <path d=\"M0 0h24v24H0V0z\" fill=\"none\"/>\n",
              "    <path d=\"M18.56 5.44l.94 2.06.94-2.06 2.06-.94-2.06-.94-.94-2.06-.94 2.06-2.06.94zm-11 1L8.5 8.5l.94-2.06 2.06-.94-2.06-.94L8.5 2.5l-.94 2.06-2.06.94zm10 10l.94 2.06.94-2.06 2.06-.94-2.06-.94-.94-2.06-.94 2.06-2.06.94z\"/><path d=\"M17.41 7.96l-1.37-1.37c-.4-.4-.92-.59-1.43-.59-.52 0-1.04.2-1.43.59L10.3 9.45l-7.72 7.72c-.78.78-.78 2.05 0 2.83L4 21.41c.39.39.9.59 1.41.59.51 0 1.02-.2 1.41-.59l7.78-7.78 2.81-2.81c.8-.78.8-2.07 0-2.86zM5.41 20L4 18.59l7.72-7.72 1.47 1.35L5.41 20z\"/>\n",
              "  </svg>\n",
              "      </button>\n",
              "      \n",
              "  <style>\n",
              "    .colab-df-container {\n",
              "      display:flex;\n",
              "      flex-wrap:wrap;\n",
              "      gap: 12px;\n",
              "    }\n",
              "\n",
              "    .colab-df-convert {\n",
              "      background-color: #E8F0FE;\n",
              "      border: none;\n",
              "      border-radius: 50%;\n",
              "      cursor: pointer;\n",
              "      display: none;\n",
              "      fill: #1967D2;\n",
              "      height: 32px;\n",
              "      padding: 0 0 0 0;\n",
              "      width: 32px;\n",
              "    }\n",
              "\n",
              "    .colab-df-convert:hover {\n",
              "      background-color: #E2EBFA;\n",
              "      box-shadow: 0px 1px 2px rgba(60, 64, 67, 0.3), 0px 1px 3px 1px rgba(60, 64, 67, 0.15);\n",
              "      fill: #174EA6;\n",
              "    }\n",
              "\n",
              "    [theme=dark] .colab-df-convert {\n",
              "      background-color: #3B4455;\n",
              "      fill: #D2E3FC;\n",
              "    }\n",
              "\n",
              "    [theme=dark] .colab-df-convert:hover {\n",
              "      background-color: #434B5C;\n",
              "      box-shadow: 0px 1px 3px 1px rgba(0, 0, 0, 0.15);\n",
              "      filter: drop-shadow(0px 1px 2px rgba(0, 0, 0, 0.3));\n",
              "      fill: #FFFFFF;\n",
              "    }\n",
              "  </style>\n",
              "\n",
              "      <script>\n",
              "        const buttonEl =\n",
              "          document.querySelector('#df-a17f0ee9-8be3-41d9-a03c-8bb47e86a4bf button.colab-df-convert');\n",
              "        buttonEl.style.display =\n",
              "          google.colab.kernel.accessAllowed ? 'block' : 'none';\n",
              "\n",
              "        async function convertToInteractive(key) {\n",
              "          const element = document.querySelector('#df-a17f0ee9-8be3-41d9-a03c-8bb47e86a4bf');\n",
              "          const dataTable =\n",
              "            await google.colab.kernel.invokeFunction('convertToInteractive',\n",
              "                                                     [key], {});\n",
              "          if (!dataTable) return;\n",
              "\n",
              "          const docLinkHtml = 'Like what you see? Visit the ' +\n",
              "            '<a target=\"_blank\" href=https://colab.research.google.com/notebooks/data_table.ipynb>data table notebook</a>'\n",
              "            + ' to learn more about interactive tables.';\n",
              "          element.innerHTML = '';\n",
              "          dataTable['output_type'] = 'display_data';\n",
              "          await google.colab.output.renderOutput(dataTable, element);\n",
              "          const docLink = document.createElement('div');\n",
              "          docLink.innerHTML = docLinkHtml;\n",
              "          element.appendChild(docLink);\n",
              "        }\n",
              "      </script>\n",
              "    </div>\n",
              "  </div>\n",
              "  "
            ]
          },
          "metadata": {},
          "execution_count": 33
        }
      ],
      "source": [
        "users_test = users_test.merge(ab_events, on='user_id', how='left')\n",
        "users_test"
      ]
    },
    {
      "cell_type": "code",
      "execution_count": 34,
      "metadata": {
        "id": "auxVvHv9hKdr",
        "colab": {
          "base_uri": "https://localhost:8080/"
        },
        "outputId": "937e817d-cc03-4389-ea3a-cb2a32948036"
      },
      "outputs": [
        {
          "output_type": "execute_result",
          "data": {
            "text/plain": [
              "EU    19681\n",
              "Name: region, dtype: int64"
            ]
          },
          "metadata": {},
          "execution_count": 34
        }
      ],
      "source": [
        "users_test['region'].value_counts()"
      ]
    },
    {
      "cell_type": "markdown",
      "metadata": {
        "id": "hGWI0N5DhKea"
      },
      "source": [
        "## Проведите исследовательский анализ данных:"
      ]
    },
    {
      "cell_type": "markdown",
      "metadata": {
        "id": "uYyGFkgLhKeq"
      },
      "source": [
        "### Количество событий на пользователя одинаково распределены в выборках? "
      ]
    },
    {
      "cell_type": "markdown",
      "metadata": {
        "id": "rNRyFwm8hKeq"
      },
      "source": [
        "Найдем среднее количество событий на каждого пользователа по каждой из групп"
      ]
    },
    {
      "cell_type": "code",
      "execution_count": 35,
      "metadata": {
        "id": "GntdgooohKeq",
        "colab": {
          "base_uri": "https://localhost:8080/",
          "height": 206
        },
        "outputId": "cbce6f77-32c2-41ac-c532-aade510ed1c9"
      },
      "outputs": [
        {
          "output_type": "execute_result",
          "data": {
            "text/plain": [
              "            user_id group  event_name\n",
              "0  000ABE35EE11412F     A           0\n",
              "1  0010A1C096941592     A          12\n",
              "2  001C05E87D336C59     A           0\n",
              "3  003DF44D7589BBD4     A          15\n",
              "4  00505E15A9D81546     A           5"
            ],
            "text/html": [
              "\n",
              "  <div id=\"df-5808cd66-846e-43ab-80ea-02da4294ece2\">\n",
              "    <div class=\"colab-df-container\">\n",
              "      <div>\n",
              "<style scoped>\n",
              "    .dataframe tbody tr th:only-of-type {\n",
              "        vertical-align: middle;\n",
              "    }\n",
              "\n",
              "    .dataframe tbody tr th {\n",
              "        vertical-align: top;\n",
              "    }\n",
              "\n",
              "    .dataframe thead th {\n",
              "        text-align: right;\n",
              "    }\n",
              "</style>\n",
              "<table border=\"1\" class=\"dataframe\">\n",
              "  <thead>\n",
              "    <tr style=\"text-align: right;\">\n",
              "      <th></th>\n",
              "      <th>user_id</th>\n",
              "      <th>group</th>\n",
              "      <th>event_name</th>\n",
              "    </tr>\n",
              "  </thead>\n",
              "  <tbody>\n",
              "    <tr>\n",
              "      <th>0</th>\n",
              "      <td>000ABE35EE11412F</td>\n",
              "      <td>A</td>\n",
              "      <td>0</td>\n",
              "    </tr>\n",
              "    <tr>\n",
              "      <th>1</th>\n",
              "      <td>0010A1C096941592</td>\n",
              "      <td>A</td>\n",
              "      <td>12</td>\n",
              "    </tr>\n",
              "    <tr>\n",
              "      <th>2</th>\n",
              "      <td>001C05E87D336C59</td>\n",
              "      <td>A</td>\n",
              "      <td>0</td>\n",
              "    </tr>\n",
              "    <tr>\n",
              "      <th>3</th>\n",
              "      <td>003DF44D7589BBD4</td>\n",
              "      <td>A</td>\n",
              "      <td>15</td>\n",
              "    </tr>\n",
              "    <tr>\n",
              "      <th>4</th>\n",
              "      <td>00505E15A9D81546</td>\n",
              "      <td>A</td>\n",
              "      <td>5</td>\n",
              "    </tr>\n",
              "  </tbody>\n",
              "</table>\n",
              "</div>\n",
              "      <button class=\"colab-df-convert\" onclick=\"convertToInteractive('df-5808cd66-846e-43ab-80ea-02da4294ece2')\"\n",
              "              title=\"Convert this dataframe to an interactive table.\"\n",
              "              style=\"display:none;\">\n",
              "        \n",
              "  <svg xmlns=\"http://www.w3.org/2000/svg\" height=\"24px\"viewBox=\"0 0 24 24\"\n",
              "       width=\"24px\">\n",
              "    <path d=\"M0 0h24v24H0V0z\" fill=\"none\"/>\n",
              "    <path d=\"M18.56 5.44l.94 2.06.94-2.06 2.06-.94-2.06-.94-.94-2.06-.94 2.06-2.06.94zm-11 1L8.5 8.5l.94-2.06 2.06-.94-2.06-.94L8.5 2.5l-.94 2.06-2.06.94zm10 10l.94 2.06.94-2.06 2.06-.94-2.06-.94-.94-2.06-.94 2.06-2.06.94z\"/><path d=\"M17.41 7.96l-1.37-1.37c-.4-.4-.92-.59-1.43-.59-.52 0-1.04.2-1.43.59L10.3 9.45l-7.72 7.72c-.78.78-.78 2.05 0 2.83L4 21.41c.39.39.9.59 1.41.59.51 0 1.02-.2 1.41-.59l7.78-7.78 2.81-2.81c.8-.78.8-2.07 0-2.86zM5.41 20L4 18.59l7.72-7.72 1.47 1.35L5.41 20z\"/>\n",
              "  </svg>\n",
              "      </button>\n",
              "      \n",
              "  <style>\n",
              "    .colab-df-container {\n",
              "      display:flex;\n",
              "      flex-wrap:wrap;\n",
              "      gap: 12px;\n",
              "    }\n",
              "\n",
              "    .colab-df-convert {\n",
              "      background-color: #E8F0FE;\n",
              "      border: none;\n",
              "      border-radius: 50%;\n",
              "      cursor: pointer;\n",
              "      display: none;\n",
              "      fill: #1967D2;\n",
              "      height: 32px;\n",
              "      padding: 0 0 0 0;\n",
              "      width: 32px;\n",
              "    }\n",
              "\n",
              "    .colab-df-convert:hover {\n",
              "      background-color: #E2EBFA;\n",
              "      box-shadow: 0px 1px 2px rgba(60, 64, 67, 0.3), 0px 1px 3px 1px rgba(60, 64, 67, 0.15);\n",
              "      fill: #174EA6;\n",
              "    }\n",
              "\n",
              "    [theme=dark] .colab-df-convert {\n",
              "      background-color: #3B4455;\n",
              "      fill: #D2E3FC;\n",
              "    }\n",
              "\n",
              "    [theme=dark] .colab-df-convert:hover {\n",
              "      background-color: #434B5C;\n",
              "      box-shadow: 0px 1px 3px 1px rgba(0, 0, 0, 0.15);\n",
              "      filter: drop-shadow(0px 1px 2px rgba(0, 0, 0, 0.3));\n",
              "      fill: #FFFFFF;\n",
              "    }\n",
              "  </style>\n",
              "\n",
              "      <script>\n",
              "        const buttonEl =\n",
              "          document.querySelector('#df-5808cd66-846e-43ab-80ea-02da4294ece2 button.colab-df-convert');\n",
              "        buttonEl.style.display =\n",
              "          google.colab.kernel.accessAllowed ? 'block' : 'none';\n",
              "\n",
              "        async function convertToInteractive(key) {\n",
              "          const element = document.querySelector('#df-5808cd66-846e-43ab-80ea-02da4294ece2');\n",
              "          const dataTable =\n",
              "            await google.colab.kernel.invokeFunction('convertToInteractive',\n",
              "                                                     [key], {});\n",
              "          if (!dataTable) return;\n",
              "\n",
              "          const docLinkHtml = 'Like what you see? Visit the ' +\n",
              "            '<a target=\"_blank\" href=https://colab.research.google.com/notebooks/data_table.ipynb>data table notebook</a>'\n",
              "            + ' to learn more about interactive tables.';\n",
              "          element.innerHTML = '';\n",
              "          dataTable['output_type'] = 'display_data';\n",
              "          await google.colab.output.renderOutput(dataTable, element);\n",
              "          const docLink = document.createElement('div');\n",
              "          docLink.innerHTML = docLinkHtml;\n",
              "          element.appendChild(docLink);\n",
              "        }\n",
              "      </script>\n",
              "    </div>\n",
              "  </div>\n",
              "  "
            ]
          },
          "metadata": {},
          "execution_count": 35
        }
      ],
      "source": [
        "user_event = users_test.groupby(['user_id', 'group'])['event_name'].count().reset_index()\n",
        "user_event.head()"
      ]
    },
    {
      "cell_type": "code",
      "execution_count": 36,
      "metadata": {
        "scrolled": false,
        "id": "lhIRMbunhKeq",
        "colab": {
          "base_uri": "https://localhost:8080/"
        },
        "outputId": "58185a57-22bf-41e4-8e97-99eabbc5b2ef"
      },
      "outputs": [
        {
          "output_type": "stream",
          "name": "stdout",
          "text": [
            "Среднее количество событий на пользователя в группе А: 5.065241430151124\n",
            "Среднее количество событий на пользователя в группе B: 1.8585461689587426\n"
          ]
        }
      ],
      "source": [
        "print('Среднее количество событий на пользователя в группе А:', user_event.query('group == \"A\"')['event_name'].mean())\n",
        "print('Среднее количество событий на пользователя в группе B:', user_event.query('group == \"B\"')['event_name'].mean())"
      ]
    },
    {
      "cell_type": "markdown",
      "metadata": {
        "id": "2fN8aG45hKeq"
      },
      "source": [
        "Количество событий на пользователя распределены между выборками неодинаково."
      ]
    },
    {
      "cell_type": "markdown",
      "metadata": {
        "id": "JJgiPqC3hKeq"
      },
      "source": [
        "### Как число событий в выборках распределено по дням?"
      ]
    },
    {
      "cell_type": "code",
      "execution_count": 37,
      "metadata": {
        "scrolled": true,
        "id": "G9PRwmDShKeq",
        "colab": {
          "base_uri": "https://localhost:8080/",
          "height": 295
        },
        "outputId": "5cd1107a-cb53-43e4-b168-fc2ebef8a72e"
      },
      "outputs": [
        {
          "output_type": "display_data",
          "data": {
            "text/plain": [
              "<Figure size 720x288 with 1 Axes>"
            ],
            "image/png": "[encoded data removed]"
          },
          "metadata": {
            "needs_background": "light"
          }
        }
      ],
      "source": [
        "users_test['day'] = users_test['event_dt'].dt.day\n",
        "\n",
        "plt.figure(figsize =(10, 4))\n",
        "#Строим график\n",
        "sns.countplot(data=users_test, x='day', hue='group', palette=\"bwr_r\")\n",
        "#Зададим заголовок\n",
        "plt.title('Распределение числа событий по дням')\n",
        "#Подишем ось x\n",
        "plt.xlabel('День')\n",
        "#Подпишем ось y\n",
        "plt.ylabel('Количество событий')\n",
        "plt.grid()\n",
        "plt.legend(labels=['группа А', 'группа В'])\n",
        "plt.show()  "
      ]
    },
    {
      "cell_type": "markdown",
      "metadata": {
        "id": "6hYXnWIQhKeq"
      },
      "source": [
        "Группа А сильно отличается по событиям от группы В, с 14 числа пошел резкий подъем количества событий, пик достиг 21 декабря, как раз в дату остановки теста. Не очень удачный период для проведения \"правдивого\" теста."
      ]
    },
    {
      "cell_type": "markdown",
      "metadata": {
        "id": "60-VXkrThKeq"
      },
      "source": [
        "### Как меняется конверсия в воронке в выборках на разных этапах?"
      ]
    },
    {
      "cell_type": "code",
      "execution_count": 38,
      "metadata": {
        "scrolled": false,
        "id": "53D8SsInhKeq",
        "colab": {
          "base_uri": "https://localhost:8080/",
          "height": 206
        },
        "outputId": "38f63650-01e8-4a43-905b-ab7ddc2687b0"
      },
      "outputs": [
        {
          "output_type": "execute_result",
          "data": {
            "text/plain": [
              "group            A    B\n",
              "event_name             \n",
              "login         1939  655\n",
              "product_page  1265  367\n",
              "product_cart   589  184\n",
              "purchase       613  191"
            ],
            "text/html": [
              "\n",
              "  <div id=\"df-f0567fa1-4cf7-4cb4-aa22-c83b405abb6f\">\n",
              "    <div class=\"colab-df-container\">\n",
              "      <div>\n",
              "<style scoped>\n",
              "    .dataframe tbody tr th:only-of-type {\n",
              "        vertical-align: middle;\n",
              "    }\n",
              "\n",
              "    .dataframe tbody tr th {\n",
              "        vertical-align: top;\n",
              "    }\n",
              "\n",
              "    .dataframe thead th {\n",
              "        text-align: right;\n",
              "    }\n",
              "</style>\n",
              "<table border=\"1\" class=\"dataframe\">\n",
              "  <thead>\n",
              "    <tr style=\"text-align: right;\">\n",
              "      <th>group</th>\n",
              "      <th>A</th>\n",
              "      <th>B</th>\n",
              "    </tr>\n",
              "    <tr>\n",
              "      <th>event_name</th>\n",
              "      <th></th>\n",
              "      <th></th>\n",
              "    </tr>\n",
              "  </thead>\n",
              "  <tbody>\n",
              "    <tr>\n",
              "      <th>login</th>\n",
              "      <td>1939</td>\n",
              "      <td>655</td>\n",
              "    </tr>\n",
              "    <tr>\n",
              "      <th>product_page</th>\n",
              "      <td>1265</td>\n",
              "      <td>367</td>\n",
              "    </tr>\n",
              "    <tr>\n",
              "      <th>product_cart</th>\n",
              "      <td>589</td>\n",
              "      <td>184</td>\n",
              "    </tr>\n",
              "    <tr>\n",
              "      <th>purchase</th>\n",
              "      <td>613</td>\n",
              "      <td>191</td>\n",
              "    </tr>\n",
              "  </tbody>\n",
              "</table>\n",
              "</div>\n",
              "      <button class=\"colab-df-convert\" onclick=\"convertToInteractive('df-f0567fa1-4cf7-4cb4-aa22-c83b405abb6f')\"\n",
              "              title=\"Convert this dataframe to an interactive table.\"\n",
              "              style=\"display:none;\">\n",
              "        \n",
              "  <svg xmlns=\"http://www.w3.org/2000/svg\" height=\"24px\"viewBox=\"0 0 24 24\"\n",
              "       width=\"24px\">\n",
              "    <path d=\"M0 0h24v24H0V0z\" fill=\"none\"/>\n",
              "    <path d=\"M18.56 5.44l.94 2.06.94-2.06 2.06-.94-2.06-.94-.94-2.06-.94 2.06-2.06.94zm-11 1L8.5 8.5l.94-2.06 2.06-.94-2.06-.94L8.5 2.5l-.94 2.06-2.06.94zm10 10l.94 2.06.94-2.06 2.06-.94-2.06-.94-.94-2.06-.94 2.06-2.06.94z\"/><path d=\"M17.41 7.96l-1.37-1.37c-.4-.4-.92-.59-1.43-.59-.52 0-1.04.2-1.43.59L10.3 9.45l-7.72 7.72c-.78.78-.78 2.05 0 2.83L4 21.41c.39.39.9.59 1.41.59.51 0 1.02-.2 1.41-.59l7.78-7.78 2.81-2.81c.8-.78.8-2.07 0-2.86zM5.41 20L4 18.59l7.72-7.72 1.47 1.35L5.41 20z\"/>\n",
              "  </svg>\n",
              "      </button>\n",
              "      \n",
              "  <style>\n",
              "    .colab-df-container {\n",
              "      display:flex;\n",
              "      flex-wrap:wrap;\n",
              "      gap: 12px;\n",
              "    }\n",
              "\n",
              "    .colab-df-convert {\n",
              "      background-color: #E8F0FE;\n",
              "      border: none;\n",
              "      border-radius: 50%;\n",
              "      cursor: pointer;\n",
              "      display: none;\n",
              "      fill: #1967D2;\n",
              "      height: 32px;\n",
              "      padding: 0 0 0 0;\n",
              "      width: 32px;\n",
              "    }\n",
              "\n",
              "    .colab-df-convert:hover {\n",
              "      background-color: #E2EBFA;\n",
              "      box-shadow: 0px 1px 2px rgba(60, 64, 67, 0.3), 0px 1px 3px 1px rgba(60, 64, 67, 0.15);\n",
              "      fill: #174EA6;\n",
              "    }\n",
              "\n",
              "    [theme=dark] .colab-df-convert {\n",
              "      background-color: #3B4455;\n",
              "      fill: #D2E3FC;\n",
              "    }\n",
              "\n",
              "    [theme=dark] .colab-df-convert:hover {\n",
              "      background-color: #434B5C;\n",
              "      box-shadow: 0px 1px 3px 1px rgba(0, 0, 0, 0.15);\n",
              "      filter: drop-shadow(0px 1px 2px rgba(0, 0, 0, 0.3));\n",
              "      fill: #FFFFFF;\n",
              "    }\n",
              "  </style>\n",
              "\n",
              "      <script>\n",
              "        const buttonEl =\n",
              "          document.querySelector('#df-f0567fa1-4cf7-4cb4-aa22-c83b405abb6f button.colab-df-convert');\n",
              "        buttonEl.style.display =\n",
              "          google.colab.kernel.accessAllowed ? 'block' : 'none';\n",
              "\n",
              "        async function convertToInteractive(key) {\n",
              "          const element = document.querySelector('#df-f0567fa1-4cf7-4cb4-aa22-c83b405abb6f');\n",
              "          const dataTable =\n",
              "            await google.colab.kernel.invokeFunction('convertToInteractive',\n",
              "                                                     [key], {});\n",
              "          if (!dataTable) return;\n",
              "\n",
              "          const docLinkHtml = 'Like what you see? Visit the ' +\n",
              "            '<a target=\"_blank\" href=https://colab.research.google.com/notebooks/data_table.ipynb>data table notebook</a>'\n",
              "            + ' to learn more about interactive tables.';\n",
              "          element.innerHTML = '';\n",
              "          dataTable['output_type'] = 'display_data';\n",
              "          await google.colab.output.renderOutput(dataTable, element);\n",
              "          const docLink = document.createElement('div');\n",
              "          docLink.innerHTML = docLinkHtml;\n",
              "          element.appendChild(docLink);\n",
              "        }\n",
              "      </script>\n",
              "    </div>\n",
              "  </div>\n",
              "  "
            ]
          },
          "metadata": {},
          "execution_count": 38
        }
      ],
      "source": [
        "events_users = users_test.pivot_table(\n",
        "    index='event_name',\n",
        "    columns='group',\n",
        "    values='user_id',\n",
        "    aggfunc='nunique'\n",
        ").reindex([\"login\", \"product_page\", \"product_cart\", \"purchase\"])\n",
        "events_users "
      ]
    },
    {
      "cell_type": "markdown",
      "metadata": {
        "id": "sRW8a85xhKeq"
      },
      "source": [
        "Количество событий \"покупки\" больше чем количество событий \"просмотри корзины\". Это означает, что ворнка у нас нестрогая, и можно приобрести товар минуя посещение корзины. События \"логин\" и просмотр карточки товара распределены логично."
      ]
    },
    {
      "cell_type": "code",
      "execution_count": 39,
      "metadata": {
        "id": "H5SQjo7MhKeq",
        "colab": {
          "base_uri": "https://localhost:8080/",
          "height": 542
        },
        "outputId": "3249abe5-c6ec-4e21-f90e-eac57ce6a522"
      },
      "outputs": [
        {
          "output_type": "display_data",
          "data": {
            "text/html": [
              "<html>\n",
              "<head><meta charset=\"utf-8\" /></head>\n",
              "<body>\n",
              "    <div>            <script src=\"https://cdnjs.cloudflare.com/ajax/libs/mathjax/2.7.5/MathJax.js?config=TeX-AMS-MML_SVG\"></script><script type=\"text/javascript\">if (window.MathJax) {MathJax.Hub.Config({SVG: {font: \"STIX-Web\"}});}</script>                <script type=\"text/javascript\">window.PlotlyConfig = {MathJaxConfig: 'local'};</script>\n",
              "        <script src=\"https://cdn.plot.ly/plotly-2.8.3.min.js\"></script>                <div id=\"af316627-1117-4bc5-8b7e-f10e604a8178\" class=\"plotly-graph-div\" style=\"height:525px; width:100%;\"></div>            <script type=\"text/javascript\">                                    window.PLOTLYENV=window.PLOTLYENV || {};                                    if (document.getElementById(\"af316627-1117-4bc5-8b7e-f10e604a8178\")) {                    Plotly.newPlot(                        \"af316627-1117-4bc5-8b7e-f10e604a8178\",                        [{\"name\":\"A\",\"orientation\":\"h\",\"textinfo\":\"value+percent previous\",\"x\":[1939,1265,589,613],\"y\":[\"login\",\"product_page\",\"product_cart\",\"purchase\"],\"type\":\"funnel\"},{\"name\":\"B\",\"orientation\":\"h\",\"textinfo\":\"value+percent previous\",\"x\":[655,367,184,191],\"y\":[\"login\",\"product_page\",\"product_cart\",\"purchase\"],\"type\":\"funnel\"}],                        {\"template\":{\"data\":{\"bar\":[{\"error_x\":{\"color\":\"#2a3f5f\"},\"error_y\":{\"color\":\"#2a3f5f\"},\"marker\":{\"line\":{\"color\":\"#E5ECF6\",\"width\":0.5},\"pattern\":{\"fillmode\":\"overlay\",\"size\":10,\"solidity\":0.2}},\"type\":\"bar\"}],\"barpolar\":[{\"marker\":{\"line\":{\"color\":\"#E5ECF6\",\"width\":0.5},\"pattern\":{\"fillmode\":\"overlay\",\"size\":10,\"solidity\":0.2}},\"type\":\"barpolar\"}],\"carpet\":[{\"aaxis\":{\"endlinecolor\":\"#2a3f5f\",\"gridcolor\":\"white\",\"linecolor\":\"white\",\"minorgridcolor\":\"white\",\"startlinecolor\":\"#2a3f5f\"},\"baxis\":{\"endlinecolor\":\"#2a3f5f\",\"gridcolor\":\"white\",\"linecolor\":\"white\",\"minorgridcolor\":\"white\",\"startlinecolor\":\"#2a3f5f\"},\"type\":\"carpet\"}],\"choropleth\":[{\"colorbar\":{\"outlinewidth\":0,\"ticks\":\"\"},\"type\":\"choropleth\"}],\"contour\":[{\"colorbar\":{\"outlinewidth\":0,\"ticks\":\"\"},\"colorscale\":[[0.0,\"#0d0887\"],[0.1111111111111111,\"#46039f\"],[0.2222222222222222,\"#7201a8\"],[0.3333333333333333,\"#9c179e\"],[0.4444444444444444,\"#bd3786\"],[0.5555555555555556,\"#d8576b\"],[0.6666666666666666,\"#ed7953\"],[0.7777777777777778,\"#fb9f3a\"],[0.8888888888888888,\"#fdca26\"],[1.0,\"#f0f921\"]],\"type\":\"contour\"}],\"contourcarpet\":[{\"colorbar\":{\"outlinewidth\":0,\"ticks\":\"\"},\"type\":\"contourcarpet\"}],\"heatmap\":[{\"colorbar\":{\"outlinewidth\":0,\"ticks\":\"\"},\"colorscale\":[[0.0,\"#0d0887\"],[0.1111111111111111,\"#46039f\"],[0.2222222222222222,\"#7201a8\"],[0.3333333333333333,\"#9c179e\"],[0.4444444444444444,\"#bd3786\"],[0.5555555555555556,\"#d8576b\"],[0.6666666666666666,\"#ed7953\"],[0.7777777777777778,\"#fb9f3a\"],[0.8888888888888888,\"#fdca26\"],[1.0,\"#f0f921\"]],\"type\":\"heatmap\"}],\"heatmapgl\":[{\"colorbar\":{\"outlinewidth\":0,\"ticks\":\"\"},\"colorscale\":[[0.0,\"#0d0887\"],[0.1111111111111111,\"#46039f\"],[0.2222222222222222,\"#7201a8\"],[0.3333333333333333,\"#9c179e\"],[0.4444444444444444,\"#bd3786\"],[0.5555555555555556,\"#d8576b\"],[0.6666666666666666,\"#ed7953\"],[0.7777777777777778,\"#fb9f3a\"],[0.8888888888888888,\"#fdca26\"],[1.0,\"#f0f921\"]],\"type\":\"heatmapgl\"}],\"histogram\":[{\"marker\":{\"pattern\":{\"fillmode\":\"overlay\",\"size\":10,\"solidity\":0.2}},\"type\":\"histogram\"}],\"histogram2d\":[{\"colorbar\":{\"outlinewidth\":0,\"ticks\":\"\"},\"colorscale\":[[0.0,\"#0d0887\"],[0.1111111111111111,\"#46039f\"],[0.2222222222222222,\"#7201a8\"],[0.3333333333333333,\"#9c179e\"],[0.4444444444444444,\"#bd3786\"],[0.5555555555555556,\"#d8576b\"],[0.6666666666666666,\"#ed7953\"],[0.7777777777777778,\"#fb9f3a\"],[0.8888888888888888,\"#fdca26\"],[1.0,\"#f0f921\"]],\"type\":\"histogram2d\"}],\"histogram2dcontour\":[{\"colorbar\":{\"outlinewidth\":0,\"ticks\":\"\"},\"colorscale\":[[0.0,\"#0d0887\"],[0.1111111111111111,\"#46039f\"],[0.2222222222222222,\"#7201a8\"],[0.3333333333333333,\"#9c179e\"],[0.4444444444444444,\"#bd3786\"],[0.5555555555555556,\"#d8576b\"],[0.6666666666666666,\"#ed7953\"],[0.7777777777777778,\"#fb9f3a\"],[0.8888888888888888,\"#fdca26\"],[1.0,\"#f0f921\"]],\"type\":\"histogram2dcontour\"}],\"mesh3d\":[{\"colorbar\":{\"outlinewidth\":0,\"ticks\":\"\"},\"type\":\"mesh3d\"}],\"parcoords\":[{\"line\":{\"colorbar\":{\"outlinewidth\":0,\"ticks\":\"\"}},\"type\":\"parcoords\"}],\"pie\":[{\"automargin\":true,\"type\":\"pie\"}],\"scatter\":[{\"marker\":{\"colorbar\":{\"outlinewidth\":0,\"ticks\":\"\"}},\"type\":\"scatter\"}],\"scatter3d\":[{\"line\":{\"colorbar\":{\"outlinewidth\":0,\"ticks\":\"\"}},\"marker\":{\"colorbar\":{\"outlinewidth\":0,\"ticks\":\"\"}},\"type\":\"scatter3d\"}],\"scattercarpet\":[{\"marker\":{\"colorbar\":{\"outlinewidth\":0,\"ticks\":\"\"}},\"type\":\"scattercarpet\"}],\"scattergeo\":[{\"marker\":{\"colorbar\":{\"outlinewidth\":0,\"ticks\":\"\"}},\"type\":\"scattergeo\"}],\"scattergl\":[{\"marker\":{\"colorbar\":{\"outlinewidth\":0,\"ticks\":\"\"}},\"type\":\"scattergl\"}],\"scattermapbox\":[{\"marker\":{\"colorbar\":{\"outlinewidth\":0,\"ticks\":\"\"}},\"type\":\"scattermapbox\"}],\"scatterpolar\":[{\"marker\":{\"colorbar\":{\"outlinewidth\":0,\"ticks\":\"\"}},\"type\":\"scatterpolar\"}],\"scatterpolargl\":[{\"marker\":{\"colorbar\":{\"outlinewidth\":0,\"ticks\":\"\"}},\"type\":\"scatterpolargl\"}],\"scatterternary\":[{\"marker\":{\"colorbar\":{\"outlinewidth\":0,\"ticks\":\"\"}},\"type\":\"scatterternary\"}],\"surface\":[{\"colorbar\":{\"outlinewidth\":0,\"ticks\":\"\"},\"colorscale\":[[0.0,\"#0d0887\"],[0.1111111111111111,\"#46039f\"],[0.2222222222222222,\"#7201a8\"],[0.3333333333333333,\"#9c179e\"],[0.4444444444444444,\"#bd3786\"],[0.5555555555555556,\"#d8576b\"],[0.6666666666666666,\"#ed7953\"],[0.7777777777777778,\"#fb9f3a\"],[0.8888888888888888,\"#fdca26\"],[1.0,\"#f0f921\"]],\"type\":\"surface\"}],\"table\":[{\"cells\":{\"fill\":{\"color\":\"#EBF0F8\"},\"line\":{\"color\":\"white\"}},\"header\":{\"fill\":{\"color\":\"#C8D4E3\"},\"line\":{\"color\":\"white\"}},\"type\":\"table\"}]},\"layout\":{\"annotationdefaults\":{\"arrowcolor\":\"#2a3f5f\",\"arrowhead\":0,\"arrowwidth\":1},\"autotypenumbers\":\"strict\",\"coloraxis\":{\"colorbar\":{\"outlinewidth\":0,\"ticks\":\"\"}},\"colorscale\":{\"diverging\":[[0,\"#8e0152\"],[0.1,\"#c51b7d\"],[0.2,\"#de77ae\"],[0.3,\"#f1b6da\"],[0.4,\"#fde0ef\"],[0.5,\"#f7f7f7\"],[0.6,\"#e6f5d0\"],[0.7,\"#b8e186\"],[0.8,\"#7fbc41\"],[0.9,\"#4d9221\"],[1,\"#276419\"]],\"sequential\":[[0.0,\"#0d0887\"],[0.1111111111111111,\"#46039f\"],[0.2222222222222222,\"#7201a8\"],[0.3333333333333333,\"#9c179e\"],[0.4444444444444444,\"#bd3786\"],[0.5555555555555556,\"#d8576b\"],[0.6666666666666666,\"#ed7953\"],[0.7777777777777778,\"#fb9f3a\"],[0.8888888888888888,\"#fdca26\"],[1.0,\"#f0f921\"]],\"sequentialminus\":[[0.0,\"#0d0887\"],[0.1111111111111111,\"#46039f\"],[0.2222222222222222,\"#7201a8\"],[0.3333333333333333,\"#9c179e\"],[0.4444444444444444,\"#bd3786\"],[0.5555555555555556,\"#d8576b\"],[0.6666666666666666,\"#ed7953\"],[0.7777777777777778,\"#fb9f3a\"],[0.8888888888888888,\"#fdca26\"],[1.0,\"#f0f921\"]]},\"colorway\":[\"#636efa\",\"#EF553B\",\"#00cc96\",\"#ab63fa\",\"#FFA15A\",\"#19d3f3\",\"#FF6692\",\"#B6E880\",\"#FF97FF\",\"#FECB52\"],\"font\":{\"color\":\"#2a3f5f\"},\"geo\":{\"bgcolor\":\"white\",\"lakecolor\":\"white\",\"landcolor\":\"#E5ECF6\",\"showlakes\":true,\"showland\":true,\"subunitcolor\":\"white\"},\"hoverlabel\":{\"align\":\"left\"},\"hovermode\":\"closest\",\"mapbox\":{\"style\":\"light\"},\"paper_bgcolor\":\"white\",\"plot_bgcolor\":\"#E5ECF6\",\"polar\":{\"angularaxis\":{\"gridcolor\":\"white\",\"linecolor\":\"white\",\"ticks\":\"\"},\"bgcolor\":\"#E5ECF6\",\"radialaxis\":{\"gridcolor\":\"white\",\"linecolor\":\"white\",\"ticks\":\"\"}},\"scene\":{\"xaxis\":{\"backgroundcolor\":\"#E5ECF6\",\"gridcolor\":\"white\",\"gridwidth\":2,\"linecolor\":\"white\",\"showbackground\":true,\"ticks\":\"\",\"zerolinecolor\":\"white\"},\"yaxis\":{\"backgroundcolor\":\"#E5ECF6\",\"gridcolor\":\"white\",\"gridwidth\":2,\"linecolor\":\"white\",\"showbackground\":true,\"ticks\":\"\",\"zerolinecolor\":\"white\"},\"zaxis\":{\"backgroundcolor\":\"#E5ECF6\",\"gridcolor\":\"white\",\"gridwidth\":2,\"linecolor\":\"white\",\"showbackground\":true,\"ticks\":\"\",\"zerolinecolor\":\"white\"}},\"shapedefaults\":{\"line\":{\"color\":\"#2a3f5f\"}},\"ternary\":{\"aaxis\":{\"gridcolor\":\"white\",\"linecolor\":\"white\",\"ticks\":\"\"},\"baxis\":{\"gridcolor\":\"white\",\"linecolor\":\"white\",\"ticks\":\"\"},\"bgcolor\":\"#E5ECF6\",\"caxis\":{\"gridcolor\":\"white\",\"linecolor\":\"white\",\"ticks\":\"\"}},\"title\":{\"x\":0.05},\"xaxis\":{\"automargin\":true,\"gridcolor\":\"white\",\"linecolor\":\"white\",\"ticks\":\"\",\"title\":{\"standoff\":15},\"zerolinecolor\":\"white\",\"zerolinewidth\":2},\"yaxis\":{\"automargin\":true,\"gridcolor\":\"white\",\"linecolor\":\"white\",\"ticks\":\"\",\"title\":{\"standoff\":15},\"zerolinecolor\":\"white\",\"zerolinewidth\":2}}},\"title\":{\"text\":\"\\u041f\\u0440\\u043e\\u0434\\u0443\\u043a\\u0442\\u043e\\u0432\\u0430\\u044f \\u0432\\u043e\\u0440\\u043e\\u043d\\u043a\\u0430 \\u0441 \\u043a\\u043e\\u043d\\u0432\\u0435\\u0440\\u0441\\u0438\\u0435\\u0439 \\u043a \\u043f\\u0440\\u0435\\u0434\\u044b\\u0434\\u0443\\u0449\\u0435\\u043c\\u0443 \\u0448\\u0430\\u0433\\u0443\"},\"autosize\":true},                        {\"responsive\": true}                    ).then(function(){\n",
              "                            \n",
              "var gd = document.getElementById('af316627-1117-4bc5-8b7e-f10e604a8178');\n",
              "var x = new MutationObserver(function (mutations, observer) {{\n",
              "        var display = window.getComputedStyle(gd).display;\n",
              "        if (!display || display === 'none') {{\n",
              "            console.log([gd, 'removed!']);\n",
              "            Plotly.purge(gd);\n",
              "            observer.disconnect();\n",
              "        }}\n",
              "}});\n",
              "\n",
              "// Listen for the removal of the full notebook cells\n",
              "var notebookContainer = gd.closest('#notebook-container');\n",
              "if (notebookContainer) {{\n",
              "    x.observe(notebookContainer, {childList: true});\n",
              "}}\n",
              "\n",
              "// Listen for the clearing of the current output cell\n",
              "var outputEl = gd.closest('.output');\n",
              "if (outputEl) {{\n",
              "    x.observe(outputEl, {childList: true});\n",
              "}}\n",
              "\n",
              "                        })                };                            </script>        </div>\n",
              "</body>\n",
              "</html>"
            ]
          },
          "metadata": {}
        }
      ],
      "source": [
        "fig = go.Figure()\n",
        "event_name=['login', 'product_page', 'product_cart', 'purchase']\n",
        "for group in events_users.iloc[:, :2].iteritems():\n",
        "    fig.add_trace(go.Funnel(\n",
        "        name = group[0],\n",
        "        orientation = \"h\",\n",
        "        y = event_name,\n",
        "        x = group[1],\n",
        "        textinfo = \"value + percent previous\"\n",
        "    ))\n",
        "    \n",
        "fig.update_layout(\n",
        "    title = 'Продуктовая воронка с конверсией к предыдущему шагу',\n",
        "    autosize=True,\n",
        ")\n",
        "\n",
        "fig.show()"
      ]
    },
    {
      "cell_type": "markdown",
      "metadata": {
        "id": "h62TWenbhKe5"
      },
      "source": [
        "На шаге от события \"product_page\" к событию \"purchase\" больше всего теряется пользователей."
      ]
    },
    {
      "cell_type": "markdown",
      "metadata": {
        "id": "8lOY5T7ZhKe5"
      },
      "source": [
        "## Оцените результаты A/B-тестирования"
      ]
    },
    {
      "cell_type": "markdown",
      "metadata": {
        "id": "AW92aqtdhKe5"
      },
      "source": [
        "### Проверьте статистическую разницу долей z-критерием"
      ]
    },
    {
      "cell_type": "code",
      "execution_count": 40,
      "metadata": {
        "id": "qVwaBC2VhKe5",
        "colab": {
          "base_uri": "https://localhost:8080/"
        },
        "outputId": "b8b35e5b-934e-4100-d222-f8cbd130bfec"
      },
      "outputs": [
        {
          "output_type": "execute_result",
          "data": {
            "text/plain": [
              "2713"
            ]
          },
          "metadata": {},
          "execution_count": 40
        }
      ],
      "source": [
        "users_a = users_test.query('group == \"A\"')['user_id'].nunique()\n",
        "users_a"
      ]
    },
    {
      "cell_type": "code",
      "execution_count": 41,
      "metadata": {
        "id": "9ct3jdP_hKe5",
        "colab": {
          "base_uri": "https://localhost:8080/"
        },
        "outputId": "a4731ae6-aa22-4acf-ea6a-c2b9b75c9ca1"
      },
      "outputs": [
        {
          "output_type": "execute_result",
          "data": {
            "text/plain": [
              "2036"
            ]
          },
          "metadata": {},
          "execution_count": 41
        }
      ],
      "source": [
        "users_b = users_test.query('group == \"B\"')['user_id'].nunique()\n",
        "users_b"
      ]
    },
    {
      "cell_type": "code",
      "execution_count": 42,
      "metadata": {
        "id": "izHAf6pghKe5",
        "colab": {
          "base_uri": "https://localhost:8080/",
          "height": 206
        },
        "outputId": "6469d577-ca33-41ef-a47b-b440bdb916e7"
      },
      "outputs": [
        {
          "output_type": "execute_result",
          "data": {
            "text/plain": [
              "group            A    B\n",
              "event_name             \n",
              "login         1939  655\n",
              "product_page  1265  367\n",
              "product_cart   589  184\n",
              "purchase       613  191"
            ],
            "text/html": [
              "\n",
              "  <div id=\"df-1c0f2354-14c7-477e-be2b-e85d8d5ad111\">\n",
              "    <div class=\"colab-df-container\">\n",
              "      <div>\n",
              "<style scoped>\n",
              "    .dataframe tbody tr th:only-of-type {\n",
              "        vertical-align: middle;\n",
              "    }\n",
              "\n",
              "    .dataframe tbody tr th {\n",
              "        vertical-align: top;\n",
              "    }\n",
              "\n",
              "    .dataframe thead th {\n",
              "        text-align: right;\n",
              "    }\n",
              "</style>\n",
              "<table border=\"1\" class=\"dataframe\">\n",
              "  <thead>\n",
              "    <tr style=\"text-align: right;\">\n",
              "      <th>group</th>\n",
              "      <th>A</th>\n",
              "      <th>B</th>\n",
              "    </tr>\n",
              "    <tr>\n",
              "      <th>event_name</th>\n",
              "      <th></th>\n",
              "      <th></th>\n",
              "    </tr>\n",
              "  </thead>\n",
              "  <tbody>\n",
              "    <tr>\n",
              "      <th>login</th>\n",
              "      <td>1939</td>\n",
              "      <td>655</td>\n",
              "    </tr>\n",
              "    <tr>\n",
              "      <th>product_page</th>\n",
              "      <td>1265</td>\n",
              "      <td>367</td>\n",
              "    </tr>\n",
              "    <tr>\n",
              "      <th>product_cart</th>\n",
              "      <td>589</td>\n",
              "      <td>184</td>\n",
              "    </tr>\n",
              "    <tr>\n",
              "      <th>purchase</th>\n",
              "      <td>613</td>\n",
              "      <td>191</td>\n",
              "    </tr>\n",
              "  </tbody>\n",
              "</table>\n",
              "</div>\n",
              "      <button class=\"colab-df-convert\" onclick=\"convertToInteractive('df-1c0f2354-14c7-477e-be2b-e85d8d5ad111')\"\n",
              "              title=\"Convert this dataframe to an interactive table.\"\n",
              "              style=\"display:none;\">\n",
              "        \n",
              "  <svg xmlns=\"http://www.w3.org/2000/svg\" height=\"24px\"viewBox=\"0 0 24 24\"\n",
              "       width=\"24px\">\n",
              "    <path d=\"M0 0h24v24H0V0z\" fill=\"none\"/>\n",
              "    <path d=\"M18.56 5.44l.94 2.06.94-2.06 2.06-.94-2.06-.94-.94-2.06-.94 2.06-2.06.94zm-11 1L8.5 8.5l.94-2.06 2.06-.94-2.06-.94L8.5 2.5l-.94 2.06-2.06.94zm10 10l.94 2.06.94-2.06 2.06-.94-2.06-.94-.94-2.06-.94 2.06-2.06.94z\"/><path d=\"M17.41 7.96l-1.37-1.37c-.4-.4-.92-.59-1.43-.59-.52 0-1.04.2-1.43.59L10.3 9.45l-7.72 7.72c-.78.78-.78 2.05 0 2.83L4 21.41c.39.39.9.59 1.41.59.51 0 1.02-.2 1.41-.59l7.78-7.78 2.81-2.81c.8-.78.8-2.07 0-2.86zM5.41 20L4 18.59l7.72-7.72 1.47 1.35L5.41 20z\"/>\n",
              "  </svg>\n",
              "      </button>\n",
              "      \n",
              "  <style>\n",
              "    .colab-df-container {\n",
              "      display:flex;\n",
              "      flex-wrap:wrap;\n",
              "      gap: 12px;\n",
              "    }\n",
              "\n",
              "    .colab-df-convert {\n",
              "      background-color: #E8F0FE;\n",
              "      border: none;\n",
              "      border-radius: 50%;\n",
              "      cursor: pointer;\n",
              "      display: none;\n",
              "      fill: #1967D2;\n",
              "      height: 32px;\n",
              "      padding: 0 0 0 0;\n",
              "      width: 32px;\n",
              "    }\n",
              "\n",
              "    .colab-df-convert:hover {\n",
              "      background-color: #E2EBFA;\n",
              "      box-shadow: 0px 1px 2px rgba(60, 64, 67, 0.3), 0px 1px 3px 1px rgba(60, 64, 67, 0.15);\n",
              "      fill: #174EA6;\n",
              "    }\n",
              "\n",
              "    [theme=dark] .colab-df-convert {\n",
              "      background-color: #3B4455;\n",
              "      fill: #D2E3FC;\n",
              "    }\n",
              "\n",
              "    [theme=dark] .colab-df-convert:hover {\n",
              "      background-color: #434B5C;\n",
              "      box-shadow: 0px 1px 3px 1px rgba(0, 0, 0, 0.15);\n",
              "      filter: drop-shadow(0px 1px 2px rgba(0, 0, 0, 0.3));\n",
              "      fill: #FFFFFF;\n",
              "    }\n",
              "  </style>\n",
              "\n",
              "      <script>\n",
              "        const buttonEl =\n",
              "          document.querySelector('#df-1c0f2354-14c7-477e-be2b-e85d8d5ad111 button.colab-df-convert');\n",
              "        buttonEl.style.display =\n",
              "          google.colab.kernel.accessAllowed ? 'block' : 'none';\n",
              "\n",
              "        async function convertToInteractive(key) {\n",
              "          const element = document.querySelector('#df-1c0f2354-14c7-477e-be2b-e85d8d5ad111');\n",
              "          const dataTable =\n",
              "            await google.colab.kernel.invokeFunction('convertToInteractive',\n",
              "                                                     [key], {});\n",
              "          if (!dataTable) return;\n",
              "\n",
              "          const docLinkHtml = 'Like what you see? Visit the ' +\n",
              "            '<a target=\"_blank\" href=https://colab.research.google.com/notebooks/data_table.ipynb>data table notebook</a>'\n",
              "            + ' to learn more about interactive tables.';\n",
              "          element.innerHTML = '';\n",
              "          dataTable['output_type'] = 'display_data';\n",
              "          await google.colab.output.renderOutput(dataTable, element);\n",
              "          const docLink = document.createElement('div');\n",
              "          docLink.innerHTML = docLinkHtml;\n",
              "          element.appendChild(docLink);\n",
              "        }\n",
              "      </script>\n",
              "    </div>\n",
              "  </div>\n",
              "  "
            ]
          },
          "metadata": {},
          "execution_count": 42
        }
      ],
      "source": [
        "events_users"
      ]
    },
    {
      "cell_type": "code",
      "execution_count": 43,
      "metadata": {
        "id": "XXfuIz2ThKe5"
      },
      "outputs": [],
      "source": [
        "def z_test(gr1, gr2, event, alpha):\n",
        "    users_a = users_test.query('group == \"A\"')['user_id'].nunique()\n",
        "    users_b = users_test.query('group == \"B\"')['user_id'].nunique()\n",
        "    p1 = events_users.loc[event, gr1]/users_a \n",
        "    p2 = events_users.loc[event, gr2]/users_b\n",
        "    p_combined = (events_users.loc[event, gr1] + events_users.loc[event, gr2]) / (users_a + users_b)\n",
        "    difference = p1 - p2 \n",
        "    z_value = difference / mth.sqrt(p_combined * (1 - p_combined) * (1 / users_a + 1 / users_b)) # ваш код\n",
        "    distr = st.norm(0, 1)\n",
        "    p_value = (1 - distr.cdf(abs(z_value))) * 2 # ваш код\n",
        "    print('p-значение: ', p_value)\n",
        "    if p_value < alpha: # ваш код\n",
        "        print('Отвергаем нулевую гипотезу: между долями есть значимая разница')\n",
        "    else:\n",
        "        print(\n",
        "        'Не получилось отвергнуть нулевую гипотезу, нет оснований считать доли разными'\n",
        "    )"
      ]
    },
    {
      "cell_type": "code",
      "execution_count": 44,
      "metadata": {
        "id": "5bVUAjJghKfJ",
        "colab": {
          "base_uri": "https://localhost:8080/"
        },
        "outputId": "9897b27b-f988-4991-c71b-4df09b0f566e"
      },
      "outputs": [
        {
          "output_type": "stream",
          "name": "stdout",
          "text": [
            "p-значение:  0.0\n",
            "Отвергаем нулевую гипотезу: между долями есть значимая разница\n",
            "\n",
            "p-значение:  0.0\n",
            "Отвергаем нулевую гипотезу: между долями есть значимая разница\n",
            "\n",
            "p-значение:  0.0\n",
            "Отвергаем нулевую гипотезу: между долями есть значимая разница\n",
            "\n",
            "p-значение:  0.0\n",
            "Отвергаем нулевую гипотезу: между долями есть значимая разница\n",
            "\n"
          ]
        }
      ],
      "source": [
        "for event in events_users.index:\n",
        "    z_test('A', 'B', event, 0.05)\n",
        "    print()"
      ]
    },
    {
      "cell_type": "code",
      "execution_count": 45,
      "metadata": {
        "id": "ZK7unkNwhKfJ",
        "colab": {
          "base_uri": "https://localhost:8080/"
        },
        "outputId": "47c9bbc1-73f2-42bf-c2cd-5e15878125e8"
      },
      "outputs": [
        {
          "output_type": "execute_result",
          "data": {
            "text/plain": [
              "0.0"
            ]
          },
          "metadata": {},
          "execution_count": 45
        }
      ],
      "source": [
        "1e-324"
      ]
    },
    {
      "cell_type": "markdown",
      "metadata": {
        "id": "45WQkOXEhKfJ"
      },
      "source": [
        "## Опишите выводы по этапу исследовательского анализа данных и по проведённой оценке результатов A/B-тестирования. Сделайте общее заключение о корректности проведения теста."
      ]
    },
    {
      "cell_type": "markdown",
      "metadata": {
        "id": "zYdNK4rWhKfJ"
      },
      "source": [
        "В ходе анализа выяснилось, в данных присутствуют 2 разных теста, участников двух тестов оказалось 1602, согласно ТЗ необходимо было исследовать тест recommender_system_test, поэтому эти участники были исключены из исследования. После отбора нужного теста колчество участников стало 5099. Проверка наличия обеих групп в тесте показала, что группа А содержит 2903 участников, группа В - 2196 участников. Набор новых пользователей должен был проекратиться 21 декабря, у нас были данные по 23 декабря, что  также не сообвествовало ТЗ, такие данные были также исключены. Распределение участников по регионам выполненро неравномерно. Требование ТЗ по аудитории: 15% новых пользователей из региона EU фактически не было выполнено и составило 12.04%. В результате исследования маркетинговыз активностей выявлено, что в период проведения теста проводилась рекламная кампания \"Christmas&New Year Promo\", которая могла повлиять на результат теста, также дата проведения теста совпадает с новогодними праздниками, что негативно сказывается на корректности проведения теста. Пересечений участников в группах теста не обнаружено, однако их количество распределено неодинаково. Таким образом конечное число участникоов теста - 4749, что ниже требований ТЗ в 6000. Среднее количество событий на пользователя в группе А - 5, среднее количество событий на пользователя в группе B -  1.9.\n",
        "Количество событий на пользователя распределены между выборками неодинаково. Группа А сильно отличается по событиям от группы В, с 14 числа пошел резкий подъем количества событий, пик достиг 21 декабря. По результатам исследования воронки продаж выяснили, что воронка нестрогая, на шаге от события \"product_page\" к событию \"purchase\" больше всего теряется пользователей.Результат проверки z-теста показал Они говорят нам о слишком большом различии между группами. Подытожив вышеперичисленное, можно сделать вывод, что результатам теста доверять нельзя, тест проведен с множеством нарушений.\n",
        "   \n",
        "</div>"
      ]
    }
  ],
  "metadata": {
    "ExecuteTimeLog": [
      {
        "duration": 1234,
        "start_time": "2022-06-06T06:26:24.885Z"
      },
      {
        "duration": 31,
        "start_time": "2022-06-06T06:31:33.752Z"
      },
      {
        "duration": 154,
        "start_time": "2022-06-06T06:31:53.905Z"
      },
      {
        "duration": 681,
        "start_time": "2022-06-06T06:32:26.484Z"
      },
      {
        "duration": 596,
        "start_time": "2022-06-06T06:32:39.054Z"
      },
      {
        "duration": 553,
        "start_time": "2022-06-06T06:34:13.432Z"
      },
      {
        "duration": 47,
        "start_time": "2022-06-06T07:32:47.888Z"
      },
      {
        "duration": 54,
        "start_time": "2022-06-06T07:33:54.438Z"
      },
      {
        "duration": 46,
        "start_time": "2022-06-06T07:34:58.501Z"
      },
      {
        "duration": 32,
        "start_time": "2022-06-06T07:35:12.483Z"
      },
      {
        "duration": 32,
        "start_time": "2022-06-06T07:35:28.680Z"
      },
      {
        "duration": 25,
        "start_time": "2022-06-06T07:35:32.154Z"
      },
      {
        "duration": 75,
        "start_time": "2022-06-06T07:35:43.851Z"
      },
      {
        "duration": 32,
        "start_time": "2022-06-06T07:36:58.795Z"
      },
      {
        "duration": 217,
        "start_time": "2022-06-06T07:38:22.275Z"
      },
      {
        "duration": 85,
        "start_time": "2022-06-06T07:40:15.419Z"
      },
      {
        "duration": 532,
        "start_time": "2022-06-06T10:24:16.790Z"
      },
      {
        "duration": 40,
        "start_time": "2022-06-06T10:32:46.736Z"
      },
      {
        "duration": 88,
        "start_time": "2022-06-06T10:33:55.662Z"
      },
      {
        "duration": 65,
        "start_time": "2022-06-06T10:34:33.409Z"
      },
      {
        "duration": 75,
        "start_time": "2022-06-06T10:37:30.107Z"
      },
      {
        "duration": 51,
        "start_time": "2022-06-06T10:37:47.303Z"
      },
      {
        "duration": 64,
        "start_time": "2022-06-06T10:37:55.912Z"
      },
      {
        "duration": 17,
        "start_time": "2022-06-06T10:39:20.019Z"
      },
      {
        "duration": 5,
        "start_time": "2022-06-06T10:39:27.629Z"
      },
      {
        "duration": 17,
        "start_time": "2022-06-06T10:40:28.964Z"
      },
      {
        "duration": 219,
        "start_time": "2022-06-06T10:44:22.459Z"
      },
      {
        "duration": 31,
        "start_time": "2022-06-06T10:46:31.267Z"
      },
      {
        "duration": 194,
        "start_time": "2022-06-06T10:46:41.193Z"
      },
      {
        "duration": 7,
        "start_time": "2022-06-06T10:50:03.518Z"
      },
      {
        "duration": 27,
        "start_time": "2022-06-06T10:50:28.528Z"
      },
      {
        "duration": 37,
        "start_time": "2022-06-06T10:51:15.648Z"
      },
      {
        "duration": 19,
        "start_time": "2022-06-06T10:52:24.726Z"
      },
      {
        "duration": 10,
        "start_time": "2022-06-06T10:55:56.389Z"
      },
      {
        "duration": 38,
        "start_time": "2022-06-06T10:56:04.606Z"
      },
      {
        "duration": 7,
        "start_time": "2022-06-06T10:56:29.752Z"
      },
      {
        "duration": 25,
        "start_time": "2022-06-06T11:00:27.603Z"
      },
      {
        "duration": 8,
        "start_time": "2022-06-06T11:01:59.375Z"
      },
      {
        "duration": 58,
        "start_time": "2022-06-06T11:02:11.742Z"
      },
      {
        "duration": 12,
        "start_time": "2022-06-06T11:02:22.480Z"
      },
      {
        "duration": 14,
        "start_time": "2022-06-06T11:03:23.287Z"
      },
      {
        "duration": 6,
        "start_time": "2022-06-06T11:09:32.981Z"
      },
      {
        "duration": 9,
        "start_time": "2022-06-06T11:15:08.489Z"
      },
      {
        "duration": 6,
        "start_time": "2022-06-06T11:15:37.114Z"
      },
      {
        "duration": 3,
        "start_time": "2022-06-06T11:21:28.098Z"
      },
      {
        "duration": 8,
        "start_time": "2022-06-06T11:24:40.142Z"
      },
      {
        "duration": 17,
        "start_time": "2022-06-06T11:24:48.867Z"
      },
      {
        "duration": 16,
        "start_time": "2022-06-06T11:25:44.255Z"
      },
      {
        "duration": 28,
        "start_time": "2022-06-06T11:25:51.489Z"
      },
      {
        "duration": 9,
        "start_time": "2022-06-06T11:43:21.343Z"
      },
      {
        "duration": 16,
        "start_time": "2022-06-06T11:43:42.680Z"
      },
      {
        "duration": 8,
        "start_time": "2022-06-06T11:49:46.058Z"
      },
      {
        "duration": 7,
        "start_time": "2022-06-06T11:53:58.646Z"
      },
      {
        "duration": 10,
        "start_time": "2022-06-06T11:54:08.105Z"
      },
      {
        "duration": 5,
        "start_time": "2022-06-06T11:54:15.070Z"
      },
      {
        "duration": 4,
        "start_time": "2022-06-06T11:54:21.796Z"
      },
      {
        "duration": 8,
        "start_time": "2022-06-06T11:54:27.123Z"
      },
      {
        "duration": 8,
        "start_time": "2022-06-06T11:57:25.131Z"
      },
      {
        "duration": 12,
        "start_time": "2022-06-06T11:59:02.843Z"
      },
      {
        "duration": 13,
        "start_time": "2022-06-06T11:59:59.507Z"
      },
      {
        "duration": 498,
        "start_time": "2022-06-06T12:03:46.121Z"
      },
      {
        "duration": 60,
        "start_time": "2022-06-06T12:05:05.098Z"
      },
      {
        "duration": 11,
        "start_time": "2022-06-06T12:05:17.190Z"
      },
      {
        "duration": 11,
        "start_time": "2022-06-06T12:09:26.493Z"
      },
      {
        "duration": 8,
        "start_time": "2022-06-06T12:09:43.778Z"
      },
      {
        "duration": 4,
        "start_time": "2022-06-06T12:09:55.859Z"
      },
      {
        "duration": 4,
        "start_time": "2022-06-06T12:10:02.464Z"
      },
      {
        "duration": 5,
        "start_time": "2022-06-06T12:10:07.667Z"
      },
      {
        "duration": 11,
        "start_time": "2022-06-06T12:11:06.088Z"
      },
      {
        "duration": 23,
        "start_time": "2022-06-06T12:11:32.324Z"
      },
      {
        "duration": 11,
        "start_time": "2022-06-06T12:11:58.015Z"
      },
      {
        "duration": 11,
        "start_time": "2022-06-06T12:12:30.892Z"
      },
      {
        "duration": 12,
        "start_time": "2022-06-06T12:15:38.620Z"
      },
      {
        "duration": 11,
        "start_time": "2022-06-06T12:22:45.354Z"
      },
      {
        "duration": 4,
        "start_time": "2022-06-06T12:23:03.548Z"
      },
      {
        "duration": 572,
        "start_time": "2022-06-06T12:23:03.572Z"
      },
      {
        "duration": 94,
        "start_time": "2022-06-06T12:23:04.147Z"
      },
      {
        "duration": 29,
        "start_time": "2022-06-06T12:23:04.243Z"
      },
      {
        "duration": 5,
        "start_time": "2022-06-06T12:23:04.275Z"
      },
      {
        "duration": 100,
        "start_time": "2022-06-06T12:23:04.282Z"
      },
      {
        "duration": 12,
        "start_time": "2022-06-06T12:23:04.384Z"
      },
      {
        "duration": 45,
        "start_time": "2022-06-06T12:23:04.398Z"
      },
      {
        "duration": 241,
        "start_time": "2022-06-06T12:23:04.445Z"
      },
      {
        "duration": 7,
        "start_time": "2022-06-06T12:23:04.688Z"
      },
      {
        "duration": 46,
        "start_time": "2022-06-06T12:23:04.697Z"
      },
      {
        "duration": 13,
        "start_time": "2022-06-06T12:23:04.744Z"
      },
      {
        "duration": 6,
        "start_time": "2022-06-06T12:23:04.759Z"
      },
      {
        "duration": 14,
        "start_time": "2022-06-06T12:23:04.766Z"
      },
      {
        "duration": 13,
        "start_time": "2022-06-06T12:23:04.782Z"
      },
      {
        "duration": 31,
        "start_time": "2022-06-06T12:23:04.796Z"
      },
      {
        "duration": 4,
        "start_time": "2022-06-06T12:23:04.830Z"
      },
      {
        "duration": 30,
        "start_time": "2022-06-06T12:23:04.836Z"
      },
      {
        "duration": 9,
        "start_time": "2022-06-06T12:23:04.867Z"
      },
      {
        "duration": 13,
        "start_time": "2022-06-06T12:23:04.878Z"
      },
      {
        "duration": 36,
        "start_time": "2022-06-06T12:23:04.892Z"
      },
      {
        "duration": 7,
        "start_time": "2022-06-06T12:24:19.146Z"
      },
      {
        "duration": 9,
        "start_time": "2022-06-06T12:24:30.592Z"
      },
      {
        "duration": 30,
        "start_time": "2022-06-06T12:28:59.812Z"
      },
      {
        "duration": 22,
        "start_time": "2022-06-06T12:29:07.053Z"
      },
      {
        "duration": 43,
        "start_time": "2022-06-06T12:29:12.770Z"
      },
      {
        "duration": 43,
        "start_time": "2022-06-06T12:29:42.968Z"
      },
      {
        "duration": 51,
        "start_time": "2022-06-06T12:30:36.264Z"
      },
      {
        "duration": 94,
        "start_time": "2022-06-06T12:34:58.581Z"
      },
      {
        "duration": 17,
        "start_time": "2022-06-06T12:35:05.252Z"
      },
      {
        "duration": 39,
        "start_time": "2022-06-06T12:35:10.986Z"
      },
      {
        "duration": 76,
        "start_time": "2022-06-06T12:43:57.777Z"
      },
      {
        "duration": 662,
        "start_time": "2022-06-06T12:50:10.063Z"
      },
      {
        "duration": 43,
        "start_time": "2022-06-06T12:52:21.830Z"
      },
      {
        "duration": 8,
        "start_time": "2022-06-06T12:57:55.913Z"
      },
      {
        "duration": 10,
        "start_time": "2022-06-06T12:58:00.827Z"
      },
      {
        "duration": 16,
        "start_time": "2022-06-06T12:59:59.841Z"
      },
      {
        "duration": 3,
        "start_time": "2022-06-06T13:02:27.961Z"
      },
      {
        "duration": 488,
        "start_time": "2022-06-06T13:02:27.975Z"
      },
      {
        "duration": 69,
        "start_time": "2022-06-06T13:02:28.465Z"
      },
      {
        "duration": 26,
        "start_time": "2022-06-06T13:02:28.536Z"
      },
      {
        "duration": 4,
        "start_time": "2022-06-06T13:02:28.564Z"
      },
      {
        "duration": 83,
        "start_time": "2022-06-06T13:02:28.570Z"
      },
      {
        "duration": 9,
        "start_time": "2022-06-06T13:02:28.655Z"
      },
      {
        "duration": 39,
        "start_time": "2022-06-06T13:02:28.666Z"
      },
      {
        "duration": 185,
        "start_time": "2022-06-06T13:02:28.707Z"
      },
      {
        "duration": 6,
        "start_time": "2022-06-06T13:02:28.894Z"
      },
      {
        "duration": 48,
        "start_time": "2022-06-06T13:02:28.903Z"
      },
      {
        "duration": 11,
        "start_time": "2022-06-06T13:02:28.953Z"
      },
      {
        "duration": 6,
        "start_time": "2022-06-06T13:02:28.965Z"
      },
      {
        "duration": 15,
        "start_time": "2022-06-06T13:02:28.973Z"
      },
      {
        "duration": 18,
        "start_time": "2022-06-06T13:02:28.989Z"
      },
      {
        "duration": 25,
        "start_time": "2022-06-06T13:02:29.008Z"
      },
      {
        "duration": 8,
        "start_time": "2022-06-06T13:02:29.034Z"
      },
      {
        "duration": 4,
        "start_time": "2022-06-06T13:02:29.044Z"
      },
      {
        "duration": 21,
        "start_time": "2022-06-06T13:02:29.049Z"
      },
      {
        "duration": 8,
        "start_time": "2022-06-06T13:02:29.071Z"
      },
      {
        "duration": 14,
        "start_time": "2022-06-06T13:02:29.080Z"
      },
      {
        "duration": 70,
        "start_time": "2022-06-06T13:02:29.095Z"
      },
      {
        "duration": 9,
        "start_time": "2022-06-06T13:02:29.167Z"
      },
      {
        "duration": 0,
        "start_time": "2022-06-06T13:02:29.177Z"
      },
      {
        "duration": 9,
        "start_time": "2022-06-06T13:05:54.388Z"
      },
      {
        "duration": 7,
        "start_time": "2022-06-06T13:06:01.807Z"
      },
      {
        "duration": 7,
        "start_time": "2022-06-06T13:07:58.561Z"
      },
      {
        "duration": 9,
        "start_time": "2022-06-06T13:08:08.943Z"
      },
      {
        "duration": 13,
        "start_time": "2022-06-06T13:08:27.468Z"
      },
      {
        "duration": 12,
        "start_time": "2022-06-06T13:08:52.766Z"
      },
      {
        "duration": 15,
        "start_time": "2022-06-06T13:08:56.642Z"
      },
      {
        "duration": 18,
        "start_time": "2022-06-06T13:12:37.046Z"
      },
      {
        "duration": 1427,
        "start_time": "2022-06-07T11:02:48.675Z"
      },
      {
        "duration": 726,
        "start_time": "2022-06-07T11:02:50.104Z"
      },
      {
        "duration": 89,
        "start_time": "2022-06-07T11:02:50.832Z"
      },
      {
        "duration": 64,
        "start_time": "2022-06-07T11:02:50.923Z"
      },
      {
        "duration": 5,
        "start_time": "2022-06-07T11:02:50.989Z"
      },
      {
        "duration": 195,
        "start_time": "2022-06-07T11:02:50.996Z"
      },
      {
        "duration": 10,
        "start_time": "2022-06-07T11:02:51.194Z"
      },
      {
        "duration": 82,
        "start_time": "2022-06-07T11:02:51.206Z"
      },
      {
        "duration": 254,
        "start_time": "2022-06-07T11:02:51.290Z"
      },
      {
        "duration": 7,
        "start_time": "2022-06-07T11:02:51.547Z"
      },
      {
        "duration": 53,
        "start_time": "2022-06-07T11:02:51.556Z"
      },
      {
        "duration": 13,
        "start_time": "2022-06-07T11:02:51.611Z"
      },
      {
        "duration": 7,
        "start_time": "2022-06-07T11:02:51.625Z"
      },
      {
        "duration": 27,
        "start_time": "2022-06-07T11:02:51.633Z"
      },
      {
        "duration": 45,
        "start_time": "2022-06-07T11:02:51.662Z"
      },
      {
        "duration": 13,
        "start_time": "2022-06-07T11:02:51.708Z"
      },
      {
        "duration": 12,
        "start_time": "2022-06-07T11:02:51.723Z"
      },
      {
        "duration": 15,
        "start_time": "2022-06-07T11:02:51.736Z"
      },
      {
        "duration": 8,
        "start_time": "2022-06-07T11:02:51.752Z"
      },
      {
        "duration": 6,
        "start_time": "2022-06-07T11:02:51.761Z"
      },
      {
        "duration": 21,
        "start_time": "2022-06-07T11:02:51.795Z"
      },
      {
        "duration": 9,
        "start_time": "2022-06-07T11:02:51.818Z"
      },
      {
        "duration": 16,
        "start_time": "2022-06-07T11:02:51.829Z"
      },
      {
        "duration": 67,
        "start_time": "2022-06-07T11:02:51.846Z"
      },
      {
        "duration": 13,
        "start_time": "2022-06-07T11:02:51.915Z"
      },
      {
        "duration": 19,
        "start_time": "2022-06-07T11:02:51.929Z"
      },
      {
        "duration": 175,
        "start_time": "2022-06-07T11:02:51.950Z"
      },
      {
        "duration": 19,
        "start_time": "2022-06-07T11:05:38.830Z"
      },
      {
        "duration": 464,
        "start_time": "2022-06-07T11:07:40.652Z"
      },
      {
        "duration": 16,
        "start_time": "2022-06-07T11:07:48.756Z"
      },
      {
        "duration": 8,
        "start_time": "2022-06-07T11:09:02.989Z"
      },
      {
        "duration": 20,
        "start_time": "2022-06-07T11:09:49.526Z"
      },
      {
        "duration": 24,
        "start_time": "2022-06-07T11:20:23.847Z"
      },
      {
        "duration": 20,
        "start_time": "2022-06-07T11:20:36.310Z"
      },
      {
        "duration": 26,
        "start_time": "2022-06-07T11:20:45.988Z"
      },
      {
        "duration": 13,
        "start_time": "2022-06-07T11:21:15.315Z"
      },
      {
        "duration": 18,
        "start_time": "2022-06-07T11:22:18.263Z"
      },
      {
        "duration": 16,
        "start_time": "2022-06-07T11:23:31.638Z"
      },
      {
        "duration": 18,
        "start_time": "2022-06-07T11:23:39.520Z"
      },
      {
        "duration": 19,
        "start_time": "2022-06-07T11:23:48.563Z"
      },
      {
        "duration": 6,
        "start_time": "2022-06-07T11:25:34.268Z"
      },
      {
        "duration": 8,
        "start_time": "2022-06-07T11:25:39.522Z"
      },
      {
        "duration": 4,
        "start_time": "2022-06-07T11:26:15.855Z"
      },
      {
        "duration": 645,
        "start_time": "2022-06-07T11:26:15.873Z"
      },
      {
        "duration": 87,
        "start_time": "2022-06-07T11:26:16.520Z"
      },
      {
        "duration": 31,
        "start_time": "2022-06-07T11:26:16.610Z"
      },
      {
        "duration": 5,
        "start_time": "2022-06-07T11:26:16.644Z"
      },
      {
        "duration": 96,
        "start_time": "2022-06-07T11:26:16.650Z"
      },
      {
        "duration": 12,
        "start_time": "2022-06-07T11:26:16.747Z"
      },
      {
        "duration": 40,
        "start_time": "2022-06-07T11:26:16.760Z"
      },
      {
        "duration": 241,
        "start_time": "2022-06-07T11:26:16.803Z"
      },
      {
        "duration": 7,
        "start_time": "2022-06-07T11:26:17.046Z"
      },
      {
        "duration": 54,
        "start_time": "2022-06-07T11:26:17.057Z"
      },
      {
        "duration": 20,
        "start_time": "2022-06-07T11:26:17.113Z"
      },
      {
        "duration": 7,
        "start_time": "2022-06-07T11:26:17.135Z"
      },
      {
        "duration": 55,
        "start_time": "2022-06-07T11:26:17.144Z"
      },
      {
        "duration": 23,
        "start_time": "2022-06-07T11:26:17.200Z"
      },
      {
        "duration": 15,
        "start_time": "2022-06-07T11:26:17.224Z"
      },
      {
        "duration": 13,
        "start_time": "2022-06-07T11:26:17.241Z"
      },
      {
        "duration": 39,
        "start_time": "2022-06-07T11:26:17.256Z"
      },
      {
        "duration": 9,
        "start_time": "2022-06-07T11:26:17.297Z"
      },
      {
        "duration": 4,
        "start_time": "2022-06-07T11:26:17.308Z"
      },
      {
        "duration": 23,
        "start_time": "2022-06-07T11:26:17.314Z"
      },
      {
        "duration": 9,
        "start_time": "2022-06-07T11:26:17.338Z"
      },
      {
        "duration": 13,
        "start_time": "2022-06-07T11:26:17.348Z"
      },
      {
        "duration": 52,
        "start_time": "2022-06-07T11:26:17.395Z"
      },
      {
        "duration": 45,
        "start_time": "2022-06-07T11:26:17.449Z"
      },
      {
        "duration": 24,
        "start_time": "2022-06-07T11:26:17.496Z"
      },
      {
        "duration": 7,
        "start_time": "2022-06-07T11:26:17.522Z"
      },
      {
        "duration": 168,
        "start_time": "2022-06-07T11:26:17.531Z"
      },
      {
        "duration": 1936,
        "start_time": "2022-06-08T15:35:16.688Z"
      },
      {
        "duration": 1880,
        "start_time": "2022-06-08T15:35:18.630Z"
      },
      {
        "duration": 202,
        "start_time": "2022-06-08T15:35:20.519Z"
      },
      {
        "duration": 171,
        "start_time": "2022-06-08T15:35:20.723Z"
      },
      {
        "duration": 5,
        "start_time": "2022-06-08T15:35:20.896Z"
      },
      {
        "duration": 409,
        "start_time": "2022-06-08T15:35:20.903Z"
      },
      {
        "duration": 14,
        "start_time": "2022-06-08T15:35:21.313Z"
      },
      {
        "duration": 234,
        "start_time": "2022-06-08T15:35:21.332Z"
      },
      {
        "duration": 323,
        "start_time": "2022-06-08T15:35:21.569Z"
      },
      {
        "duration": 10,
        "start_time": "2022-06-08T15:35:21.896Z"
      },
      {
        "duration": 181,
        "start_time": "2022-06-08T15:35:21.908Z"
      },
      {
        "duration": 102,
        "start_time": "2022-06-08T15:35:22.094Z"
      },
      {
        "duration": 9,
        "start_time": "2022-06-08T15:35:22.199Z"
      },
      {
        "duration": 87,
        "start_time": "2022-06-08T15:35:22.211Z"
      },
      {
        "duration": 26,
        "start_time": "2022-06-08T15:35:22.301Z"
      },
      {
        "duration": 77,
        "start_time": "2022-06-08T15:35:22.328Z"
      },
      {
        "duration": 105,
        "start_time": "2022-06-08T15:35:22.413Z"
      },
      {
        "duration": 194,
        "start_time": "2022-06-08T15:35:22.520Z"
      },
      {
        "duration": 86,
        "start_time": "2022-06-08T15:35:22.716Z"
      },
      {
        "duration": 112,
        "start_time": "2022-06-08T15:35:22.806Z"
      },
      {
        "duration": 130,
        "start_time": "2022-06-08T15:35:22.920Z"
      },
      {
        "duration": 27,
        "start_time": "2022-06-08T15:35:23.062Z"
      },
      {
        "duration": 112,
        "start_time": "2022-06-08T15:35:23.091Z"
      },
      {
        "duration": 177,
        "start_time": "2022-06-08T15:35:23.205Z"
      },
      {
        "duration": 47,
        "start_time": "2022-06-08T15:35:23.384Z"
      },
      {
        "duration": 83,
        "start_time": "2022-06-08T15:35:23.433Z"
      },
      {
        "duration": 22,
        "start_time": "2022-06-08T15:35:23.518Z"
      },
      {
        "duration": 307,
        "start_time": "2022-06-08T15:35:23.547Z"
      },
      {
        "duration": 47,
        "start_time": "2022-06-08T15:35:23.859Z"
      },
      {
        "duration": 21,
        "start_time": "2022-06-08T15:35:23.908Z"
      },
      {
        "duration": 575,
        "start_time": "2022-06-08T15:35:23.931Z"
      },
      {
        "duration": 46,
        "start_time": "2022-06-08T15:35:24.508Z"
      },
      {
        "duration": 293,
        "start_time": "2022-06-08T15:35:24.556Z"
      },
      {
        "duration": 13,
        "start_time": "2022-06-08T15:35:24.862Z"
      },
      {
        "duration": 16,
        "start_time": "2022-06-08T15:35:24.877Z"
      },
      {
        "duration": 38,
        "start_time": "2022-06-08T15:35:24.894Z"
      },
      {
        "duration": 9,
        "start_time": "2022-06-08T15:35:24.934Z"
      },
      {
        "duration": 65,
        "start_time": "2022-06-08T15:35:24.946Z"
      },
      {
        "duration": 26,
        "start_time": "2022-06-08T15:42:38.717Z"
      },
      {
        "duration": 19,
        "start_time": "2022-06-08T16:01:56.163Z"
      },
      {
        "duration": 6,
        "start_time": "2022-06-08T16:05:44.410Z"
      },
      {
        "duration": 136,
        "start_time": "2022-06-08T16:06:20.318Z"
      },
      {
        "duration": 10,
        "start_time": "2022-06-08T16:06:39.748Z"
      },
      {
        "duration": 38,
        "start_time": "2022-06-08T16:06:55.309Z"
      },
      {
        "duration": 7,
        "start_time": "2022-06-08T16:07:42.494Z"
      },
      {
        "duration": 23,
        "start_time": "2022-06-08T16:07:44.554Z"
      },
      {
        "duration": 3,
        "start_time": "2022-06-08T16:10:05.284Z"
      },
      {
        "duration": 5,
        "start_time": "2022-06-08T16:10:12.669Z"
      },
      {
        "duration": 53,
        "start_time": "2022-06-08T16:12:16.317Z"
      },
      {
        "duration": 7,
        "start_time": "2022-06-08T16:12:28.158Z"
      },
      {
        "duration": 18,
        "start_time": "2022-06-08T16:12:51.047Z"
      },
      {
        "duration": 14,
        "start_time": "2022-06-08T16:14:07.551Z"
      },
      {
        "duration": 9,
        "start_time": "2022-06-08T16:14:22.285Z"
      },
      {
        "duration": 57,
        "start_time": "2022-06-08T16:23:29.132Z"
      },
      {
        "duration": 21,
        "start_time": "2022-06-08T16:23:52.211Z"
      },
      {
        "duration": 20,
        "start_time": "2022-06-08T16:24:06.237Z"
      },
      {
        "duration": 24,
        "start_time": "2022-06-08T16:25:36.643Z"
      },
      {
        "duration": 10,
        "start_time": "2022-06-08T16:26:25.019Z"
      },
      {
        "duration": 13,
        "start_time": "2022-06-08T16:27:00.651Z"
      },
      {
        "duration": 15,
        "start_time": "2022-06-08T16:27:19.955Z"
      },
      {
        "duration": 10,
        "start_time": "2022-06-08T16:29:35.616Z"
      },
      {
        "duration": 12,
        "start_time": "2022-06-08T16:29:52.263Z"
      },
      {
        "duration": 11,
        "start_time": "2022-06-08T16:36:44.557Z"
      },
      {
        "duration": 40,
        "start_time": "2022-06-08T16:41:20.257Z"
      },
      {
        "duration": 19,
        "start_time": "2022-06-08T16:42:55.659Z"
      },
      {
        "duration": 5,
        "start_time": "2022-06-08T16:44:24.192Z"
      },
      {
        "duration": 55,
        "start_time": "2022-06-08T16:44:55.287Z"
      },
      {
        "duration": 4,
        "start_time": "2022-06-08T16:50:31.878Z"
      },
      {
        "duration": 749,
        "start_time": "2022-06-08T16:50:31.884Z"
      },
      {
        "duration": 125,
        "start_time": "2022-06-08T16:50:32.642Z"
      },
      {
        "duration": 66,
        "start_time": "2022-06-08T16:50:32.770Z"
      },
      {
        "duration": 6,
        "start_time": "2022-06-08T16:50:32.840Z"
      },
      {
        "duration": 148,
        "start_time": "2022-06-08T16:50:32.854Z"
      },
      {
        "duration": 33,
        "start_time": "2022-06-08T16:50:33.004Z"
      },
      {
        "duration": 67,
        "start_time": "2022-06-08T16:50:33.042Z"
      },
      {
        "duration": 267,
        "start_time": "2022-06-08T16:50:33.111Z"
      },
      {
        "duration": 8,
        "start_time": "2022-06-08T16:50:33.380Z"
      },
      {
        "duration": 69,
        "start_time": "2022-06-08T16:50:33.390Z"
      },
      {
        "duration": 14,
        "start_time": "2022-06-08T16:50:33.460Z"
      },
      {
        "duration": 7,
        "start_time": "2022-06-08T16:50:33.476Z"
      },
      {
        "duration": 71,
        "start_time": "2022-06-08T16:50:33.486Z"
      },
      {
        "duration": 27,
        "start_time": "2022-06-08T16:50:33.561Z"
      },
      {
        "duration": 13,
        "start_time": "2022-06-08T16:50:33.591Z"
      },
      {
        "duration": 28,
        "start_time": "2022-06-08T16:50:33.606Z"
      },
      {
        "duration": 11,
        "start_time": "2022-06-08T16:50:33.636Z"
      },
      {
        "duration": 27,
        "start_time": "2022-06-08T16:50:33.648Z"
      },
      {
        "duration": 7,
        "start_time": "2022-06-08T16:50:33.676Z"
      },
      {
        "duration": 25,
        "start_time": "2022-06-08T16:50:33.684Z"
      },
      {
        "duration": 8,
        "start_time": "2022-06-08T16:50:33.711Z"
      },
      {
        "duration": 36,
        "start_time": "2022-06-08T16:50:33.721Z"
      },
      {
        "duration": 56,
        "start_time": "2022-06-08T16:50:33.759Z"
      },
      {
        "duration": 25,
        "start_time": "2022-06-08T16:50:33.817Z"
      },
      {
        "duration": 41,
        "start_time": "2022-06-08T16:50:33.847Z"
      },
      {
        "duration": 6,
        "start_time": "2022-06-08T16:50:33.890Z"
      },
      {
        "duration": 193,
        "start_time": "2022-06-08T16:50:33.898Z"
      },
      {
        "duration": 20,
        "start_time": "2022-06-08T16:50:34.093Z"
      },
      {
        "duration": 18,
        "start_time": "2022-06-08T16:50:34.114Z"
      },
      {
        "duration": 400,
        "start_time": "2022-06-08T16:50:34.135Z"
      },
      {
        "duration": 32,
        "start_time": "2022-06-08T16:50:34.537Z"
      },
      {
        "duration": 21,
        "start_time": "2022-06-08T16:50:34.571Z"
      },
      {
        "duration": 18,
        "start_time": "2022-06-08T16:50:34.594Z"
      },
      {
        "duration": 18,
        "start_time": "2022-06-08T16:50:34.626Z"
      },
      {
        "duration": 11,
        "start_time": "2022-06-08T16:50:34.650Z"
      },
      {
        "duration": 8,
        "start_time": "2022-06-08T16:50:34.663Z"
      },
      {
        "duration": 36,
        "start_time": "2022-06-08T16:50:34.673Z"
      },
      {
        "duration": 7,
        "start_time": "2022-06-08T16:52:47.203Z"
      },
      {
        "duration": 28,
        "start_time": "2022-06-08T16:52:49.550Z"
      },
      {
        "duration": 7,
        "start_time": "2022-06-08T16:53:04.763Z"
      },
      {
        "duration": 46,
        "start_time": "2022-06-08T16:53:09.348Z"
      },
      {
        "duration": 64,
        "start_time": "2022-06-08T16:53:41.775Z"
      },
      {
        "duration": 4,
        "start_time": "2022-06-08T16:54:03.007Z"
      },
      {
        "duration": 792,
        "start_time": "2022-06-08T16:54:03.049Z"
      },
      {
        "duration": 150,
        "start_time": "2022-06-08T16:54:03.843Z"
      },
      {
        "duration": 35,
        "start_time": "2022-06-08T16:54:03.995Z"
      },
      {
        "duration": 12,
        "start_time": "2022-06-08T16:54:04.037Z"
      },
      {
        "duration": 165,
        "start_time": "2022-06-08T16:54:04.056Z"
      },
      {
        "duration": 23,
        "start_time": "2022-06-08T16:54:04.228Z"
      },
      {
        "duration": 81,
        "start_time": "2022-06-08T16:54:04.254Z"
      },
      {
        "duration": 289,
        "start_time": "2022-06-08T16:54:04.337Z"
      },
      {
        "duration": 17,
        "start_time": "2022-06-08T16:54:04.628Z"
      },
      {
        "duration": 97,
        "start_time": "2022-06-08T16:54:04.647Z"
      },
      {
        "duration": 19,
        "start_time": "2022-06-08T16:54:04.746Z"
      },
      {
        "duration": 28,
        "start_time": "2022-06-08T16:54:04.767Z"
      },
      {
        "duration": 50,
        "start_time": "2022-06-08T16:54:04.797Z"
      },
      {
        "duration": 36,
        "start_time": "2022-06-08T16:54:04.854Z"
      },
      {
        "duration": 19,
        "start_time": "2022-06-08T16:54:04.894Z"
      },
      {
        "duration": 82,
        "start_time": "2022-06-08T16:54:04.915Z"
      },
      {
        "duration": 8,
        "start_time": "2022-06-08T16:54:04.999Z"
      },
      {
        "duration": 13,
        "start_time": "2022-06-08T16:54:05.010Z"
      },
      {
        "duration": 49,
        "start_time": "2022-06-08T16:54:05.027Z"
      },
      {
        "duration": 30,
        "start_time": "2022-06-08T16:54:05.078Z"
      },
      {
        "duration": 10,
        "start_time": "2022-06-08T16:54:05.110Z"
      },
      {
        "duration": 61,
        "start_time": "2022-06-08T16:54:05.122Z"
      },
      {
        "duration": 90,
        "start_time": "2022-06-08T16:54:05.185Z"
      },
      {
        "duration": 18,
        "start_time": "2022-06-08T16:54:05.282Z"
      },
      {
        "duration": 29,
        "start_time": "2022-06-08T16:54:05.302Z"
      },
      {
        "duration": 60,
        "start_time": "2022-06-08T16:54:05.332Z"
      },
      {
        "duration": 309,
        "start_time": "2022-06-08T16:54:05.394Z"
      },
      {
        "duration": 29,
        "start_time": "2022-06-08T16:54:05.705Z"
      },
      {
        "duration": 73,
        "start_time": "2022-06-08T16:54:05.735Z"
      },
      {
        "duration": 559,
        "start_time": "2022-06-08T16:54:05.810Z"
      },
      {
        "duration": 45,
        "start_time": "2022-06-08T16:54:06.371Z"
      },
      {
        "duration": 130,
        "start_time": "2022-06-08T16:54:06.419Z"
      },
      {
        "duration": 63,
        "start_time": "2022-06-08T16:54:06.551Z"
      },
      {
        "duration": 44,
        "start_time": "2022-06-08T16:54:06.616Z"
      },
      {
        "duration": 27,
        "start_time": "2022-06-08T16:54:06.664Z"
      },
      {
        "duration": 12,
        "start_time": "2022-06-08T16:54:06.693Z"
      },
      {
        "duration": 112,
        "start_time": "2022-06-08T16:54:06.708Z"
      },
      {
        "duration": 5,
        "start_time": "2022-06-08T16:56:05.295Z"
      },
      {
        "duration": 7,
        "start_time": "2022-06-08T16:56:23.975Z"
      },
      {
        "duration": 73,
        "start_time": "2022-06-08T16:56:26.848Z"
      },
      {
        "duration": 10,
        "start_time": "2022-06-08T16:58:11.517Z"
      },
      {
        "duration": 58,
        "start_time": "2022-06-08T16:58:37.018Z"
      },
      {
        "duration": 4,
        "start_time": "2022-06-08T17:04:46.092Z"
      },
      {
        "duration": 565,
        "start_time": "2022-06-08T17:04:46.098Z"
      },
      {
        "duration": 97,
        "start_time": "2022-06-08T17:04:46.665Z"
      },
      {
        "duration": 25,
        "start_time": "2022-06-08T17:04:46.764Z"
      },
      {
        "duration": 4,
        "start_time": "2022-06-08T17:04:46.791Z"
      },
      {
        "duration": 90,
        "start_time": "2022-06-08T17:04:46.797Z"
      },
      {
        "duration": 10,
        "start_time": "2022-06-08T17:04:46.889Z"
      },
      {
        "duration": 52,
        "start_time": "2022-06-08T17:04:46.901Z"
      },
      {
        "duration": 218,
        "start_time": "2022-06-08T17:04:46.954Z"
      },
      {
        "duration": 6,
        "start_time": "2022-06-08T17:04:47.174Z"
      },
      {
        "duration": 66,
        "start_time": "2022-06-08T17:04:47.183Z"
      },
      {
        "duration": 15,
        "start_time": "2022-06-08T17:04:47.251Z"
      },
      {
        "duration": 7,
        "start_time": "2022-06-08T17:04:47.268Z"
      },
      {
        "duration": 24,
        "start_time": "2022-06-08T17:04:47.277Z"
      },
      {
        "duration": 44,
        "start_time": "2022-06-08T17:04:47.303Z"
      },
      {
        "duration": 18,
        "start_time": "2022-06-08T17:04:47.349Z"
      },
      {
        "duration": 12,
        "start_time": "2022-06-08T17:04:47.368Z"
      },
      {
        "duration": 9,
        "start_time": "2022-06-08T17:04:47.381Z"
      },
      {
        "duration": 11,
        "start_time": "2022-06-08T17:04:47.392Z"
      },
      {
        "duration": 7,
        "start_time": "2022-06-08T17:04:47.404Z"
      },
      {
        "duration": 29,
        "start_time": "2022-06-08T17:04:47.426Z"
      },
      {
        "duration": 20,
        "start_time": "2022-06-08T17:04:47.456Z"
      },
      {
        "duration": 11,
        "start_time": "2022-06-08T17:04:47.478Z"
      },
      {
        "duration": 61,
        "start_time": "2022-06-08T17:04:47.490Z"
      },
      {
        "duration": 13,
        "start_time": "2022-06-08T17:04:47.553Z"
      },
      {
        "duration": 17,
        "start_time": "2022-06-08T17:04:47.567Z"
      },
      {
        "duration": 5,
        "start_time": "2022-06-08T17:04:47.585Z"
      },
      {
        "duration": 160,
        "start_time": "2022-06-08T17:04:47.592Z"
      },
      {
        "duration": 21,
        "start_time": "2022-06-08T17:04:47.755Z"
      },
      {
        "duration": 9,
        "start_time": "2022-06-08T17:04:47.778Z"
      },
      {
        "duration": 380,
        "start_time": "2022-06-08T17:04:47.788Z"
      },
      {
        "duration": 24,
        "start_time": "2022-06-08T17:04:48.169Z"
      },
      {
        "duration": 30,
        "start_time": "2022-06-08T17:04:48.194Z"
      },
      {
        "duration": 22,
        "start_time": "2022-06-08T17:04:48.233Z"
      },
      {
        "duration": 8,
        "start_time": "2022-06-08T17:04:48.257Z"
      },
      {
        "duration": 8,
        "start_time": "2022-06-08T17:04:48.267Z"
      },
      {
        "duration": 8,
        "start_time": "2022-06-08T17:04:48.277Z"
      },
      {
        "duration": 52,
        "start_time": "2022-06-08T17:04:48.287Z"
      },
      {
        "duration": 1083,
        "start_time": "2022-06-09T05:40:33.382Z"
      },
      {
        "duration": 771,
        "start_time": "2022-06-09T05:40:34.467Z"
      },
      {
        "duration": 98,
        "start_time": "2022-06-09T05:40:35.240Z"
      },
      {
        "duration": 78,
        "start_time": "2022-06-09T05:40:35.340Z"
      },
      {
        "duration": 5,
        "start_time": "2022-06-09T05:40:35.420Z"
      },
      {
        "duration": 218,
        "start_time": "2022-06-09T05:40:35.426Z"
      },
      {
        "duration": 12,
        "start_time": "2022-06-09T05:40:35.646Z"
      },
      {
        "duration": 96,
        "start_time": "2022-06-09T05:40:35.659Z"
      },
      {
        "duration": 274,
        "start_time": "2022-06-09T05:40:35.756Z"
      },
      {
        "duration": 7,
        "start_time": "2022-06-09T05:40:36.032Z"
      },
      {
        "duration": 64,
        "start_time": "2022-06-09T05:40:36.041Z"
      },
      {
        "duration": 14,
        "start_time": "2022-06-09T05:40:36.106Z"
      },
      {
        "duration": 8,
        "start_time": "2022-06-09T05:40:36.122Z"
      },
      {
        "duration": 35,
        "start_time": "2022-06-09T05:40:36.132Z"
      },
      {
        "duration": 19,
        "start_time": "2022-06-09T05:40:36.169Z"
      },
      {
        "duration": 14,
        "start_time": "2022-06-09T05:40:36.190Z"
      },
      {
        "duration": 26,
        "start_time": "2022-06-09T05:40:36.206Z"
      },
      {
        "duration": 5,
        "start_time": "2022-06-09T05:40:36.234Z"
      },
      {
        "duration": 15,
        "start_time": "2022-06-09T05:40:36.241Z"
      },
      {
        "duration": 9,
        "start_time": "2022-06-09T05:40:36.258Z"
      },
      {
        "duration": 29,
        "start_time": "2022-06-09T05:40:36.268Z"
      },
      {
        "duration": 9,
        "start_time": "2022-06-09T05:40:36.299Z"
      },
      {
        "duration": 28,
        "start_time": "2022-06-09T05:40:36.309Z"
      },
      {
        "duration": 57,
        "start_time": "2022-06-09T05:40:36.339Z"
      },
      {
        "duration": 13,
        "start_time": "2022-06-09T05:40:36.397Z"
      },
      {
        "duration": 19,
        "start_time": "2022-06-09T05:40:36.426Z"
      },
      {
        "duration": 6,
        "start_time": "2022-06-09T05:40:36.447Z"
      },
      {
        "duration": 187,
        "start_time": "2022-06-09T05:40:36.456Z"
      },
      {
        "duration": 19,
        "start_time": "2022-06-09T05:40:36.644Z"
      },
      {
        "duration": 9,
        "start_time": "2022-06-09T05:40:36.665Z"
      },
      {
        "duration": 368,
        "start_time": "2022-06-09T05:40:36.676Z"
      },
      {
        "duration": 27,
        "start_time": "2022-06-09T05:40:37.045Z"
      },
      {
        "duration": 165,
        "start_time": "2022-06-09T05:40:37.074Z"
      },
      {
        "duration": 12,
        "start_time": "2022-06-09T05:40:37.240Z"
      },
      {
        "duration": 25,
        "start_time": "2022-06-09T05:40:37.253Z"
      },
      {
        "duration": 50,
        "start_time": "2022-06-09T05:40:37.280Z"
      },
      {
        "duration": 7,
        "start_time": "2022-06-09T05:40:37.332Z"
      },
      {
        "duration": 112,
        "start_time": "2022-06-09T05:40:37.341Z"
      },
      {
        "duration": 4,
        "start_time": "2022-06-09T05:46:20.232Z"
      },
      {
        "duration": 4,
        "start_time": "2022-06-09T05:46:25.138Z"
      },
      {
        "duration": 4,
        "start_time": "2022-06-09T05:46:27.195Z"
      },
      {
        "duration": 3,
        "start_time": "2022-06-09T05:46:29.508Z"
      },
      {
        "duration": 3,
        "start_time": "2022-06-09T05:46:31.455Z"
      },
      {
        "duration": 4,
        "start_time": "2022-06-09T05:46:34.696Z"
      },
      {
        "duration": 4,
        "start_time": "2022-06-09T05:46:36.742Z"
      },
      {
        "duration": 4,
        "start_time": "2022-06-09T05:46:39.418Z"
      },
      {
        "duration": 3,
        "start_time": "2022-06-09T05:46:41.418Z"
      },
      {
        "duration": 4,
        "start_time": "2022-06-09T05:46:41.580Z"
      },
      {
        "duration": 1315,
        "start_time": "2022-06-09T08:04:31.123Z"
      },
      {
        "duration": 735,
        "start_time": "2022-06-09T08:04:32.440Z"
      },
      {
        "duration": 88,
        "start_time": "2022-06-09T08:04:33.176Z"
      },
      {
        "duration": 62,
        "start_time": "2022-06-09T08:04:33.267Z"
      },
      {
        "duration": 5,
        "start_time": "2022-06-09T08:04:33.331Z"
      },
      {
        "duration": 207,
        "start_time": "2022-06-09T08:04:33.337Z"
      },
      {
        "duration": 11,
        "start_time": "2022-06-09T08:04:33.545Z"
      },
      {
        "duration": 93,
        "start_time": "2022-06-09T08:04:33.557Z"
      },
      {
        "duration": 191,
        "start_time": "2022-06-09T08:04:33.651Z"
      },
      {
        "duration": 6,
        "start_time": "2022-06-09T08:04:33.845Z"
      },
      {
        "duration": 70,
        "start_time": "2022-06-09T08:04:33.852Z"
      },
      {
        "duration": 12,
        "start_time": "2022-06-09T08:04:33.924Z"
      },
      {
        "duration": 18,
        "start_time": "2022-06-09T08:04:33.937Z"
      },
      {
        "duration": 37,
        "start_time": "2022-06-09T08:04:33.956Z"
      },
      {
        "duration": 22,
        "start_time": "2022-06-09T08:04:33.994Z"
      },
      {
        "duration": 19,
        "start_time": "2022-06-09T08:04:34.017Z"
      },
      {
        "duration": 20,
        "start_time": "2022-06-09T08:04:34.038Z"
      },
      {
        "duration": 22,
        "start_time": "2022-06-09T08:04:34.059Z"
      },
      {
        "duration": 23,
        "start_time": "2022-06-09T08:04:34.082Z"
      },
      {
        "duration": 22,
        "start_time": "2022-06-09T08:04:34.106Z"
      },
      {
        "duration": 45,
        "start_time": "2022-06-09T08:04:34.129Z"
      },
      {
        "duration": 15,
        "start_time": "2022-06-09T08:04:34.175Z"
      },
      {
        "duration": 25,
        "start_time": "2022-06-09T08:04:34.192Z"
      },
      {
        "duration": 66,
        "start_time": "2022-06-09T08:04:34.218Z"
      },
      {
        "duration": 13,
        "start_time": "2022-06-09T08:04:34.286Z"
      },
      {
        "duration": 35,
        "start_time": "2022-06-09T08:04:34.300Z"
      },
      {
        "duration": 13,
        "start_time": "2022-06-09T08:04:34.336Z"
      },
      {
        "duration": 135,
        "start_time": "2022-06-09T08:04:34.352Z"
      },
      {
        "duration": 18,
        "start_time": "2022-06-09T08:04:34.488Z"
      },
      {
        "duration": 20,
        "start_time": "2022-06-09T08:04:34.508Z"
      },
      {
        "duration": 351,
        "start_time": "2022-06-09T08:04:34.530Z"
      },
      {
        "duration": 24,
        "start_time": "2022-06-09T08:04:34.882Z"
      },
      {
        "duration": 139,
        "start_time": "2022-06-09T08:04:34.908Z"
      },
      {
        "duration": 10,
        "start_time": "2022-06-09T08:04:35.049Z"
      },
      {
        "duration": 12,
        "start_time": "2022-06-09T08:04:35.061Z"
      },
      {
        "duration": 11,
        "start_time": "2022-06-09T08:04:35.075Z"
      },
      {
        "duration": 39,
        "start_time": "2022-06-09T08:04:35.087Z"
      },
      {
        "duration": 48,
        "start_time": "2022-06-09T08:04:35.128Z"
      },
      {
        "duration": 4,
        "start_time": "2022-06-09T08:04:35.177Z"
      },
      {
        "duration": 43,
        "start_time": "2022-06-09T08:04:35.182Z"
      },
      {
        "duration": 4,
        "start_time": "2022-06-09T08:25:35.261Z"
      },
      {
        "duration": 36,
        "start_time": "2022-06-09T08:25:47.754Z"
      },
      {
        "duration": 33,
        "start_time": "2022-06-09T08:26:08.040Z"
      },
      {
        "duration": 32,
        "start_time": "2022-06-09T08:28:50.523Z"
      },
      {
        "duration": 4,
        "start_time": "2022-06-09T08:30:43.506Z"
      },
      {
        "duration": 554,
        "start_time": "2022-06-09T08:30:43.538Z"
      },
      {
        "duration": 108,
        "start_time": "2022-06-09T08:30:44.095Z"
      },
      {
        "duration": 29,
        "start_time": "2022-06-09T08:30:44.205Z"
      },
      {
        "duration": 11,
        "start_time": "2022-06-09T08:30:44.236Z"
      },
      {
        "duration": 4,
        "start_time": "2022-06-09T08:30:44.249Z"
      },
      {
        "duration": 91,
        "start_time": "2022-06-09T08:30:44.254Z"
      },
      {
        "duration": 11,
        "start_time": "2022-06-09T08:30:44.346Z"
      },
      {
        "duration": 36,
        "start_time": "2022-06-09T08:30:44.359Z"
      },
      {
        "duration": 232,
        "start_time": "2022-06-09T08:30:44.397Z"
      },
      {
        "duration": 7,
        "start_time": "2022-06-09T08:30:44.631Z"
      },
      {
        "duration": 42,
        "start_time": "2022-06-09T08:30:44.639Z"
      },
      {
        "duration": 13,
        "start_time": "2022-06-09T08:30:44.683Z"
      },
      {
        "duration": 30,
        "start_time": "2022-06-09T08:30:44.697Z"
      },
      {
        "duration": 43,
        "start_time": "2022-06-09T08:30:44.728Z"
      },
      {
        "duration": 19,
        "start_time": "2022-06-09T08:30:44.773Z"
      },
      {
        "duration": 12,
        "start_time": "2022-06-09T08:30:44.794Z"
      },
      {
        "duration": 20,
        "start_time": "2022-06-09T08:30:44.808Z"
      },
      {
        "duration": 8,
        "start_time": "2022-06-09T08:30:44.830Z"
      },
      {
        "duration": 14,
        "start_time": "2022-06-09T08:30:44.840Z"
      },
      {
        "duration": 9,
        "start_time": "2022-06-09T08:30:44.856Z"
      },
      {
        "duration": 22,
        "start_time": "2022-06-09T08:30:44.867Z"
      },
      {
        "duration": 33,
        "start_time": "2022-06-09T08:30:44.891Z"
      },
      {
        "duration": 14,
        "start_time": "2022-06-09T08:30:44.926Z"
      },
      {
        "duration": 60,
        "start_time": "2022-06-09T08:30:44.941Z"
      },
      {
        "duration": 40,
        "start_time": "2022-06-09T08:30:45.003Z"
      },
      {
        "duration": 26,
        "start_time": "2022-06-09T08:30:45.046Z"
      },
      {
        "duration": 7,
        "start_time": "2022-06-09T08:30:45.075Z"
      },
      {
        "duration": 169,
        "start_time": "2022-06-09T08:30:45.085Z"
      },
      {
        "duration": 19,
        "start_time": "2022-06-09T08:30:45.256Z"
      },
      {
        "duration": 12,
        "start_time": "2022-06-09T08:30:45.277Z"
      },
      {
        "duration": 369,
        "start_time": "2022-06-09T08:30:45.291Z"
      },
      {
        "duration": 24,
        "start_time": "2022-06-09T08:30:45.662Z"
      },
      {
        "duration": 12,
        "start_time": "2022-06-09T08:30:45.689Z"
      },
      {
        "duration": 11,
        "start_time": "2022-06-09T08:30:45.724Z"
      },
      {
        "duration": 8,
        "start_time": "2022-06-09T08:30:45.737Z"
      },
      {
        "duration": 6,
        "start_time": "2022-06-09T08:30:45.747Z"
      },
      {
        "duration": 5,
        "start_time": "2022-06-09T08:30:45.755Z"
      },
      {
        "duration": 75,
        "start_time": "2022-06-09T08:30:45.762Z"
      },
      {
        "duration": 4,
        "start_time": "2022-06-09T08:30:45.839Z"
      },
      {
        "duration": 7,
        "start_time": "2022-06-09T08:30:45.844Z"
      },
      {
        "duration": 177,
        "start_time": "2022-06-09T08:44:18.888Z"
      },
      {
        "duration": 123,
        "start_time": "2022-06-09T08:44:36.882Z"
      },
      {
        "duration": 127,
        "start_time": "2022-06-09T08:45:21.924Z"
      },
      {
        "duration": 16,
        "start_time": "2022-06-09T08:45:44.624Z"
      },
      {
        "duration": 17,
        "start_time": "2022-06-09T08:45:56.026Z"
      },
      {
        "duration": 223,
        "start_time": "2022-06-09T09:03:34.219Z"
      },
      {
        "duration": 128,
        "start_time": "2022-06-09T09:04:09.158Z"
      },
      {
        "duration": 130,
        "start_time": "2022-06-09T09:04:30.996Z"
      },
      {
        "duration": 130,
        "start_time": "2022-06-09T09:04:50.359Z"
      },
      {
        "duration": 7,
        "start_time": "2022-06-09T09:07:44.404Z"
      },
      {
        "duration": 68,
        "start_time": "2022-06-09T09:10:22.690Z"
      },
      {
        "duration": 40,
        "start_time": "2022-06-09T09:10:54.461Z"
      },
      {
        "duration": 30,
        "start_time": "2022-06-09T09:11:04.002Z"
      },
      {
        "duration": 4,
        "start_time": "2022-06-09T09:11:12.317Z"
      },
      {
        "duration": 658,
        "start_time": "2022-06-09T09:11:12.335Z"
      },
      {
        "duration": 84,
        "start_time": "2022-06-09T09:11:12.995Z"
      },
      {
        "duration": 27,
        "start_time": "2022-06-09T09:11:13.080Z"
      },
      {
        "duration": 23,
        "start_time": "2022-06-09T09:11:13.109Z"
      },
      {
        "duration": 4,
        "start_time": "2022-06-09T09:11:13.134Z"
      },
      {
        "duration": 95,
        "start_time": "2022-06-09T09:11:13.140Z"
      },
      {
        "duration": 22,
        "start_time": "2022-06-09T09:11:13.238Z"
      },
      {
        "duration": 67,
        "start_time": "2022-06-09T09:11:13.263Z"
      },
      {
        "duration": 254,
        "start_time": "2022-06-09T09:11:13.333Z"
      },
      {
        "duration": 7,
        "start_time": "2022-06-09T09:11:13.590Z"
      },
      {
        "duration": 67,
        "start_time": "2022-06-09T09:11:13.598Z"
      },
      {
        "duration": 12,
        "start_time": "2022-06-09T09:11:13.667Z"
      },
      {
        "duration": 12,
        "start_time": "2022-06-09T09:11:13.680Z"
      },
      {
        "duration": 56,
        "start_time": "2022-06-09T09:11:13.694Z"
      },
      {
        "duration": 20,
        "start_time": "2022-06-09T09:11:13.751Z"
      },
      {
        "duration": 21,
        "start_time": "2022-06-09T09:11:13.773Z"
      },
      {
        "duration": 25,
        "start_time": "2022-06-09T09:11:13.796Z"
      },
      {
        "duration": 5,
        "start_time": "2022-06-09T09:11:13.823Z"
      },
      {
        "duration": 11,
        "start_time": "2022-06-09T09:11:13.830Z"
      },
      {
        "duration": 17,
        "start_time": "2022-06-09T09:11:13.843Z"
      },
      {
        "duration": 35,
        "start_time": "2022-06-09T09:11:13.861Z"
      },
      {
        "duration": 9,
        "start_time": "2022-06-09T09:11:13.898Z"
      },
      {
        "duration": 25,
        "start_time": "2022-06-09T09:11:13.909Z"
      },
      {
        "duration": 41,
        "start_time": "2022-06-09T09:11:13.936Z"
      },
      {
        "duration": 30,
        "start_time": "2022-06-09T09:11:13.979Z"
      },
      {
        "duration": 67,
        "start_time": "2022-06-09T09:11:14.011Z"
      },
      {
        "duration": 7,
        "start_time": "2022-06-09T09:11:14.080Z"
      },
      {
        "duration": 255,
        "start_time": "2022-06-09T09:11:14.091Z"
      },
      {
        "duration": 26,
        "start_time": "2022-06-09T09:11:14.347Z"
      },
      {
        "duration": 244,
        "start_time": "2022-06-09T09:11:14.374Z"
      },
      {
        "duration": 105,
        "start_time": "2022-06-09T09:11:14.622Z"
      },
      {
        "duration": 10,
        "start_time": "2022-06-09T09:11:14.728Z"
      },
      {
        "duration": 460,
        "start_time": "2022-06-09T09:11:14.739Z"
      },
      {
        "duration": 157,
        "start_time": "2022-06-09T09:11:15.200Z"
      },
      {
        "duration": 11,
        "start_time": "2022-06-09T09:11:15.358Z"
      },
      {
        "duration": 25,
        "start_time": "2022-06-09T09:11:15.371Z"
      },
      {
        "duration": 31,
        "start_time": "2022-06-09T09:11:15.398Z"
      },
      {
        "duration": 7,
        "start_time": "2022-06-09T09:11:15.430Z"
      },
      {
        "duration": 7,
        "start_time": "2022-06-09T09:11:15.439Z"
      },
      {
        "duration": 142,
        "start_time": "2022-06-09T09:11:15.448Z"
      },
      {
        "duration": 3,
        "start_time": "2022-06-09T09:11:15.592Z"
      },
      {
        "duration": 13,
        "start_time": "2022-06-09T09:11:15.597Z"
      },
      {
        "duration": 4,
        "start_time": "2022-06-09T09:12:04.451Z"
      },
      {
        "duration": 590,
        "start_time": "2022-06-09T09:12:04.462Z"
      },
      {
        "duration": 90,
        "start_time": "2022-06-09T09:12:05.054Z"
      },
      {
        "duration": 32,
        "start_time": "2022-06-09T09:12:05.146Z"
      },
      {
        "duration": 13,
        "start_time": "2022-06-09T09:12:05.180Z"
      },
      {
        "duration": 4,
        "start_time": "2022-06-09T09:12:05.195Z"
      },
      {
        "duration": 102,
        "start_time": "2022-06-09T09:12:05.201Z"
      },
      {
        "duration": 17,
        "start_time": "2022-06-09T09:12:05.306Z"
      },
      {
        "duration": 41,
        "start_time": "2022-06-09T09:12:05.325Z"
      },
      {
        "duration": 234,
        "start_time": "2022-06-09T09:12:05.368Z"
      },
      {
        "duration": 20,
        "start_time": "2022-06-09T09:12:05.605Z"
      },
      {
        "duration": 44,
        "start_time": "2022-06-09T09:12:05.627Z"
      },
      {
        "duration": 12,
        "start_time": "2022-06-09T09:12:05.673Z"
      },
      {
        "duration": 9,
        "start_time": "2022-06-09T09:12:05.686Z"
      },
      {
        "duration": 54,
        "start_time": "2022-06-09T09:12:05.696Z"
      },
      {
        "duration": 19,
        "start_time": "2022-06-09T09:12:05.752Z"
      },
      {
        "duration": 14,
        "start_time": "2022-06-09T09:12:05.773Z"
      },
      {
        "duration": 44,
        "start_time": "2022-06-09T09:12:05.788Z"
      },
      {
        "duration": 5,
        "start_time": "2022-06-09T09:12:05.833Z"
      },
      {
        "duration": 10,
        "start_time": "2022-06-09T09:12:05.840Z"
      },
      {
        "duration": 12,
        "start_time": "2022-06-09T09:12:05.852Z"
      },
      {
        "duration": 27,
        "start_time": "2022-06-09T09:12:05.865Z"
      },
      {
        "duration": 33,
        "start_time": "2022-06-09T09:12:05.894Z"
      },
      {
        "duration": 14,
        "start_time": "2022-06-09T09:12:05.928Z"
      },
      {
        "duration": 62,
        "start_time": "2022-06-09T09:12:05.943Z"
      },
      {
        "duration": 26,
        "start_time": "2022-06-09T09:12:06.007Z"
      },
      {
        "duration": 30,
        "start_time": "2022-06-09T09:12:06.034Z"
      },
      {
        "duration": 5,
        "start_time": "2022-06-09T09:12:06.066Z"
      },
      {
        "duration": 153,
        "start_time": "2022-06-09T09:12:06.074Z"
      },
      {
        "duration": 6,
        "start_time": "2022-06-09T09:12:06.229Z"
      },
      {
        "duration": 158,
        "start_time": "2022-06-09T09:12:06.237Z"
      },
      {
        "duration": 27,
        "start_time": "2022-06-09T09:12:06.397Z"
      },
      {
        "duration": 9,
        "start_time": "2022-06-09T09:12:06.426Z"
      },
      {
        "duration": 349,
        "start_time": "2022-06-09T09:12:06.436Z"
      },
      {
        "duration": 47,
        "start_time": "2022-06-09T09:12:06.787Z"
      },
      {
        "duration": 13,
        "start_time": "2022-06-09T09:12:06.837Z"
      },
      {
        "duration": 13,
        "start_time": "2022-06-09T09:12:06.851Z"
      },
      {
        "duration": 7,
        "start_time": "2022-06-09T09:12:06.866Z"
      },
      {
        "duration": 11,
        "start_time": "2022-06-09T09:12:06.875Z"
      },
      {
        "duration": 38,
        "start_time": "2022-06-09T09:12:06.888Z"
      },
      {
        "duration": 68,
        "start_time": "2022-06-09T09:12:06.928Z"
      },
      {
        "duration": 3,
        "start_time": "2022-06-09T09:12:06.998Z"
      },
      {
        "duration": 19,
        "start_time": "2022-06-09T09:12:07.003Z"
      },
      {
        "duration": 10,
        "start_time": "2022-06-09T09:16:03.156Z"
      },
      {
        "duration": 4,
        "start_time": "2022-06-09T09:16:20.628Z"
      },
      {
        "duration": 584,
        "start_time": "2022-06-09T09:16:20.645Z"
      },
      {
        "duration": 100,
        "start_time": "2022-06-09T09:16:21.231Z"
      },
      {
        "duration": 27,
        "start_time": "2022-06-09T09:16:21.333Z"
      },
      {
        "duration": 13,
        "start_time": "2022-06-09T09:16:21.362Z"
      },
      {
        "duration": 6,
        "start_time": "2022-06-09T09:16:21.377Z"
      },
      {
        "duration": 107,
        "start_time": "2022-06-09T09:16:21.384Z"
      },
      {
        "duration": 32,
        "start_time": "2022-06-09T09:16:21.493Z"
      },
      {
        "duration": 41,
        "start_time": "2022-06-09T09:16:21.527Z"
      },
      {
        "duration": 246,
        "start_time": "2022-06-09T09:16:21.570Z"
      },
      {
        "duration": 7,
        "start_time": "2022-06-09T09:16:21.824Z"
      },
      {
        "duration": 40,
        "start_time": "2022-06-09T09:16:21.833Z"
      },
      {
        "duration": 14,
        "start_time": "2022-06-09T09:16:21.875Z"
      },
      {
        "duration": 8,
        "start_time": "2022-06-09T09:16:21.922Z"
      },
      {
        "duration": 39,
        "start_time": "2022-06-09T09:16:21.932Z"
      },
      {
        "duration": 31,
        "start_time": "2022-06-09T09:16:21.972Z"
      },
      {
        "duration": 20,
        "start_time": "2022-06-09T09:16:22.005Z"
      },
      {
        "duration": 18,
        "start_time": "2022-06-09T09:16:22.027Z"
      },
      {
        "duration": 5,
        "start_time": "2022-06-09T09:16:22.047Z"
      },
      {
        "duration": 11,
        "start_time": "2022-06-09T09:16:22.054Z"
      },
      {
        "duration": 6,
        "start_time": "2022-06-09T09:16:22.067Z"
      },
      {
        "duration": 69,
        "start_time": "2022-06-09T09:16:22.075Z"
      },
      {
        "duration": 16,
        "start_time": "2022-06-09T09:16:22.147Z"
      },
      {
        "duration": 14,
        "start_time": "2022-06-09T09:16:22.165Z"
      },
      {
        "duration": 20,
        "start_time": "2022-06-09T09:16:22.180Z"
      },
      {
        "duration": 65,
        "start_time": "2022-06-09T09:16:22.202Z"
      },
      {
        "duration": 17,
        "start_time": "2022-06-09T09:16:22.269Z"
      },
      {
        "duration": 36,
        "start_time": "2022-06-09T09:16:22.288Z"
      },
      {
        "duration": 7,
        "start_time": "2022-06-09T09:16:22.328Z"
      },
      {
        "duration": 142,
        "start_time": "2022-06-09T09:16:22.336Z"
      },
      {
        "duration": 7,
        "start_time": "2022-06-09T09:16:22.480Z"
      },
      {
        "duration": 215,
        "start_time": "2022-06-09T09:16:22.489Z"
      },
      {
        "duration": 36,
        "start_time": "2022-06-09T09:16:22.706Z"
      },
      {
        "duration": 14,
        "start_time": "2022-06-09T09:16:22.745Z"
      },
      {
        "duration": 549,
        "start_time": "2022-06-09T09:16:22.762Z"
      },
      {
        "duration": 32,
        "start_time": "2022-06-09T09:16:23.313Z"
      },
      {
        "duration": 12,
        "start_time": "2022-06-09T09:16:23.347Z"
      },
      {
        "duration": 13,
        "start_time": "2022-06-09T09:16:23.361Z"
      },
      {
        "duration": 8,
        "start_time": "2022-06-09T09:16:23.376Z"
      },
      {
        "duration": 40,
        "start_time": "2022-06-09T09:16:23.386Z"
      },
      {
        "duration": 22,
        "start_time": "2022-06-09T09:16:23.428Z"
      },
      {
        "duration": 69,
        "start_time": "2022-06-09T09:16:23.452Z"
      },
      {
        "duration": 4,
        "start_time": "2022-06-09T09:16:23.522Z"
      },
      {
        "duration": 18,
        "start_time": "2022-06-09T09:16:23.527Z"
      },
      {
        "duration": 28,
        "start_time": "2022-06-09T09:18:13.997Z"
      },
      {
        "duration": 4,
        "start_time": "2022-06-09T09:19:11.665Z"
      },
      {
        "duration": 542,
        "start_time": "2022-06-09T09:19:11.684Z"
      },
      {
        "duration": 74,
        "start_time": "2022-06-09T09:19:12.228Z"
      },
      {
        "duration": 50,
        "start_time": "2022-06-09T09:19:12.304Z"
      },
      {
        "duration": 14,
        "start_time": "2022-06-09T09:19:12.356Z"
      },
      {
        "duration": 9,
        "start_time": "2022-06-09T09:19:12.371Z"
      },
      {
        "duration": 90,
        "start_time": "2022-06-09T09:19:12.381Z"
      },
      {
        "duration": 11,
        "start_time": "2022-06-09T09:19:12.472Z"
      },
      {
        "duration": 48,
        "start_time": "2022-06-09T09:19:12.485Z"
      },
      {
        "duration": 250,
        "start_time": "2022-06-09T09:19:12.535Z"
      },
      {
        "duration": 9,
        "start_time": "2022-06-09T09:19:12.790Z"
      },
      {
        "duration": 62,
        "start_time": "2022-06-09T09:19:12.800Z"
      },
      {
        "duration": 13,
        "start_time": "2022-06-09T09:19:12.864Z"
      },
      {
        "duration": 8,
        "start_time": "2022-06-09T09:19:12.878Z"
      },
      {
        "duration": 52,
        "start_time": "2022-06-09T09:19:12.888Z"
      },
      {
        "duration": 19,
        "start_time": "2022-06-09T09:19:12.942Z"
      },
      {
        "duration": 12,
        "start_time": "2022-06-09T09:19:12.962Z"
      },
      {
        "duration": 48,
        "start_time": "2022-06-09T09:19:12.976Z"
      },
      {
        "duration": 39,
        "start_time": "2022-06-09T09:19:13.026Z"
      },
      {
        "duration": 15,
        "start_time": "2022-06-09T09:19:13.066Z"
      },
      {
        "duration": 11,
        "start_time": "2022-06-09T09:19:13.083Z"
      },
      {
        "duration": 25,
        "start_time": "2022-06-09T09:19:13.095Z"
      },
      {
        "duration": 9,
        "start_time": "2022-06-09T09:19:13.122Z"
      },
      {
        "duration": 17,
        "start_time": "2022-06-09T09:19:13.132Z"
      },
      {
        "duration": 12,
        "start_time": "2022-06-09T09:19:13.151Z"
      },
      {
        "duration": 29,
        "start_time": "2022-06-09T09:19:13.165Z"
      },
      {
        "duration": 36,
        "start_time": "2022-06-09T09:19:13.196Z"
      },
      {
        "duration": 16,
        "start_time": "2022-06-09T09:19:13.233Z"
      },
      {
        "duration": 8,
        "start_time": "2022-06-09T09:19:13.253Z"
      },
      {
        "duration": 163,
        "start_time": "2022-06-09T09:19:13.263Z"
      },
      {
        "duration": 6,
        "start_time": "2022-06-09T09:19:13.428Z"
      },
      {
        "duration": 149,
        "start_time": "2022-06-09T09:19:13.436Z"
      },
      {
        "duration": 20,
        "start_time": "2022-06-09T09:19:13.586Z"
      },
      {
        "duration": 21,
        "start_time": "2022-06-09T09:19:13.608Z"
      },
      {
        "duration": 345,
        "start_time": "2022-06-09T09:19:13.630Z"
      },
      {
        "duration": 24,
        "start_time": "2022-06-09T09:19:13.977Z"
      },
      {
        "duration": 26,
        "start_time": "2022-06-09T09:19:14.002Z"
      },
      {
        "duration": 12,
        "start_time": "2022-06-09T09:19:14.029Z"
      },
      {
        "duration": 9,
        "start_time": "2022-06-09T09:19:14.042Z"
      },
      {
        "duration": 6,
        "start_time": "2022-06-09T09:19:14.053Z"
      },
      {
        "duration": 7,
        "start_time": "2022-06-09T09:19:14.061Z"
      },
      {
        "duration": 77,
        "start_time": "2022-06-09T09:19:14.070Z"
      },
      {
        "duration": 4,
        "start_time": "2022-06-09T09:19:14.148Z"
      },
      {
        "duration": 6,
        "start_time": "2022-06-09T09:19:14.154Z"
      },
      {
        "duration": 25,
        "start_time": "2022-06-09T09:20:47.172Z"
      },
      {
        "duration": 4,
        "start_time": "2022-06-09T09:20:53.989Z"
      },
      {
        "duration": 542,
        "start_time": "2022-06-09T09:20:54.024Z"
      },
      {
        "duration": 88,
        "start_time": "2022-06-09T09:20:54.568Z"
      },
      {
        "duration": 26,
        "start_time": "2022-06-09T09:20:54.658Z"
      },
      {
        "duration": 12,
        "start_time": "2022-06-09T09:20:54.686Z"
      },
      {
        "duration": 27,
        "start_time": "2022-06-09T09:20:54.701Z"
      },
      {
        "duration": 103,
        "start_time": "2022-06-09T09:20:54.731Z"
      },
      {
        "duration": 11,
        "start_time": "2022-06-09T09:20:54.836Z"
      },
      {
        "duration": 38,
        "start_time": "2022-06-09T09:20:54.849Z"
      },
      {
        "duration": 216,
        "start_time": "2022-06-09T09:20:54.889Z"
      },
      {
        "duration": 19,
        "start_time": "2022-06-09T09:20:55.108Z"
      },
      {
        "duration": 39,
        "start_time": "2022-06-09T09:20:55.129Z"
      },
      {
        "duration": 14,
        "start_time": "2022-06-09T09:20:55.170Z"
      },
      {
        "duration": 8,
        "start_time": "2022-06-09T09:20:55.185Z"
      },
      {
        "duration": 51,
        "start_time": "2022-06-09T09:20:55.195Z"
      },
      {
        "duration": 20,
        "start_time": "2022-06-09T09:20:55.259Z"
      },
      {
        "duration": 12,
        "start_time": "2022-06-09T09:20:55.281Z"
      },
      {
        "duration": 34,
        "start_time": "2022-06-09T09:20:55.294Z"
      },
      {
        "duration": 6,
        "start_time": "2022-06-09T09:20:55.329Z"
      },
      {
        "duration": 13,
        "start_time": "2022-06-09T09:20:55.336Z"
      },
      {
        "duration": 6,
        "start_time": "2022-06-09T09:20:55.350Z"
      },
      {
        "duration": 21,
        "start_time": "2022-06-09T09:20:55.358Z"
      },
      {
        "duration": 43,
        "start_time": "2022-06-09T09:20:55.381Z"
      },
      {
        "duration": 15,
        "start_time": "2022-06-09T09:20:55.426Z"
      },
      {
        "duration": 12,
        "start_time": "2022-06-09T09:20:55.443Z"
      },
      {
        "duration": 27,
        "start_time": "2022-06-09T09:20:55.457Z"
      },
      {
        "duration": 43,
        "start_time": "2022-06-09T09:20:55.486Z"
      },
      {
        "duration": 17,
        "start_time": "2022-06-09T09:20:55.531Z"
      },
      {
        "duration": 7,
        "start_time": "2022-06-09T09:20:55.551Z"
      },
      {
        "duration": 163,
        "start_time": "2022-06-09T09:20:55.560Z"
      },
      {
        "duration": 7,
        "start_time": "2022-06-09T09:20:55.725Z"
      },
      {
        "duration": 159,
        "start_time": "2022-06-09T09:20:55.734Z"
      },
      {
        "duration": 30,
        "start_time": "2022-06-09T09:20:55.894Z"
      },
      {
        "duration": 12,
        "start_time": "2022-06-09T09:20:55.926Z"
      },
      {
        "duration": 364,
        "start_time": "2022-06-09T09:20:55.941Z"
      },
      {
        "duration": 30,
        "start_time": "2022-06-09T09:20:56.307Z"
      },
      {
        "duration": 11,
        "start_time": "2022-06-09T09:20:56.339Z"
      },
      {
        "duration": 14,
        "start_time": "2022-06-09T09:20:56.352Z"
      },
      {
        "duration": 9,
        "start_time": "2022-06-09T09:20:56.368Z"
      },
      {
        "duration": 7,
        "start_time": "2022-06-09T09:20:56.378Z"
      },
      {
        "duration": 38,
        "start_time": "2022-06-09T09:20:56.387Z"
      },
      {
        "duration": 57,
        "start_time": "2022-06-09T09:20:56.427Z"
      },
      {
        "duration": 4,
        "start_time": "2022-06-09T09:20:56.486Z"
      },
      {
        "duration": 8,
        "start_time": "2022-06-09T09:20:56.492Z"
      },
      {
        "duration": 3,
        "start_time": "2022-06-09T09:22:05.427Z"
      },
      {
        "duration": 633,
        "start_time": "2022-06-09T09:22:05.457Z"
      },
      {
        "duration": 100,
        "start_time": "2022-06-09T09:22:06.092Z"
      },
      {
        "duration": 41,
        "start_time": "2022-06-09T09:22:06.194Z"
      },
      {
        "duration": 18,
        "start_time": "2022-06-09T09:22:06.238Z"
      },
      {
        "duration": 14,
        "start_time": "2022-06-09T09:22:06.259Z"
      },
      {
        "duration": 127,
        "start_time": "2022-06-09T09:22:06.276Z"
      },
      {
        "duration": 20,
        "start_time": "2022-06-09T09:22:06.405Z"
      },
      {
        "duration": 67,
        "start_time": "2022-06-09T09:22:06.427Z"
      },
      {
        "duration": 240,
        "start_time": "2022-06-09T09:22:06.497Z"
      },
      {
        "duration": 7,
        "start_time": "2022-06-09T09:22:06.740Z"
      },
      {
        "duration": 43,
        "start_time": "2022-06-09T09:22:06.749Z"
      },
      {
        "duration": 29,
        "start_time": "2022-06-09T09:22:06.794Z"
      },
      {
        "duration": 7,
        "start_time": "2022-06-09T09:22:06.824Z"
      },
      {
        "duration": 29,
        "start_time": "2022-06-09T09:22:06.833Z"
      },
      {
        "duration": 18,
        "start_time": "2022-06-09T09:22:06.864Z"
      },
      {
        "duration": 13,
        "start_time": "2022-06-09T09:22:06.884Z"
      },
      {
        "duration": 38,
        "start_time": "2022-06-09T09:22:06.898Z"
      },
      {
        "duration": 8,
        "start_time": "2022-06-09T09:22:06.938Z"
      },
      {
        "duration": 10,
        "start_time": "2022-06-09T09:22:06.948Z"
      },
      {
        "duration": 4,
        "start_time": "2022-06-09T09:22:06.960Z"
      },
      {
        "duration": 59,
        "start_time": "2022-06-09T09:22:06.965Z"
      },
      {
        "duration": 10,
        "start_time": "2022-06-09T09:22:07.026Z"
      },
      {
        "duration": 28,
        "start_time": "2022-06-09T09:22:07.038Z"
      },
      {
        "duration": 34,
        "start_time": "2022-06-09T09:22:07.068Z"
      },
      {
        "duration": 30,
        "start_time": "2022-06-09T09:22:07.104Z"
      },
      {
        "duration": 16,
        "start_time": "2022-06-09T09:22:07.136Z"
      },
      {
        "duration": 14,
        "start_time": "2022-06-09T09:22:07.154Z"
      },
      {
        "duration": 7,
        "start_time": "2022-06-09T09:22:07.172Z"
      },
      {
        "duration": 186,
        "start_time": "2022-06-09T09:22:07.181Z"
      },
      {
        "duration": 8,
        "start_time": "2022-06-09T09:22:07.368Z"
      },
      {
        "duration": 196,
        "start_time": "2022-06-09T09:22:07.378Z"
      },
      {
        "duration": 18,
        "start_time": "2022-06-09T09:22:07.575Z"
      },
      {
        "duration": 32,
        "start_time": "2022-06-09T09:22:07.595Z"
      },
      {
        "duration": 404,
        "start_time": "2022-06-09T09:22:07.629Z"
      },
      {
        "duration": 45,
        "start_time": "2022-06-09T09:22:08.035Z"
      },
      {
        "duration": 170,
        "start_time": "2022-06-09T09:22:08.082Z"
      },
      {
        "duration": 16,
        "start_time": "2022-06-09T09:22:08.255Z"
      },
      {
        "duration": 9,
        "start_time": "2022-06-09T09:22:08.274Z"
      },
      {
        "duration": 38,
        "start_time": "2022-06-09T09:22:08.285Z"
      },
      {
        "duration": 6,
        "start_time": "2022-06-09T09:22:08.326Z"
      },
      {
        "duration": 59,
        "start_time": "2022-06-09T09:22:08.334Z"
      },
      {
        "duration": 4,
        "start_time": "2022-06-09T09:22:08.395Z"
      },
      {
        "duration": 58,
        "start_time": "2022-06-09T09:22:08.400Z"
      },
      {
        "duration": 22,
        "start_time": "2022-06-09T09:23:49.846Z"
      },
      {
        "duration": 14,
        "start_time": "2022-06-09T09:24:46.778Z"
      },
      {
        "duration": 46,
        "start_time": "2022-06-09T09:25:29.879Z"
      },
      {
        "duration": 4,
        "start_time": "2022-06-09T09:26:03.712Z"
      },
      {
        "duration": 559,
        "start_time": "2022-06-09T09:26:03.727Z"
      },
      {
        "duration": 83,
        "start_time": "2022-06-09T09:26:04.288Z"
      },
      {
        "duration": 27,
        "start_time": "2022-06-09T09:26:04.373Z"
      },
      {
        "duration": 24,
        "start_time": "2022-06-09T09:26:04.401Z"
      },
      {
        "duration": 10,
        "start_time": "2022-06-09T09:26:04.427Z"
      },
      {
        "duration": 83,
        "start_time": "2022-06-09T09:26:04.438Z"
      },
      {
        "duration": 12,
        "start_time": "2022-06-09T09:26:04.523Z"
      },
      {
        "duration": 45,
        "start_time": "2022-06-09T09:26:04.537Z"
      },
      {
        "duration": 224,
        "start_time": "2022-06-09T09:26:04.584Z"
      },
      {
        "duration": 14,
        "start_time": "2022-06-09T09:26:04.812Z"
      },
      {
        "duration": 39,
        "start_time": "2022-06-09T09:26:04.827Z"
      },
      {
        "duration": 13,
        "start_time": "2022-06-09T09:26:04.868Z"
      },
      {
        "duration": 6,
        "start_time": "2022-06-09T09:26:04.883Z"
      },
      {
        "duration": 49,
        "start_time": "2022-06-09T09:26:04.890Z"
      },
      {
        "duration": 19,
        "start_time": "2022-06-09T09:26:04.940Z"
      },
      {
        "duration": 18,
        "start_time": "2022-06-09T09:26:04.960Z"
      },
      {
        "duration": 43,
        "start_time": "2022-06-09T09:26:04.980Z"
      },
      {
        "duration": 9,
        "start_time": "2022-06-09T09:26:05.026Z"
      },
      {
        "duration": 11,
        "start_time": "2022-06-09T09:26:05.037Z"
      },
      {
        "duration": 5,
        "start_time": "2022-06-09T09:26:05.050Z"
      },
      {
        "duration": 25,
        "start_time": "2022-06-09T09:26:05.057Z"
      },
      {
        "duration": 10,
        "start_time": "2022-06-09T09:26:05.084Z"
      },
      {
        "duration": 59,
        "start_time": "2022-06-09T09:26:05.095Z"
      },
      {
        "duration": 12,
        "start_time": "2022-06-09T09:26:05.155Z"
      },
      {
        "duration": 56,
        "start_time": "2022-06-09T09:26:05.169Z"
      },
      {
        "duration": 16,
        "start_time": "2022-06-09T09:26:05.227Z"
      },
      {
        "duration": 19,
        "start_time": "2022-06-09T09:26:05.245Z"
      },
      {
        "duration": 5,
        "start_time": "2022-06-09T09:26:05.268Z"
      },
      {
        "duration": 151,
        "start_time": "2022-06-09T09:26:05.275Z"
      },
      {
        "duration": 8,
        "start_time": "2022-06-09T09:26:05.428Z"
      },
      {
        "duration": 153,
        "start_time": "2022-06-09T09:26:05.437Z"
      },
      {
        "duration": 19,
        "start_time": "2022-06-09T09:26:05.592Z"
      },
      {
        "duration": 11,
        "start_time": "2022-06-09T09:26:05.622Z"
      },
      {
        "duration": 384,
        "start_time": "2022-06-09T09:26:05.634Z"
      },
      {
        "duration": 25,
        "start_time": "2022-06-09T09:26:06.020Z"
      },
      {
        "duration": 11,
        "start_time": "2022-06-09T09:26:06.046Z"
      },
      {
        "duration": 12,
        "start_time": "2022-06-09T09:26:06.059Z"
      },
      {
        "duration": 7,
        "start_time": "2022-06-09T09:26:06.073Z"
      },
      {
        "duration": 41,
        "start_time": "2022-06-09T09:26:06.082Z"
      },
      {
        "duration": 5,
        "start_time": "2022-06-09T09:26:06.125Z"
      },
      {
        "duration": 55,
        "start_time": "2022-06-09T09:26:06.131Z"
      },
      {
        "duration": 4,
        "start_time": "2022-06-09T09:26:06.187Z"
      },
      {
        "duration": 32,
        "start_time": "2022-06-09T09:26:06.192Z"
      },
      {
        "duration": 46,
        "start_time": "2022-06-09T09:29:38.371Z"
      },
      {
        "duration": 43,
        "start_time": "2022-06-09T09:29:45.119Z"
      },
      {
        "duration": 46,
        "start_time": "2022-06-09T09:29:54.195Z"
      },
      {
        "duration": 40,
        "start_time": "2022-06-09T09:30:14.620Z"
      },
      {
        "duration": 39,
        "start_time": "2022-06-09T09:30:29.552Z"
      },
      {
        "duration": 387,
        "start_time": "2022-06-09T09:32:48.828Z"
      },
      {
        "duration": 134,
        "start_time": "2022-06-09T09:33:58.394Z"
      },
      {
        "duration": 4,
        "start_time": "2022-06-09T09:34:05.714Z"
      },
      {
        "duration": 569,
        "start_time": "2022-06-09T09:34:05.731Z"
      },
      {
        "duration": 89,
        "start_time": "2022-06-09T09:34:06.302Z"
      },
      {
        "duration": 31,
        "start_time": "2022-06-09T09:34:06.393Z"
      },
      {
        "duration": 12,
        "start_time": "2022-06-09T09:34:06.426Z"
      },
      {
        "duration": 5,
        "start_time": "2022-06-09T09:34:06.440Z"
      },
      {
        "duration": 118,
        "start_time": "2022-06-09T09:34:06.447Z"
      },
      {
        "duration": 12,
        "start_time": "2022-06-09T09:34:06.567Z"
      },
      {
        "duration": 50,
        "start_time": "2022-06-09T09:34:06.581Z"
      },
      {
        "duration": 240,
        "start_time": "2022-06-09T09:34:06.633Z"
      },
      {
        "duration": 6,
        "start_time": "2022-06-09T09:34:06.876Z"
      },
      {
        "duration": 58,
        "start_time": "2022-06-09T09:34:06.885Z"
      },
      {
        "duration": 15,
        "start_time": "2022-06-09T09:34:06.945Z"
      },
      {
        "duration": 7,
        "start_time": "2022-06-09T09:34:06.962Z"
      },
      {
        "duration": 53,
        "start_time": "2022-06-09T09:34:06.971Z"
      },
      {
        "duration": 20,
        "start_time": "2022-06-09T09:34:07.026Z"
      },
      {
        "duration": 13,
        "start_time": "2022-06-09T09:34:07.047Z"
      },
      {
        "duration": 13,
        "start_time": "2022-06-09T09:34:07.061Z"
      },
      {
        "duration": 8,
        "start_time": "2022-06-09T09:34:07.076Z"
      },
      {
        "duration": 38,
        "start_time": "2022-06-09T09:34:07.086Z"
      },
      {
        "duration": 4,
        "start_time": "2022-06-09T09:34:07.126Z"
      },
      {
        "duration": 25,
        "start_time": "2022-06-09T09:34:07.131Z"
      },
      {
        "duration": 8,
        "start_time": "2022-06-09T09:34:07.158Z"
      },
      {
        "duration": 173,
        "start_time": "2022-06-09T09:34:07.167Z"
      },
      {
        "duration": 10,
        "start_time": "2022-06-09T09:34:07.342Z"
      },
      {
        "duration": 13,
        "start_time": "2022-06-09T09:34:07.354Z"
      },
      {
        "duration": 62,
        "start_time": "2022-06-09T09:34:07.368Z"
      },
      {
        "duration": 15,
        "start_time": "2022-06-09T09:34:07.432Z"
      },
      {
        "duration": 16,
        "start_time": "2022-06-09T09:34:07.450Z"
      },
      {
        "duration": 7,
        "start_time": "2022-06-09T09:34:07.467Z"
      },
      {
        "duration": 164,
        "start_time": "2022-06-09T09:34:07.475Z"
      },
      {
        "duration": 7,
        "start_time": "2022-06-09T09:34:07.641Z"
      },
      {
        "duration": 166,
        "start_time": "2022-06-09T09:34:07.650Z"
      },
      {
        "duration": 23,
        "start_time": "2022-06-09T09:34:07.818Z"
      },
      {
        "duration": 11,
        "start_time": "2022-06-09T09:34:07.843Z"
      },
      {
        "duration": 453,
        "start_time": "2022-06-09T09:34:07.856Z"
      },
      {
        "duration": 33,
        "start_time": "2022-06-09T09:34:08.311Z"
      },
      {
        "duration": 14,
        "start_time": "2022-06-09T09:34:08.346Z"
      },
      {
        "duration": 18,
        "start_time": "2022-06-09T09:34:08.362Z"
      },
      {
        "duration": 43,
        "start_time": "2022-06-09T09:34:08.382Z"
      },
      {
        "duration": 8,
        "start_time": "2022-06-09T09:34:08.427Z"
      },
      {
        "duration": 14,
        "start_time": "2022-06-09T09:34:08.437Z"
      },
      {
        "duration": 70,
        "start_time": "2022-06-09T09:34:08.453Z"
      },
      {
        "duration": 5,
        "start_time": "2022-06-09T09:34:08.526Z"
      },
      {
        "duration": 10,
        "start_time": "2022-06-09T09:34:08.534Z"
      },
      {
        "duration": 146,
        "start_time": "2022-06-09T09:35:00.955Z"
      },
      {
        "duration": 133,
        "start_time": "2022-06-09T09:35:13.851Z"
      },
      {
        "duration": 197,
        "start_time": "2022-06-09T09:35:42.568Z"
      },
      {
        "duration": 13,
        "start_time": "2022-06-09T09:36:26.174Z"
      },
      {
        "duration": 229,
        "start_time": "2022-06-09T09:36:38.063Z"
      },
      {
        "duration": 4,
        "start_time": "2022-06-09T09:42:41.946Z"
      },
      {
        "duration": 543,
        "start_time": "2022-06-09T09:42:41.952Z"
      },
      {
        "duration": 103,
        "start_time": "2022-06-09T09:42:42.497Z"
      },
      {
        "duration": 42,
        "start_time": "2022-06-09T09:42:42.602Z"
      },
      {
        "duration": 20,
        "start_time": "2022-06-09T09:42:42.647Z"
      },
      {
        "duration": 7,
        "start_time": "2022-06-09T09:42:42.668Z"
      },
      {
        "duration": 101,
        "start_time": "2022-06-09T09:42:42.677Z"
      },
      {
        "duration": 14,
        "start_time": "2022-06-09T09:42:42.780Z"
      },
      {
        "duration": 49,
        "start_time": "2022-06-09T09:42:42.797Z"
      },
      {
        "duration": 208,
        "start_time": "2022-06-09T09:42:42.847Z"
      },
      {
        "duration": 7,
        "start_time": "2022-06-09T09:42:43.057Z"
      },
      {
        "duration": 39,
        "start_time": "2022-06-09T09:42:43.065Z"
      },
      {
        "duration": 14,
        "start_time": "2022-06-09T09:42:43.122Z"
      },
      {
        "duration": 7,
        "start_time": "2022-06-09T09:42:43.138Z"
      },
      {
        "duration": 28,
        "start_time": "2022-06-09T09:42:43.147Z"
      },
      {
        "duration": 47,
        "start_time": "2022-06-09T09:42:43.177Z"
      },
      {
        "duration": 13,
        "start_time": "2022-06-09T09:42:43.225Z"
      },
      {
        "duration": 13,
        "start_time": "2022-06-09T09:42:43.240Z"
      },
      {
        "duration": 7,
        "start_time": "2022-06-09T09:42:43.254Z"
      },
      {
        "duration": 14,
        "start_time": "2022-06-09T09:42:43.263Z"
      },
      {
        "duration": 4,
        "start_time": "2022-06-09T09:42:43.279Z"
      },
      {
        "duration": 50,
        "start_time": "2022-06-09T09:42:43.284Z"
      },
      {
        "duration": 9,
        "start_time": "2022-06-09T09:42:43.336Z"
      },
      {
        "duration": 163,
        "start_time": "2022-06-09T09:42:43.346Z"
      },
      {
        "duration": 18,
        "start_time": "2022-06-09T09:42:43.511Z"
      },
      {
        "duration": 13,
        "start_time": "2022-06-09T09:42:43.530Z"
      },
      {
        "duration": 47,
        "start_time": "2022-06-09T09:42:43.544Z"
      },
      {
        "duration": 14,
        "start_time": "2022-06-09T09:42:43.592Z"
      },
      {
        "duration": 19,
        "start_time": "2022-06-09T09:42:43.625Z"
      },
      {
        "duration": 6,
        "start_time": "2022-06-09T09:42:43.645Z"
      },
      {
        "duration": 145,
        "start_time": "2022-06-09T09:42:43.653Z"
      },
      {
        "duration": 8,
        "start_time": "2022-06-09T09:42:43.799Z"
      },
      {
        "duration": 154,
        "start_time": "2022-06-09T09:42:43.809Z"
      },
      {
        "duration": 19,
        "start_time": "2022-06-09T09:42:43.965Z"
      },
      {
        "duration": 12,
        "start_time": "2022-06-09T09:42:43.986Z"
      },
      {
        "duration": 370,
        "start_time": "2022-06-09T09:42:44.000Z"
      },
      {
        "duration": 25,
        "start_time": "2022-06-09T09:42:44.372Z"
      },
      {
        "duration": 25,
        "start_time": "2022-06-09T09:42:44.398Z"
      },
      {
        "duration": 13,
        "start_time": "2022-06-09T09:42:44.424Z"
      },
      {
        "duration": 8,
        "start_time": "2022-06-09T09:42:44.439Z"
      },
      {
        "duration": 8,
        "start_time": "2022-06-09T09:42:44.448Z"
      },
      {
        "duration": 7,
        "start_time": "2022-06-09T09:42:44.457Z"
      },
      {
        "duration": 73,
        "start_time": "2022-06-09T09:42:44.466Z"
      },
      {
        "duration": 3,
        "start_time": "2022-06-09T09:42:44.541Z"
      },
      {
        "duration": 9,
        "start_time": "2022-06-09T09:42:44.546Z"
      },
      {
        "duration": 126,
        "start_time": "2022-06-09T09:51:43.400Z"
      },
      {
        "duration": 12,
        "start_time": "2022-06-09T09:55:24.659Z"
      },
      {
        "duration": 3,
        "start_time": "2022-06-09T09:56:37.666Z"
      },
      {
        "duration": 545,
        "start_time": "2022-06-09T09:56:37.679Z"
      },
      {
        "duration": 77,
        "start_time": "2022-06-09T09:56:38.226Z"
      },
      {
        "duration": 26,
        "start_time": "2022-06-09T09:56:38.323Z"
      },
      {
        "duration": 12,
        "start_time": "2022-06-09T09:56:38.351Z"
      },
      {
        "duration": 4,
        "start_time": "2022-06-09T09:56:38.364Z"
      },
      {
        "duration": 98,
        "start_time": "2022-06-09T09:56:38.370Z"
      },
      {
        "duration": 11,
        "start_time": "2022-06-09T09:56:38.469Z"
      },
      {
        "duration": 46,
        "start_time": "2022-06-09T09:56:38.482Z"
      },
      {
        "duration": 242,
        "start_time": "2022-06-09T09:56:38.530Z"
      },
      {
        "duration": 7,
        "start_time": "2022-06-09T09:56:38.775Z"
      },
      {
        "duration": 58,
        "start_time": "2022-06-09T09:56:38.784Z"
      },
      {
        "duration": 13,
        "start_time": "2022-06-09T09:56:38.844Z"
      },
      {
        "duration": 7,
        "start_time": "2022-06-09T09:56:38.859Z"
      },
      {
        "duration": 40,
        "start_time": "2022-06-09T09:56:38.868Z"
      },
      {
        "duration": 35,
        "start_time": "2022-06-09T09:56:38.910Z"
      },
      {
        "duration": 18,
        "start_time": "2022-06-09T09:56:38.947Z"
      },
      {
        "duration": 13,
        "start_time": "2022-06-09T09:56:38.968Z"
      },
      {
        "duration": 19,
        "start_time": "2022-06-09T09:56:38.985Z"
      },
      {
        "duration": 7,
        "start_time": "2022-06-09T09:56:39.024Z"
      },
      {
        "duration": 8,
        "start_time": "2022-06-09T09:56:39.033Z"
      },
      {
        "duration": 28,
        "start_time": "2022-06-09T09:56:39.042Z"
      },
      {
        "duration": 15,
        "start_time": "2022-06-09T09:56:39.072Z"
      },
      {
        "duration": 219,
        "start_time": "2022-06-09T09:56:39.090Z"
      },
      {
        "duration": 21,
        "start_time": "2022-06-09T09:56:39.311Z"
      },
      {
        "duration": 13,
        "start_time": "2022-06-09T09:56:39.334Z"
      },
      {
        "duration": 42,
        "start_time": "2022-06-09T09:56:39.349Z"
      },
      {
        "duration": 36,
        "start_time": "2022-06-09T09:56:39.393Z"
      },
      {
        "duration": 22,
        "start_time": "2022-06-09T09:56:39.432Z"
      },
      {
        "duration": 9,
        "start_time": "2022-06-09T09:56:39.456Z"
      },
      {
        "duration": 194,
        "start_time": "2022-06-09T09:56:39.466Z"
      },
      {
        "duration": 10,
        "start_time": "2022-06-09T09:56:39.662Z"
      },
      {
        "duration": 164,
        "start_time": "2022-06-09T09:56:39.674Z"
      },
      {
        "duration": 27,
        "start_time": "2022-06-09T09:56:39.840Z"
      },
      {
        "duration": 11,
        "start_time": "2022-06-09T09:56:39.869Z"
      },
      {
        "duration": 388,
        "start_time": "2022-06-09T09:56:39.882Z"
      },
      {
        "duration": 24,
        "start_time": "2022-06-09T09:56:40.272Z"
      },
      {
        "duration": 29,
        "start_time": "2022-06-09T09:56:40.298Z"
      },
      {
        "duration": 18,
        "start_time": "2022-06-09T09:56:40.329Z"
      },
      {
        "duration": 8,
        "start_time": "2022-06-09T09:56:40.349Z"
      },
      {
        "duration": 11,
        "start_time": "2022-06-09T09:56:40.359Z"
      },
      {
        "duration": 6,
        "start_time": "2022-06-09T09:56:40.372Z"
      },
      {
        "duration": 79,
        "start_time": "2022-06-09T09:56:40.379Z"
      },
      {
        "duration": 4,
        "start_time": "2022-06-09T09:56:40.459Z"
      },
      {
        "duration": 6,
        "start_time": "2022-06-09T09:56:40.464Z"
      },
      {
        "duration": 1297,
        "start_time": "2022-06-10T05:28:04.596Z"
      },
      {
        "duration": 1534,
        "start_time": "2022-06-10T05:28:05.895Z"
      },
      {
        "duration": 98,
        "start_time": "2022-06-10T05:28:07.431Z"
      },
      {
        "duration": 74,
        "start_time": "2022-06-10T05:28:07.532Z"
      },
      {
        "duration": 13,
        "start_time": "2022-06-10T05:28:07.608Z"
      },
      {
        "duration": 8,
        "start_time": "2022-06-10T05:28:07.623Z"
      },
      {
        "duration": 267,
        "start_time": "2022-06-10T05:28:07.632Z"
      },
      {
        "duration": 12,
        "start_time": "2022-06-10T05:28:07.901Z"
      },
      {
        "duration": 106,
        "start_time": "2022-06-10T05:28:07.914Z"
      },
      {
        "duration": 232,
        "start_time": "2022-06-10T05:28:08.024Z"
      },
      {
        "duration": 7,
        "start_time": "2022-06-10T05:28:08.259Z"
      },
      {
        "duration": 45,
        "start_time": "2022-06-10T05:28:08.267Z"
      },
      {
        "duration": 13,
        "start_time": "2022-06-10T05:28:08.314Z"
      },
      {
        "duration": 30,
        "start_time": "2022-06-10T05:28:08.329Z"
      },
      {
        "duration": 27,
        "start_time": "2022-06-10T05:28:08.361Z"
      },
      {
        "duration": 21,
        "start_time": "2022-06-10T05:28:08.389Z"
      },
      {
        "duration": 14,
        "start_time": "2022-06-10T05:28:08.412Z"
      },
      {
        "duration": 15,
        "start_time": "2022-06-10T05:28:08.458Z"
      },
      {
        "duration": 10,
        "start_time": "2022-06-10T05:28:08.475Z"
      },
      {
        "duration": 12,
        "start_time": "2022-06-10T05:28:08.486Z"
      },
      {
        "duration": 4,
        "start_time": "2022-06-10T05:28:08.500Z"
      },
      {
        "duration": 53,
        "start_time": "2022-06-10T05:28:08.506Z"
      },
      {
        "duration": 10,
        "start_time": "2022-06-10T05:28:08.561Z"
      },
      {
        "duration": 217,
        "start_time": "2022-06-10T05:28:08.574Z"
      },
      {
        "duration": 10,
        "start_time": "2022-06-10T05:28:08.792Z"
      },
      {
        "duration": 14,
        "start_time": "2022-06-10T05:28:08.804Z"
      },
      {
        "duration": 66,
        "start_time": "2022-06-10T05:28:08.819Z"
      },
      {
        "duration": 15,
        "start_time": "2022-06-10T05:28:08.889Z"
      },
      {
        "duration": 16,
        "start_time": "2022-06-10T05:28:08.906Z"
      },
      {
        "duration": 5,
        "start_time": "2022-06-10T05:28:08.924Z"
      },
      {
        "duration": 181,
        "start_time": "2022-06-10T05:28:08.930Z"
      },
      {
        "duration": 8,
        "start_time": "2022-06-10T05:28:09.112Z"
      },
      {
        "duration": 146,
        "start_time": "2022-06-10T05:28:09.121Z"
      },
      {
        "duration": 20,
        "start_time": "2022-06-10T05:28:09.268Z"
      },
      {
        "duration": 10,
        "start_time": "2022-06-10T05:28:09.290Z"
      },
      {
        "duration": 394,
        "start_time": "2022-06-10T05:28:09.302Z"
      },
      {
        "duration": 27,
        "start_time": "2022-06-10T05:28:09.698Z"
      },
      {
        "duration": 173,
        "start_time": "2022-06-10T05:28:09.726Z"
      },
      {
        "duration": 11,
        "start_time": "2022-06-10T05:28:09.901Z"
      },
      {
        "duration": 11,
        "start_time": "2022-06-10T05:28:09.913Z"
      },
      {
        "duration": 36,
        "start_time": "2022-06-10T05:28:09.926Z"
      },
      {
        "duration": 15,
        "start_time": "2022-06-10T05:28:09.964Z"
      },
      {
        "duration": 93,
        "start_time": "2022-06-10T05:28:09.980Z"
      },
      {
        "duration": 4,
        "start_time": "2022-06-10T05:28:10.075Z"
      },
      {
        "duration": 17,
        "start_time": "2022-06-10T05:28:10.081Z"
      }
    ],
    "kernelspec": {
      "display_name": "Python 3 (ipykernel)",
      "language": "python",
      "name": "python3"
    },
    "language_info": {
      "codemirror_mode": {
        "name": "ipython",
        "version": 3
      },
      "file_extension": ".py",
      "mimetype": "text/x-python",
      "name": "python",
      "nbconvert_exporter": "python",
      "pygments_lexer": "ipython3",
      "version": "3.9.5"
    },
    "toc": {
      "base_numbering": 1,
      "nav_menu": {},
      "number_sections": true,
      "sideBar": true,
      "skip_h1_title": true,
      "title_cell": "Table of Contents",
      "title_sidebar": "Contents",
      "toc_cell": false,
      "toc_position": {},
      "toc_section_display": true,
      "toc_window_display": false
    },
    "colab": {
      "name": "А/В-тестирование.ipynb",
      "provenance": [],
      "collapsed_sections": []
    }
  },
  "nbformat": 4,
  "nbformat_minor": 0
}